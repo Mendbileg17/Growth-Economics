{
 "cells": [
  {
   "cell_type": "code",
   "execution_count": 1,
   "id": "aef993e7",
   "metadata": {},
   "outputs": [],
   "source": [
    "import pandas as pd\n",
    "import numpy as np \n",
    "import matplotlib.pyplot as plt\n",
    "import statsmodels.api as sm"
   ]
  },
  {
   "cell_type": "code",
   "execution_count": 2,
   "id": "861a413c",
   "metadata": {},
   "outputs": [],
   "source": [
    "df = pd.read_excel(r'D:\\6th Semester\\ECN436 Risk Management and Financial Econometrics\\COURSEWORK\\CourseWork - 7\\Oljas diplom data.xlsx', sheet_name = 'Sheet5')"
   ]
  },
  {
   "cell_type": "code",
   "execution_count": 3,
   "id": "f800d677",
   "metadata": {},
   "outputs": [],
   "source": [
    "df = df.dropna()"
   ]
  },
  {
   "cell_type": "code",
   "execution_count": 4,
   "id": "fd4628a6",
   "metadata": {},
   "outputs": [],
   "source": [
    "df = df.sample(100)"
   ]
  },
  {
   "cell_type": "code",
   "execution_count": 5,
   "id": "e581efe8",
   "metadata": {},
   "outputs": [],
   "source": [
    "df.columns = df.columns.str.lower()"
   ]
  },
  {
   "cell_type": "code",
   "execution_count": 6,
   "id": "09467b93",
   "metadata": {},
   "outputs": [],
   "source": [
    "df = pd.read_excel(r'D:\\6th Semester\\ECN436 Risk Management and Financial Econometrics\\COURSEWORK\\CourseWork - 7\\Oljas diplom data.xlsx', sheet_name = 'Sheet7')"
   ]
  },
  {
   "cell_type": "code",
   "execution_count": 7,
   "id": "e596c29b",
   "metadata": {},
   "outputs": [],
   "source": [
    "df['олгосон дүн'] = df['олгосон дүн'].astype(float)"
   ]
  },
  {
   "cell_type": "code",
   "execution_count": 8,
   "id": "ebc952b4",
   "metadata": {},
   "outputs": [],
   "source": [
    "df['хугацаа'] = df['дуусах огноо'] - df['эхлэх огноо']\n",
    "df['хугацаа'] = df['хугацаа'].astype(str)"
   ]
  },
  {
   "cell_type": "code",
   "execution_count": 9,
   "id": "01fe3b70",
   "metadata": {},
   "outputs": [],
   "source": [
    "time = df['хугацаа'].str.split(' ', expand = True)\n",
    "time = time.loc[:,[0]]\n",
    "time = time.rename(columns = {0:'хугацаа1'})"
   ]
  },
  {
   "cell_type": "code",
   "execution_count": 10,
   "id": "0976833a",
   "metadata": {},
   "outputs": [],
   "source": [
    "df = pd.concat([df,time], axis = 1)"
   ]
  },
  {
   "cell_type": "code",
   "execution_count": 11,
   "id": "d27cab43",
   "metadata": {},
   "outputs": [],
   "source": [
    "df['хугацаа1'] = df['хугацаа1'].astype(int)"
   ]
  },
  {
   "cell_type": "code",
   "execution_count": 12,
   "id": "e2f71db8",
   "metadata": {},
   "outputs": [
    {
     "data": {
      "text/html": [
       "<div>\n",
       "<style scoped>\n",
       "    .dataframe tbody tr th:only-of-type {\n",
       "        vertical-align: middle;\n",
       "    }\n",
       "\n",
       "    .dataframe tbody tr th {\n",
       "        vertical-align: top;\n",
       "    }\n",
       "\n",
       "    .dataframe thead th {\n",
       "        text-align: right;\n",
       "    }\n",
       "</style>\n",
       "<table border=\"1\" class=\"dataframe\">\n",
       "  <thead>\n",
       "    <tr style=\"text-align: right;\">\n",
       "      <th></th>\n",
       "      <th>Unnamed: 0</th>\n",
       "      <th>д/д</th>\n",
       "      <th>хугацаа хэтэрсэн хоног</th>\n",
       "      <th>олгосон дүн</th>\n",
       "      <th>өрхийн гишүүдийн тоо</th>\n",
       "      <th>нас</th>\n",
       "      <th>нийт ажилласан жил</th>\n",
       "      <th>нийт ажилласан байгууллагын тоо</th>\n",
       "      <th>орлого</th>\n",
       "      <th>хугацаа1</th>\n",
       "    </tr>\n",
       "  </thead>\n",
       "  <tbody>\n",
       "    <tr>\n",
       "      <th>count</th>\n",
       "      <td>100.000000</td>\n",
       "      <td>100.000000</td>\n",
       "      <td>100.000000</td>\n",
       "      <td>1.000000e+02</td>\n",
       "      <td>100.000000</td>\n",
       "      <td>100.000000</td>\n",
       "      <td>100.000000</td>\n",
       "      <td>100.000000</td>\n",
       "      <td>1.000000e+02</td>\n",
       "      <td>100.000000</td>\n",
       "    </tr>\n",
       "    <tr>\n",
       "      <th>mean</th>\n",
       "      <td>72.880000</td>\n",
       "      <td>73.880000</td>\n",
       "      <td>112.160000</td>\n",
       "      <td>3.525810e+06</td>\n",
       "      <td>3.690000</td>\n",
       "      <td>40.590000</td>\n",
       "      <td>8.877000</td>\n",
       "      <td>1.240000</td>\n",
       "      <td>6.733532e+05</td>\n",
       "      <td>783.140000</td>\n",
       "    </tr>\n",
       "    <tr>\n",
       "      <th>std</th>\n",
       "      <td>43.350179</td>\n",
       "      <td>43.350179</td>\n",
       "      <td>177.833807</td>\n",
       "      <td>2.716582e+06</td>\n",
       "      <td>1.383123</td>\n",
       "      <td>11.559329</td>\n",
       "      <td>10.146093</td>\n",
       "      <td>0.985962</td>\n",
       "      <td>1.430342e+06</td>\n",
       "      <td>726.271439</td>\n",
       "    </tr>\n",
       "    <tr>\n",
       "      <th>min</th>\n",
       "      <td>1.000000</td>\n",
       "      <td>2.000000</td>\n",
       "      <td>0.000000</td>\n",
       "      <td>1.200000e+05</td>\n",
       "      <td>1.000000</td>\n",
       "      <td>21.000000</td>\n",
       "      <td>0.000000</td>\n",
       "      <td>0.000000</td>\n",
       "      <td>0.000000e+00</td>\n",
       "      <td>122.000000</td>\n",
       "    </tr>\n",
       "    <tr>\n",
       "      <th>25%</th>\n",
       "      <td>40.750000</td>\n",
       "      <td>41.750000</td>\n",
       "      <td>1.000000</td>\n",
       "      <td>1.290000e+06</td>\n",
       "      <td>3.000000</td>\n",
       "      <td>32.750000</td>\n",
       "      <td>2.000000</td>\n",
       "      <td>1.000000</td>\n",
       "      <td>1.479875e+05</td>\n",
       "      <td>366.000000</td>\n",
       "    </tr>\n",
       "    <tr>\n",
       "      <th>50%</th>\n",
       "      <td>71.500000</td>\n",
       "      <td>72.500000</td>\n",
       "      <td>15.000000</td>\n",
       "      <td>2.900000e+06</td>\n",
       "      <td>4.000000</td>\n",
       "      <td>39.500000</td>\n",
       "      <td>4.000000</td>\n",
       "      <td>1.000000</td>\n",
       "      <td>3.499750e+05</td>\n",
       "      <td>730.000000</td>\n",
       "    </tr>\n",
       "    <tr>\n",
       "      <th>75%</th>\n",
       "      <td>99.250000</td>\n",
       "      <td>100.250000</td>\n",
       "      <td>156.250000</td>\n",
       "      <td>5.000000e+06</td>\n",
       "      <td>5.000000</td>\n",
       "      <td>47.500000</td>\n",
       "      <td>15.000000</td>\n",
       "      <td>2.000000</td>\n",
       "      <td>5.030858e+05</td>\n",
       "      <td>810.250000</td>\n",
       "    </tr>\n",
       "    <tr>\n",
       "      <th>max</th>\n",
       "      <td>149.000000</td>\n",
       "      <td>150.000000</td>\n",
       "      <td>611.000000</td>\n",
       "      <td>1.000000e+07</td>\n",
       "      <td>7.000000</td>\n",
       "      <td>71.000000</td>\n",
       "      <td>43.000000</td>\n",
       "      <td>5.000000</td>\n",
       "      <td>9.393250e+06</td>\n",
       "      <td>5479.000000</td>\n",
       "    </tr>\n",
       "  </tbody>\n",
       "</table>\n",
       "</div>"
      ],
      "text/plain": [
       "       Unnamed: 0         д/д  хугацаа хэтэрсэн хоног   олгосон дүн  \\\n",
       "count  100.000000  100.000000              100.000000  1.000000e+02   \n",
       "mean    72.880000   73.880000              112.160000  3.525810e+06   \n",
       "std     43.350179   43.350179              177.833807  2.716582e+06   \n",
       "min      1.000000    2.000000                0.000000  1.200000e+05   \n",
       "25%     40.750000   41.750000                1.000000  1.290000e+06   \n",
       "50%     71.500000   72.500000               15.000000  2.900000e+06   \n",
       "75%     99.250000  100.250000              156.250000  5.000000e+06   \n",
       "max    149.000000  150.000000              611.000000  1.000000e+07   \n",
       "\n",
       "       өрхийн гишүүдийн тоо         нас  нийт ажилласан жил  \\\n",
       "count            100.000000  100.000000          100.000000   \n",
       "mean               3.690000   40.590000            8.877000   \n",
       "std                1.383123   11.559329           10.146093   \n",
       "min                1.000000   21.000000            0.000000   \n",
       "25%                3.000000   32.750000            2.000000   \n",
       "50%                4.000000   39.500000            4.000000   \n",
       "75%                5.000000   47.500000           15.000000   \n",
       "max                7.000000   71.000000           43.000000   \n",
       "\n",
       "       нийт ажилласан байгууллагын тоо        орлого     хугацаа1  \n",
       "count                       100.000000  1.000000e+02   100.000000  \n",
       "mean                          1.240000  6.733532e+05   783.140000  \n",
       "std                           0.985962  1.430342e+06   726.271439  \n",
       "min                           0.000000  0.000000e+00   122.000000  \n",
       "25%                           1.000000  1.479875e+05   366.000000  \n",
       "50%                           1.000000  3.499750e+05   730.000000  \n",
       "75%                           2.000000  5.030858e+05   810.250000  \n",
       "max                           5.000000  9.393250e+06  5479.000000  "
      ]
     },
     "execution_count": 12,
     "metadata": {},
     "output_type": "execute_result"
    }
   ],
   "source": [
    "df.describe()"
   ]
  },
  {
   "cell_type": "code",
   "execution_count": 13,
   "id": "906e0f4b",
   "metadata": {},
   "outputs": [
    {
     "data": {
      "text/plain": [
       "Index(['Unnamed: 0', 'д/д', 'эхлэх огноо', 'дуусах огноо',\n",
       "       'хугацаа хэтэрсэн хоног', 'олгосон дүн', 'өрхийн гишүүдийн тоо', 'хүйс',\n",
       "       'боловсрол', 'нас', 'байгууллагын ангилал', 'нийт ажилласан жил',\n",
       "       'нийт ажилласан байгууллагын тоо', 'орон байр өөрийнх эсэх', 'орлого',\n",
       "       'өмнөх зээл хугацаа хэтэрсэн эсэх',\n",
       "       'одоо авсан зээлийг гэрээний бүтцэд өөрчлөлт оруулсан эсэх', 'хугацаа',\n",
       "       'хугацаа1'],\n",
       "      dtype='object')"
      ]
     },
     "execution_count": 13,
     "metadata": {},
     "output_type": "execute_result"
    }
   ],
   "source": [
    "df.columns"
   ]
  },
  {
   "cell_type": "code",
   "execution_count": 14,
   "id": "3c7a4c41",
   "metadata": {},
   "outputs": [],
   "source": [
    "df_new = df.loc[:,['хугацаа хэтэрсэн хоног','олгосон дүн','өрхийн гишүүдийн тоо','хүйс','боловсрол','нас','байгууллагын ангилал','нийт ажилласан жил','нийт ажилласан байгууллагын тоо','орон байр өөрийнх эсэх','орлого','өмнөх зээл хугацаа хэтэрсэн эсэх','одоо авсан зээлийг гэрээний бүтцэд өөрчлөлт оруулсан эсэх','хугацаа1']]"
   ]
  },
  {
   "cell_type": "code",
   "execution_count": 15,
   "id": "2ee388c0",
   "metadata": {},
   "outputs": [
    {
     "data": {
      "text/html": [
       "<div>\n",
       "<style scoped>\n",
       "    .dataframe tbody tr th:only-of-type {\n",
       "        vertical-align: middle;\n",
       "    }\n",
       "\n",
       "    .dataframe tbody tr th {\n",
       "        vertical-align: top;\n",
       "    }\n",
       "\n",
       "    .dataframe thead th {\n",
       "        text-align: right;\n",
       "    }\n",
       "</style>\n",
       "<table border=\"1\" class=\"dataframe\">\n",
       "  <thead>\n",
       "    <tr style=\"text-align: right;\">\n",
       "      <th></th>\n",
       "      <th>хугацаа хэтэрсэн хоног</th>\n",
       "      <th>олгосон дүн</th>\n",
       "      <th>өрхийн гишүүдийн тоо</th>\n",
       "      <th>нас</th>\n",
       "      <th>нийт ажилласан жил</th>\n",
       "      <th>нийт ажилласан байгууллагын тоо</th>\n",
       "      <th>орлого</th>\n",
       "      <th>хугацаа1</th>\n",
       "    </tr>\n",
       "  </thead>\n",
       "  <tbody>\n",
       "    <tr>\n",
       "      <th>count</th>\n",
       "      <td>100.000000</td>\n",
       "      <td>1.000000e+02</td>\n",
       "      <td>100.000000</td>\n",
       "      <td>100.000000</td>\n",
       "      <td>100.000000</td>\n",
       "      <td>100.000000</td>\n",
       "      <td>1.000000e+02</td>\n",
       "      <td>100.000000</td>\n",
       "    </tr>\n",
       "    <tr>\n",
       "      <th>mean</th>\n",
       "      <td>112.160000</td>\n",
       "      <td>3.525810e+06</td>\n",
       "      <td>3.690000</td>\n",
       "      <td>40.590000</td>\n",
       "      <td>8.877000</td>\n",
       "      <td>1.240000</td>\n",
       "      <td>6.733532e+05</td>\n",
       "      <td>783.140000</td>\n",
       "    </tr>\n",
       "    <tr>\n",
       "      <th>std</th>\n",
       "      <td>177.833807</td>\n",
       "      <td>2.716582e+06</td>\n",
       "      <td>1.383123</td>\n",
       "      <td>11.559329</td>\n",
       "      <td>10.146093</td>\n",
       "      <td>0.985962</td>\n",
       "      <td>1.430342e+06</td>\n",
       "      <td>726.271439</td>\n",
       "    </tr>\n",
       "    <tr>\n",
       "      <th>min</th>\n",
       "      <td>0.000000</td>\n",
       "      <td>1.200000e+05</td>\n",
       "      <td>1.000000</td>\n",
       "      <td>21.000000</td>\n",
       "      <td>0.000000</td>\n",
       "      <td>0.000000</td>\n",
       "      <td>0.000000e+00</td>\n",
       "      <td>122.000000</td>\n",
       "    </tr>\n",
       "    <tr>\n",
       "      <th>25%</th>\n",
       "      <td>1.000000</td>\n",
       "      <td>1.290000e+06</td>\n",
       "      <td>3.000000</td>\n",
       "      <td>32.750000</td>\n",
       "      <td>2.000000</td>\n",
       "      <td>1.000000</td>\n",
       "      <td>1.479875e+05</td>\n",
       "      <td>366.000000</td>\n",
       "    </tr>\n",
       "    <tr>\n",
       "      <th>50%</th>\n",
       "      <td>15.000000</td>\n",
       "      <td>2.900000e+06</td>\n",
       "      <td>4.000000</td>\n",
       "      <td>39.500000</td>\n",
       "      <td>4.000000</td>\n",
       "      <td>1.000000</td>\n",
       "      <td>3.499750e+05</td>\n",
       "      <td>730.000000</td>\n",
       "    </tr>\n",
       "    <tr>\n",
       "      <th>75%</th>\n",
       "      <td>156.250000</td>\n",
       "      <td>5.000000e+06</td>\n",
       "      <td>5.000000</td>\n",
       "      <td>47.500000</td>\n",
       "      <td>15.000000</td>\n",
       "      <td>2.000000</td>\n",
       "      <td>5.030858e+05</td>\n",
       "      <td>810.250000</td>\n",
       "    </tr>\n",
       "    <tr>\n",
       "      <th>max</th>\n",
       "      <td>611.000000</td>\n",
       "      <td>1.000000e+07</td>\n",
       "      <td>7.000000</td>\n",
       "      <td>71.000000</td>\n",
       "      <td>43.000000</td>\n",
       "      <td>5.000000</td>\n",
       "      <td>9.393250e+06</td>\n",
       "      <td>5479.000000</td>\n",
       "    </tr>\n",
       "  </tbody>\n",
       "</table>\n",
       "</div>"
      ],
      "text/plain": [
       "       хугацаа хэтэрсэн хоног   олгосон дүн  өрхийн гишүүдийн тоо         нас  \\\n",
       "count              100.000000  1.000000e+02            100.000000  100.000000   \n",
       "mean               112.160000  3.525810e+06              3.690000   40.590000   \n",
       "std                177.833807  2.716582e+06              1.383123   11.559329   \n",
       "min                  0.000000  1.200000e+05              1.000000   21.000000   \n",
       "25%                  1.000000  1.290000e+06              3.000000   32.750000   \n",
       "50%                 15.000000  2.900000e+06              4.000000   39.500000   \n",
       "75%                156.250000  5.000000e+06              5.000000   47.500000   \n",
       "max                611.000000  1.000000e+07              7.000000   71.000000   \n",
       "\n",
       "       нийт ажилласан жил  нийт ажилласан байгууллагын тоо        орлого  \\\n",
       "count          100.000000                       100.000000  1.000000e+02   \n",
       "mean             8.877000                         1.240000  6.733532e+05   \n",
       "std             10.146093                         0.985962  1.430342e+06   \n",
       "min              0.000000                         0.000000  0.000000e+00   \n",
       "25%              2.000000                         1.000000  1.479875e+05   \n",
       "50%              4.000000                         1.000000  3.499750e+05   \n",
       "75%             15.000000                         2.000000  5.030858e+05   \n",
       "max             43.000000                         5.000000  9.393250e+06   \n",
       "\n",
       "          хугацаа1  \n",
       "count   100.000000  \n",
       "mean    783.140000  \n",
       "std     726.271439  \n",
       "min     122.000000  \n",
       "25%     366.000000  \n",
       "50%     730.000000  \n",
       "75%     810.250000  \n",
       "max    5479.000000  "
      ]
     },
     "execution_count": 15,
     "metadata": {},
     "output_type": "execute_result"
    }
   ],
   "source": [
    "df_new.describe()"
   ]
  },
  {
   "cell_type": "code",
   "execution_count": 16,
   "id": "e9246f7a",
   "metadata": {},
   "outputs": [],
   "source": [
    "df_new.reset_index(inplace = True)"
   ]
  },
  {
   "cell_type": "code",
   "execution_count": 17,
   "id": "43e0de55",
   "metadata": {},
   "outputs": [],
   "source": [
    "del df_new['index']"
   ]
  },
  {
   "cell_type": "code",
   "execution_count": 18,
   "id": "fd4c30b7",
   "metadata": {},
   "outputs": [],
   "source": [
    "df_new = df_new.rename(columns = {\n",
    "    'хугацаа хэтэрсэн хоног':'late',\n",
    "    'олгосон дүн':'loan',\n",
    "    'өрхийн гишүүдийн тоо':'family_members',\n",
    "    'хүйс':'gender',\n",
    "    'боловсрол':'education',\n",
    "    'нас':'age',\n",
    "    'байгууллагын ангилал':'job',\n",
    "    'нийт ажилласан жил':'experience',\n",
    "    'нийт ажилласан байгууллагын тоо':'worked_org',\n",
    "    'орон байр өөрийнх эсэх':'house',\n",
    "    'орлого':'income',\n",
    "    'өмнөх зээл хугацаа хэтэрсэн эсэх':'overdue',\n",
    "    'одоо авсан зээлийг гэрээний бүтцэд өөрчлөлт оруулсан эсэх':'contract',\n",
    "    'хугацаа1':'time'\n",
    "})"
   ]
  },
  {
   "cell_type": "code",
   "execution_count": 19,
   "id": "36c6de65",
   "metadata": {},
   "outputs": [],
   "source": [
    "gender = pd.get_dummies(df_new['gender'])\n",
    "educ = pd.get_dummies(df_new['education'])\n",
    "job = pd.get_dummies(df_new['job'])\n",
    "house = pd.get_dummies(df_new['house'])\n",
    "overdue = pd.get_dummies(df_new['overdue'])\n",
    "contract = pd.get_dummies(df_new['contract'])"
   ]
  },
  {
   "cell_type": "code",
   "execution_count": 20,
   "id": "b3b2d14e",
   "metadata": {},
   "outputs": [],
   "source": [
    "#Хүйс\n",
    "gender = gender.rename(columns = {'Эр':'gender_m','Эм':'gender_f'})\n",
    "gender = gender.loc[:,['gender_f']]"
   ]
  },
  {
   "cell_type": "code",
   "execution_count": 21,
   "id": "b648df08",
   "metadata": {},
   "outputs": [],
   "source": [
    "#Боловсрол\n",
    "#edu1 = pd.DataFrame(educ.loc[:,['Бага','Боловсролгүй','Бүрэн дунд','Дунд']].sum(axis = 1), columns = ['edu_lower'])\n",
    "edu2 = pd.DataFrame(educ.loc[:,['Дээд','Техник мэргэжлийнх']].sum(axis = 1), columns = ['edu_high'])\n",
    "#edu = pd.concat([edu1,edu2], axis = 1)"
   ]
  },
  {
   "cell_type": "code",
   "execution_count": 22,
   "id": "c8df341b",
   "metadata": {},
   "outputs": [],
   "source": [
    "#Ажил эрхлэлт\n",
    "#job1 = pd.DataFrame(job.loc[:,['Ажилгүй','мал малладаг']].sum(axis = 1), columns = ['no_job'])\n",
    "job2 = pd.DataFrame(job.loc[:,['Төрийн оролцоотой байгууллага','Төрийн үйлчилгээний байгууллага','Хувийн бизнес эрхлэдэг','Хувийн дунд зэрэг байгууллага','Хувийн жижиг байгууллага','Хувийн томоохон байгууллага']].sum(axis = 1), columns = ['has_job'])\n",
    "#job_new = pd.concat([job1, job2], axis = 1)"
   ]
  },
  {
   "cell_type": "code",
   "execution_count": 23,
   "id": "cbd42d1b",
   "metadata": {},
   "outputs": [],
   "source": [
    "#Өөрийн байртай эсэх\n",
    "house1 = pd.DataFrame(house.loc[:,['Өөрийн']].sum(axis = 1), columns = ['house1'])\n",
    "house2 = pd.DataFrame(house.loc[:,['Түрээсийн']].sum(axis = 1), columns = ['house2'])\n",
    "house3 = pd.DataFrame(house.loc[:,['Садан төрлийн','Эцэг, эхийн']].sum(axis = 1), columns = ['house3'])\n",
    "house_new = pd.concat([house1, house2, house3], axis = 1)"
   ]
  },
  {
   "cell_type": "code",
   "execution_count": 24,
   "id": "e4195e1a",
   "metadata": {},
   "outputs": [],
   "source": [
    "#Хугацаа хэтэрсэн эсэх\n",
    "#overdue1 = pd.DataFrame(overdue.loc[:,['Тийм','Хугацаа хэтэрсэн']].sum(axis = 1), columns = ['overdue'])\n",
    "overdue2 = pd.DataFrame(overdue.loc[:,['Хугацаа хэтрээгүй']].sum(axis = 1), columns = ['not_overdue'])\n",
    "#overdue_new = pd.concat([overdue1, overdue2], axis = 1)"
   ]
  },
  {
   "cell_type": "code",
   "execution_count": 25,
   "id": "71aeccbd",
   "metadata": {},
   "outputs": [],
   "source": [
    "#Зээлийн гэрээнд өөрчлөлт орсон эсэх\n",
    "contract1 = pd.DataFrame(contract.loc[:,['Тийм']].sum(axis = 1), columns = ['contract_yes'])\n",
    "#contract2 = pd.DataFrame(contract.loc[:,['Үгүй','үгүй']].sum(axis = 1), columns = ['contract_no'])\n",
    "#contract_new = pd.concat([contract1,contract2], axis = 1)"
   ]
  },
  {
   "cell_type": "code",
   "execution_count": 26,
   "id": "5f1287be",
   "metadata": {},
   "outputs": [],
   "source": [
    "numerical = df_new.loc[:,['late','loan','family_members','age','experience','worked_org','income','time']]"
   ]
  },
  {
   "cell_type": "code",
   "execution_count": 27,
   "id": "ba63d201",
   "metadata": {},
   "outputs": [],
   "source": [
    "data = pd.concat([numerical,gender,edu2,job2,house_new,overdue2,contract1], axis = 1)"
   ]
  },
  {
   "cell_type": "code",
   "execution_count": 28,
   "id": "305c42e9",
   "metadata": {},
   "outputs": [],
   "source": [
    "age1 = data[data['age'] <= 25].loc[:,['age']]\n",
    "age1 = age1.rename(columns = {'age':'age1'})\n",
    "age1.loc[(age1['age1'] <= 25)] = 1\n",
    "\n",
    "age2 = data[(data['age'] > 25) & (data['age'] <= 35)].loc[:,['age']]\n",
    "age2 = age2.rename(columns = {'age':'age2'})\n",
    "age2.loc[(age2['age2'] > 25) & (age2['age2'] <=35), 'age2'] = 1\n",
    "\n",
    "age3 = data[(data['age'] > 35) & (data['age'] <= 45)].loc[:,['age']]\n",
    "age3 = age3.rename(columns = {'age':'age3'})\n",
    "age3.loc[(age3['age3'] > 35) & (age3['age3'] <= 45), 'age3'] = 1\n",
    "\n",
    "age4 = data[data['age'] > 45].loc[:,['age']]\n",
    "age4 = age4.rename(columns = {'age':'age4'})\n",
    "age4.loc[(age4['age4'] > 45)] = 1"
   ]
  },
  {
   "cell_type": "code",
   "execution_count": 29,
   "id": "ea6565e6",
   "metadata": {},
   "outputs": [],
   "source": [
    "del data['age']"
   ]
  },
  {
   "cell_type": "code",
   "execution_count": 30,
   "id": "dfda8191",
   "metadata": {},
   "outputs": [],
   "source": [
    "data = pd.concat([data,age1,age2,age3,age4], axis = 1)"
   ]
  },
  {
   "cell_type": "code",
   "execution_count": 31,
   "id": "26c04ac9",
   "metadata": {},
   "outputs": [],
   "source": [
    "data['age1'] = data['age1'].fillna(0)\n",
    "data['age2'] = data['age2'].fillna(0)\n",
    "data['age3'] = data['age3'].fillna(0)\n",
    "data['age4'] = data['age4'].fillna(0)"
   ]
  },
  {
   "cell_type": "code",
   "execution_count": 32,
   "id": "f73a5591",
   "metadata": {},
   "outputs": [],
   "source": [
    "data['age1'] = data['age1'].astype(int)\n",
    "data['age2'] = data['age2'].astype(int)\n",
    "data['age3'] = data['age3'].astype(int)\n",
    "data['age4'] = data['age4'].astype(int)"
   ]
  },
  {
   "cell_type": "code",
   "execution_count": 33,
   "id": "7d929bbc",
   "metadata": {},
   "outputs": [
    {
     "data": {
      "text/plain": [
       "Index(['late', 'loan', 'family_members', 'experience', 'worked_org', 'income',\n",
       "       'time', 'gender_f', 'edu_high', 'has_job', 'house1', 'house2', 'house3',\n",
       "       'not_overdue', 'contract_yes', 'age1', 'age2', 'age3', 'age4'],\n",
       "      dtype='object')"
      ]
     },
     "execution_count": 33,
     "metadata": {},
     "output_type": "execute_result"
    }
   ],
   "source": [
    "data.columns"
   ]
  },
  {
   "cell_type": "code",
   "execution_count": 34,
   "id": "314f08f2",
   "metadata": {},
   "outputs": [
    {
     "name": "stdout",
     "output_type": "stream",
     "text": [
      "Model1 \"R квадрат нь\": 0.25707799040585955\n"
     ]
    }
   ],
   "source": [
    "#OLS MODEL\n",
    "y = data[['late']]\n",
    "x = data[['loan','family_members', 'experience', 'worked_org', 'income','gender_f', 'edu_high', 'has_job','house1', 'house2', 'house3', 'not_overdue','contract_yes', 'age1', 'age2', 'age3', 'age4']]\n",
    "x = sm.add_constant(x)\n",
    "\n",
    "\n",
    "model = sm.OLS(y,x).fit()\n",
    "\n",
    "\n",
    "#Парамертүүдийг ялгаж авах\n",
    "params = pd.DataFrame(model.params, columns = ['Коэффициент'])\n",
    "std = pd.DataFrame(model.bse, columns = ['Стандарт алдаа'])\n",
    "t_stat = pd.DataFrame(model.tvalues, columns = ['t статистик'])\n",
    "p_value = pd.DataFrame(model.pvalues, columns = ['Магадлал'])\n",
    "rsquared = model.rsquared\n",
    "\n",
    "#Dataframe болгох\n",
    "model_df = pd.concat([params,std,t_stat,p_value], axis = 1)\n",
    "\n",
    "\n",
    "#Коэффициеэт тохируулах\n",
    "model_df['Коэффициент'] = model_df['Коэффициент'].astype(np.float64)\n",
    "model_df['Стандарт алдаа'] = model_df['Стандарт алдаа'].astype(np.float64)\n",
    "model_df['t статистик'] = model_df['t статистик'].astype(np.float64)\n",
    "model_df['Магадлал'] = model_df['Магадлал'].astype(np.float64)\n",
    "\n",
    "print(f'Model1 \"R квадрат нь\": {rsquared}')\n",
    "model_df.to_clipboard()"
   ]
  },
  {
   "cell_type": "code",
   "execution_count": 35,
   "id": "17dc543a",
   "metadata": {},
   "outputs": [
    {
     "data": {
      "text/html": [
       "<div>\n",
       "<style scoped>\n",
       "    .dataframe tbody tr th:only-of-type {\n",
       "        vertical-align: middle;\n",
       "    }\n",
       "\n",
       "    .dataframe tbody tr th {\n",
       "        vertical-align: top;\n",
       "    }\n",
       "\n",
       "    .dataframe thead th {\n",
       "        text-align: right;\n",
       "    }\n",
       "</style>\n",
       "<table border=\"1\" class=\"dataframe\">\n",
       "  <thead>\n",
       "    <tr style=\"text-align: right;\">\n",
       "      <th></th>\n",
       "      <th>Коэффициент</th>\n",
       "      <th>Стандарт алдаа</th>\n",
       "      <th>t статистик</th>\n",
       "      <th>Магадлал</th>\n",
       "    </tr>\n",
       "  </thead>\n",
       "  <tbody>\n",
       "    <tr>\n",
       "      <th>const</th>\n",
       "      <td>136.149280</td>\n",
       "      <td>49.722939</td>\n",
       "      <td>2.738158</td>\n",
       "      <td>0.007541</td>\n",
       "    </tr>\n",
       "    <tr>\n",
       "      <th>loan</th>\n",
       "      <td>0.000012</td>\n",
       "      <td>0.000007</td>\n",
       "      <td>1.613315</td>\n",
       "      <td>0.110427</td>\n",
       "    </tr>\n",
       "    <tr>\n",
       "      <th>family_members</th>\n",
       "      <td>-28.504331</td>\n",
       "      <td>13.726972</td>\n",
       "      <td>-2.076520</td>\n",
       "      <td>0.040902</td>\n",
       "    </tr>\n",
       "    <tr>\n",
       "      <th>experience</th>\n",
       "      <td>-3.554541</td>\n",
       "      <td>2.255435</td>\n",
       "      <td>-1.575989</td>\n",
       "      <td>0.118787</td>\n",
       "    </tr>\n",
       "    <tr>\n",
       "      <th>income</th>\n",
       "      <td>-0.000025</td>\n",
       "      <td>0.000013</td>\n",
       "      <td>-1.874328</td>\n",
       "      <td>0.064361</td>\n",
       "    </tr>\n",
       "    <tr>\n",
       "      <th>house1</th>\n",
       "      <td>60.661343</td>\n",
       "      <td>33.823805</td>\n",
       "      <td>1.793451</td>\n",
       "      <td>0.076500</td>\n",
       "    </tr>\n",
       "    <tr>\n",
       "      <th>house3</th>\n",
       "      <td>94.479932</td>\n",
       "      <td>46.357513</td>\n",
       "      <td>2.038072</td>\n",
       "      <td>0.044689</td>\n",
       "    </tr>\n",
       "    <tr>\n",
       "      <th>contract_yes</th>\n",
       "      <td>144.902156</td>\n",
       "      <td>60.306539</td>\n",
       "      <td>2.402760</td>\n",
       "      <td>0.018475</td>\n",
       "    </tr>\n",
       "    <tr>\n",
       "      <th>age3</th>\n",
       "      <td>79.575729</td>\n",
       "      <td>34.304701</td>\n",
       "      <td>2.319674</td>\n",
       "      <td>0.022786</td>\n",
       "    </tr>\n",
       "  </tbody>\n",
       "</table>\n",
       "</div>"
      ],
      "text/plain": [
       "                Коэффициент  Стандарт алдаа  t статистик  Магадлал\n",
       "const            136.149280       49.722939     2.738158  0.007541\n",
       "loan               0.000012        0.000007     1.613315  0.110427\n",
       "family_members   -28.504331       13.726972    -2.076520  0.040902\n",
       "experience        -3.554541        2.255435    -1.575989  0.118787\n",
       "income            -0.000025        0.000013    -1.874328  0.064361\n",
       "house1            60.661343       33.823805     1.793451  0.076500\n",
       "house3            94.479932       46.357513     2.038072  0.044689\n",
       "contract_yes     144.902156       60.306539     2.402760  0.018475\n",
       "age3              79.575729       34.304701     2.319674  0.022786"
      ]
     },
     "execution_count": 35,
     "metadata": {},
     "output_type": "execute_result"
    }
   ],
   "source": [
    "#Ач холбогдолтой параметрүүдийг ялгаж авах\n",
    "model_df[(model_df['Магадлал'] < 0.15)]"
   ]
  },
  {
   "cell_type": "code",
   "execution_count": 36,
   "id": "729d8e06",
   "metadata": {},
   "outputs": [
    {
     "name": "stdout",
     "output_type": "stream",
     "text": [
      "Model1 \"R квадрат нь\": 0.2095853395834255\n"
     ]
    }
   ],
   "source": [
    "#OLS MODEL\n",
    "y = data[['late']]\n",
    "x = data[['loan','family_members', 'experience','income','house1','house3','contract_yes','age3']]\n",
    "x = sm.add_constant(x)\n",
    "\n",
    "\n",
    "model = sm.OLS(y,x).fit()\n",
    "\n",
    "\n",
    "#Парамертүүдийг ялгаж авах\n",
    "params = pd.DataFrame(model.params, columns = ['Коэффициент'])\n",
    "std = pd.DataFrame(model.bse, columns = ['Стандарт алдаа'])\n",
    "t_stat = pd.DataFrame(model.tvalues, columns = ['t статистик'])\n",
    "p_value = pd.DataFrame(model.pvalues, columns = ['Магадлал'])\n",
    "rsquared = model.rsquared\n",
    "\n",
    "#Dataframe болгох\n",
    "model_df = pd.concat([params,std,t_stat,p_value], axis = 1)\n",
    "\n",
    "\n",
    "#Коэффициеэт тохируулах\n",
    "model_df['Коэффициент'] = model_df['Коэффициент'].astype(np.float64)\n",
    "model_df['Стандарт алдаа'] = model_df['Стандарт алдаа'].astype(np.float64)\n",
    "model_df['t статистик'] = model_df['t статистик'].astype(np.float64)\n",
    "model_df['Магадлал'] = model_df['Магадлал'].astype(np.float64)\n",
    "\n",
    "print(f'Model1 \"R квадрат нь\": {rsquared}')\n",
    "model_df.to_clipboard()"
   ]
  },
  {
   "cell_type": "code",
   "execution_count": 37,
   "id": "633977d3",
   "metadata": {},
   "outputs": [
    {
     "name": "stdout",
     "output_type": "stream",
     "text": [
      "1.2651587199470302\n"
     ]
    }
   ],
   "source": [
    "#Variance inflation Factor\n",
    "vif = 1/(1-rsquared)\n",
    "print(vif)"
   ]
  },
  {
   "cell_type": "code",
   "execution_count": 48,
   "id": "101c40f3",
   "metadata": {},
   "outputs": [
    {
     "data": {
      "image/png": "[encoded data removed]",
      "text/plain": [
       "<Figure size 1440x720 with 1 Axes>"
      ]
     },
     "metadata": {
      "needs_background": "light"
     },
     "output_type": "display_data"
    }
   ],
   "source": [
    "#Үнэлэгдсэн утга болон ажиглагдсан утгуудыг дүрслэх\n",
    "y1 = model.fittedvalues\n",
    "y2 = data['late']\n",
    "\n",
    "plt.figure(figsize=(20, 10))\n",
    "plt.plot(y1, 'r--', label='fittedvalues')\n",
    "plt.plot(y2, 'b-', label='actual')\n",
    "plt.legend()\n",
    "\n",
    "plt.savefig('graph.png')"
   ]
  },
  {
   "cell_type": "code",
   "execution_count": 39,
   "id": "ea370f52",
   "metadata": {},
   "outputs": [
    {
     "data": {
      "text/plain": [
       "[('Lagrange multiplier statistic', 15.77050876204339),\n",
       " ('p-value', 0.04578512804184471),\n",
       " ('f-value', 2.12977111142047),\n",
       " ('f p-value', 0.04068295196260258)]"
      ]
     },
     "execution_count": 39,
     "metadata": {},
     "output_type": "execute_result"
    }
   ],
   "source": [
    "#heteroskedasticity \n",
    "from statsmodels.compat import lzip\n",
    "resid = model.resid\n",
    "\n",
    "# perform the het_breuschpagan test\n",
    "name = ['Lagrange multiplier statistic', 'p-value', 'f-value', 'f p-value']\n",
    "test = sm.stats.diagnostic.het_breuschpagan(resid, x)\n",
    "lzip(name, test)"
   ]
  },
  {
   "cell_type": "code",
   "execution_count": 40,
   "id": "2f035d3f",
   "metadata": {},
   "outputs": [
    {
     "name": "stdout",
     "output_type": "stream",
     "text": [
      "Optimization terminated successfully.\n",
      "         Current function value: 0.321330\n",
      "         Iterations 8\n"
     ]
    },
    {
     "data": {
      "text/html": [
       "<div>\n",
       "<style scoped>\n",
       "    .dataframe tbody tr th:only-of-type {\n",
       "        vertical-align: middle;\n",
       "    }\n",
       "\n",
       "    .dataframe tbody tr th {\n",
       "        vertical-align: top;\n",
       "    }\n",
       "\n",
       "    .dataframe thead th {\n",
       "        text-align: right;\n",
       "    }\n",
       "</style>\n",
       "<table border=\"1\" class=\"dataframe\">\n",
       "  <thead>\n",
       "    <tr style=\"text-align: right;\">\n",
       "      <th></th>\n",
       "      <th>Коэффициент</th>\n",
       "      <th>Стандарт алдаа</th>\n",
       "      <th>t статистик</th>\n",
       "      <th>Магадлал</th>\n",
       "    </tr>\n",
       "  </thead>\n",
       "  <tbody>\n",
       "    <tr>\n",
       "      <th>const</th>\n",
       "      <td>1.349454e+00</td>\n",
       "      <td>NaN</td>\n",
       "      <td>NaN</td>\n",
       "      <td>NaN</td>\n",
       "    </tr>\n",
       "    <tr>\n",
       "      <th>loan</th>\n",
       "      <td>3.762795e-07</td>\n",
       "      <td>2.439370e-07</td>\n",
       "      <td>1.542527e+00</td>\n",
       "      <td>0.122946</td>\n",
       "    </tr>\n",
       "    <tr>\n",
       "      <th>family_members</th>\n",
       "      <td>5.250377e-02</td>\n",
       "      <td>2.640440e-01</td>\n",
       "      <td>1.988448e-01</td>\n",
       "      <td>0.842384</td>\n",
       "    </tr>\n",
       "    <tr>\n",
       "      <th>experience</th>\n",
       "      <td>9.557276e-02</td>\n",
       "      <td>6.274226e-02</td>\n",
       "      <td>1.523260e+00</td>\n",
       "      <td>0.127694</td>\n",
       "    </tr>\n",
       "    <tr>\n",
       "      <th>worked_org</th>\n",
       "      <td>-1.465673e-01</td>\n",
       "      <td>3.453937e-01</td>\n",
       "      <td>-4.243486e-01</td>\n",
       "      <td>0.671312</td>\n",
       "    </tr>\n",
       "    <tr>\n",
       "      <th>income</th>\n",
       "      <td>-2.668223e-07</td>\n",
       "      <td>2.634333e-07</td>\n",
       "      <td>-1.012865e+00</td>\n",
       "      <td>0.311125</td>\n",
       "    </tr>\n",
       "    <tr>\n",
       "      <th>time</th>\n",
       "      <td>-4.312249e-04</td>\n",
       "      <td>8.976633e-04</td>\n",
       "      <td>-4.803860e-01</td>\n",
       "      <td>0.630953</td>\n",
       "    </tr>\n",
       "    <tr>\n",
       "      <th>gender_f</th>\n",
       "      <td>1.190854e+00</td>\n",
       "      <td>8.660506e-01</td>\n",
       "      <td>1.375040e+00</td>\n",
       "      <td>0.169119</td>\n",
       "    </tr>\n",
       "    <tr>\n",
       "      <th>edu_high</th>\n",
       "      <td>-8.062276e-02</td>\n",
       "      <td>8.045537e-01</td>\n",
       "      <td>-1.002081e-01</td>\n",
       "      <td>0.920179</td>\n",
       "    </tr>\n",
       "    <tr>\n",
       "      <th>has_job</th>\n",
       "      <td>-2.036588e+00</td>\n",
       "      <td>1.150641e+00</td>\n",
       "      <td>-1.769959e+00</td>\n",
       "      <td>0.076734</td>\n",
       "    </tr>\n",
       "    <tr>\n",
       "      <th>house1</th>\n",
       "      <td>5.641510e-01</td>\n",
       "      <td>NaN</td>\n",
       "      <td>NaN</td>\n",
       "      <td>NaN</td>\n",
       "    </tr>\n",
       "    <tr>\n",
       "      <th>house2</th>\n",
       "      <td>7.134210e-02</td>\n",
       "      <td>NaN</td>\n",
       "      <td>NaN</td>\n",
       "      <td>NaN</td>\n",
       "    </tr>\n",
       "    <tr>\n",
       "      <th>house3</th>\n",
       "      <td>7.139617e-01</td>\n",
       "      <td>NaN</td>\n",
       "      <td>NaN</td>\n",
       "      <td>NaN</td>\n",
       "    </tr>\n",
       "    <tr>\n",
       "      <th>contract_yes</th>\n",
       "      <td>-2.250042e+00</td>\n",
       "      <td>1.181444e+00</td>\n",
       "      <td>-1.904485e+00</td>\n",
       "      <td>0.056847</td>\n",
       "    </tr>\n",
       "    <tr>\n",
       "      <th>age1</th>\n",
       "      <td>8.991973e-01</td>\n",
       "      <td>1.888420e+07</td>\n",
       "      <td>4.761638e-08</td>\n",
       "      <td>1.000000</td>\n",
       "    </tr>\n",
       "    <tr>\n",
       "      <th>age2</th>\n",
       "      <td>2.958952e-01</td>\n",
       "      <td>1.888420e+07</td>\n",
       "      <td>1.566893e-08</td>\n",
       "      <td>1.000000</td>\n",
       "    </tr>\n",
       "    <tr>\n",
       "      <th>age3</th>\n",
       "      <td>1.436089e-01</td>\n",
       "      <td>1.888420e+07</td>\n",
       "      <td>7.604711e-09</td>\n",
       "      <td>1.000000</td>\n",
       "    </tr>\n",
       "    <tr>\n",
       "      <th>age4</th>\n",
       "      <td>1.075242e-02</td>\n",
       "      <td>1.888420e+07</td>\n",
       "      <td>5.693869e-10</td>\n",
       "      <td>1.000000</td>\n",
       "    </tr>\n",
       "  </tbody>\n",
       "</table>\n",
       "</div>"
      ],
      "text/plain": [
       "                 Коэффициент  Стандарт алдаа   t статистик  Магадлал\n",
       "const           1.349454e+00             NaN           NaN       NaN\n",
       "loan            3.762795e-07    2.439370e-07  1.542527e+00  0.122946\n",
       "family_members  5.250377e-02    2.640440e-01  1.988448e-01  0.842384\n",
       "experience      9.557276e-02    6.274226e-02  1.523260e+00  0.127694\n",
       "worked_org     -1.465673e-01    3.453937e-01 -4.243486e-01  0.671312\n",
       "income         -2.668223e-07    2.634333e-07 -1.012865e+00  0.311125\n",
       "time           -4.312249e-04    8.976633e-04 -4.803860e-01  0.630953\n",
       "gender_f        1.190854e+00    8.660506e-01  1.375040e+00  0.169119\n",
       "edu_high       -8.062276e-02    8.045537e-01 -1.002081e-01  0.920179\n",
       "has_job        -2.036588e+00    1.150641e+00 -1.769959e+00  0.076734\n",
       "house1          5.641510e-01             NaN           NaN       NaN\n",
       "house2          7.134210e-02             NaN           NaN       NaN\n",
       "house3          7.139617e-01             NaN           NaN       NaN\n",
       "contract_yes   -2.250042e+00    1.181444e+00 -1.904485e+00  0.056847\n",
       "age1            8.991973e-01    1.888420e+07  4.761638e-08  1.000000\n",
       "age2            2.958952e-01    1.888420e+07  1.566893e-08  1.000000\n",
       "age3            1.436089e-01    1.888420e+07  7.604711e-09  1.000000\n",
       "age4            1.075242e-02    1.888420e+07  5.693869e-10  1.000000"
      ]
     },
     "execution_count": 40,
     "metadata": {},
     "output_type": "execute_result"
    }
   ],
   "source": [
    "#LOGIT MODEL\n",
    "y_logit = data[['not_overdue']]\n",
    "x_logit = data[['loan','family_members', 'experience', 'worked_org', 'income','time','gender_f', 'edu_high', 'has_job','house1', 'house2', 'house3','contract_yes', 'age1', 'age2', 'age3', 'age4']]\n",
    "x_logit = sm.add_constant(x_logit)\n",
    "\n",
    "model_logit = sm.Logit(y_logit, x_logit).fit()\n",
    "\n",
    "#Парамертүүдийг ялгаж авах\n",
    "params_logit = pd.DataFrame(model_logit.params, columns = ['Коэффициент'])\n",
    "std_logit = pd.DataFrame(model_logit.bse, columns = ['Стандарт алдаа'])\n",
    "t_stat_logit = pd.DataFrame(model_logit.tvalues, columns = ['t статистик'])\n",
    "p_value_logit = pd.DataFrame(model_logit.pvalues, columns = ['Магадлал'])\n",
    "\n",
    "\n",
    "\n",
    "#Dataframe болгох\n",
    "model_df_logit = pd.concat([params_logit,std_logit,t_stat_logit,p_value_logit], axis = 1)\n",
    "\n",
    "model_df_logit"
   ]
  },
  {
   "cell_type": "code",
   "execution_count": 47,
   "id": "3e69adc6",
   "metadata": {},
   "outputs": [
    {
     "name": "stdout",
     "output_type": "stream",
     "text": [
      "Optimization terminated successfully.\n",
      "         Current function value: 0.343220\n",
      "         Iterations 7\n"
     ]
    },
    {
     "data": {
      "text/html": [
       "<div>\n",
       "<style scoped>\n",
       "    .dataframe tbody tr th:only-of-type {\n",
       "        vertical-align: middle;\n",
       "    }\n",
       "\n",
       "    .dataframe tbody tr th {\n",
       "        vertical-align: top;\n",
       "    }\n",
       "\n",
       "    .dataframe thead th {\n",
       "        text-align: right;\n",
       "    }\n",
       "</style>\n",
       "<table border=\"1\" class=\"dataframe\">\n",
       "  <thead>\n",
       "    <tr style=\"text-align: right;\">\n",
       "      <th></th>\n",
       "      <th>Коэффициент</th>\n",
       "      <th>Стандарт алдаа</th>\n",
       "      <th>t статистик</th>\n",
       "      <th>Магадлал</th>\n",
       "    </tr>\n",
       "  </thead>\n",
       "  <tbody>\n",
       "    <tr>\n",
       "      <th>const</th>\n",
       "      <td>2.262042e+00</td>\n",
       "      <td>9.556290e-01</td>\n",
       "      <td>2.367072</td>\n",
       "      <td>0.017929</td>\n",
       "    </tr>\n",
       "    <tr>\n",
       "      <th>loan</th>\n",
       "      <td>2.305381e-07</td>\n",
       "      <td>1.419875e-07</td>\n",
       "      <td>1.623651</td>\n",
       "      <td>0.104450</td>\n",
       "    </tr>\n",
       "    <tr>\n",
       "      <th>experience</th>\n",
       "      <td>7.400790e-02</td>\n",
       "      <td>4.405182e-02</td>\n",
       "      <td>1.680019</td>\n",
       "      <td>0.092954</td>\n",
       "    </tr>\n",
       "    <tr>\n",
       "      <th>has_job</th>\n",
       "      <td>-1.901722e+00</td>\n",
       "      <td>9.052715e-01</td>\n",
       "      <td>-2.100720</td>\n",
       "      <td>0.035666</td>\n",
       "    </tr>\n",
       "    <tr>\n",
       "      <th>contract_yes</th>\n",
       "      <td>-1.625739e+00</td>\n",
       "      <td>9.226548e-01</td>\n",
       "      <td>-1.762024</td>\n",
       "      <td>0.078065</td>\n",
       "    </tr>\n",
       "  </tbody>\n",
       "</table>\n",
       "</div>"
      ],
      "text/plain": [
       "               Коэффициент  Стандарт алдаа  t статистик  Магадлал\n",
       "const         2.262042e+00    9.556290e-01     2.367072  0.017929\n",
       "loan          2.305381e-07    1.419875e-07     1.623651  0.104450\n",
       "experience    7.400790e-02    4.405182e-02     1.680019  0.092954\n",
       "has_job      -1.901722e+00    9.052715e-01    -2.100720  0.035666\n",
       "contract_yes -1.625739e+00    9.226548e-01    -1.762024  0.078065"
      ]
     },
     "execution_count": 47,
     "metadata": {},
     "output_type": "execute_result"
    }
   ],
   "source": [
    "#LOGIT MODEL\n",
    "y_logit_1 = data[['not_overdue']]\n",
    "x_logit_1 = data[['loan', 'experience', 'has_job','contract_yes']]\n",
    "x_logit_1 = sm.add_constant(x_logit_1)\n",
    "\n",
    "model_logit_1 = sm.Logit(y_logit_1, x_logit_1).fit()\n",
    "\n",
    "#Парамертүүдийг ялгаж авах\n",
    "params_logit_1 = pd.DataFrame(model_logit_1.params, columns = ['Коэффициент'])\n",
    "std_logit_1 = pd.DataFrame(model_logit_1.bse, columns = ['Стандарт алдаа'])\n",
    "t_stat_logit_1 = pd.DataFrame(model_logit_1.tvalues, columns = ['t статистик'])\n",
    "p_value_logit_1 = pd.DataFrame(model_logit_1.pvalues, columns = ['Магадлал'])\n",
    "\n",
    "\n",
    "\n",
    "#Dataframe болгох\n",
    "model_df_logit_1 = pd.concat([params_logit_1,std_logit_1,t_stat_logit_1,p_value_logit_1], axis = 1)\n",
    "\n",
    "model_df_logit_1"
   ]
  },
  {
   "cell_type": "code",
   "execution_count": 42,
   "id": "0667fdad",
   "metadata": {},
   "outputs": [
    {
     "data": {
      "text/html": [
       "<div>\n",
       "<style scoped>\n",
       "    .dataframe tbody tr th:only-of-type {\n",
       "        vertical-align: middle;\n",
       "    }\n",
       "\n",
       "    .dataframe tbody tr th {\n",
       "        vertical-align: top;\n",
       "    }\n",
       "\n",
       "    .dataframe thead th {\n",
       "        text-align: right;\n",
       "    }\n",
       "</style>\n",
       "<table border=\"1\" class=\"dataframe\">\n",
       "  <thead>\n",
       "    <tr style=\"text-align: right;\">\n",
       "      <th></th>\n",
       "      <th>Коэффициент</th>\n",
       "      <th>Стандарт алдаа</th>\n",
       "      <th>t статистик</th>\n",
       "      <th>Магадлал</th>\n",
       "    </tr>\n",
       "  </thead>\n",
       "  <tbody>\n",
       "    <tr>\n",
       "      <th>loan</th>\n",
       "      <td>3.762795e-07</td>\n",
       "      <td>2.439370e-07</td>\n",
       "      <td>1.542527</td>\n",
       "      <td>0.122946</td>\n",
       "    </tr>\n",
       "    <tr>\n",
       "      <th>experience</th>\n",
       "      <td>9.557276e-02</td>\n",
       "      <td>6.274226e-02</td>\n",
       "      <td>1.523260</td>\n",
       "      <td>0.127694</td>\n",
       "    </tr>\n",
       "    <tr>\n",
       "      <th>has_job</th>\n",
       "      <td>-2.036588e+00</td>\n",
       "      <td>1.150641e+00</td>\n",
       "      <td>-1.769959</td>\n",
       "      <td>0.076734</td>\n",
       "    </tr>\n",
       "    <tr>\n",
       "      <th>contract_yes</th>\n",
       "      <td>-2.250042e+00</td>\n",
       "      <td>1.181444e+00</td>\n",
       "      <td>-1.904485</td>\n",
       "      <td>0.056847</td>\n",
       "    </tr>\n",
       "  </tbody>\n",
       "</table>\n",
       "</div>"
      ],
      "text/plain": [
       "               Коэффициент  Стандарт алдаа  t статистик  Магадлал\n",
       "loan          3.762795e-07    2.439370e-07     1.542527  0.122946\n",
       "experience    9.557276e-02    6.274226e-02     1.523260  0.127694\n",
       "has_job      -2.036588e+00    1.150641e+00    -1.769959  0.076734\n",
       "contract_yes -2.250042e+00    1.181444e+00    -1.904485  0.056847"
      ]
     },
     "execution_count": 42,
     "metadata": {},
     "output_type": "execute_result"
    }
   ],
   "source": [
    "model_df_logit[model_df_logit['Магадлал'] < 0.15]"
   ]
  },
  {
   "cell_type": "code",
   "execution_count": 43,
   "id": "4aaa5cb0",
   "metadata": {},
   "outputs": [
    {
     "data": {
      "text/html": [
       "<div>\n",
       "<style scoped>\n",
       "    .dataframe tbody tr th:only-of-type {\n",
       "        vertical-align: middle;\n",
       "    }\n",
       "\n",
       "    .dataframe tbody tr th {\n",
       "        vertical-align: top;\n",
       "    }\n",
       "\n",
       "    .dataframe thead th {\n",
       "        text-align: right;\n",
       "    }\n",
       "</style>\n",
       "<table border=\"1\" class=\"dataframe\">\n",
       "  <thead>\n",
       "    <tr style=\"text-align: right;\">\n",
       "      <th></th>\n",
       "      <th>Коэффициент</th>\n",
       "      <th>Стандарт алдаа</th>\n",
       "      <th>t статистик</th>\n",
       "      <th>Магадлал</th>\n",
       "    </tr>\n",
       "  </thead>\n",
       "  <tbody>\n",
       "    <tr>\n",
       "      <th>loan</th>\n",
       "      <td>0.000011</td>\n",
       "      <td>0.000007</td>\n",
       "      <td>1.647748</td>\n",
       "      <td>0.102853</td>\n",
       "    </tr>\n",
       "    <tr>\n",
       "      <th>family_members</th>\n",
       "      <td>-23.741430</td>\n",
       "      <td>12.968791</td>\n",
       "      <td>-1.830659</td>\n",
       "      <td>0.070425</td>\n",
       "    </tr>\n",
       "    <tr>\n",
       "      <th>income</th>\n",
       "      <td>-0.000025</td>\n",
       "      <td>0.000013</td>\n",
       "      <td>-1.977518</td>\n",
       "      <td>0.051009</td>\n",
       "    </tr>\n",
       "    <tr>\n",
       "      <th>house3</th>\n",
       "      <td>109.370032</td>\n",
       "      <td>73.846287</td>\n",
       "      <td>1.481050</td>\n",
       "      <td>0.142048</td>\n",
       "    </tr>\n",
       "    <tr>\n",
       "      <th>contract_yes</th>\n",
       "      <td>178.071643</td>\n",
       "      <td>53.893003</td>\n",
       "      <td>3.304170</td>\n",
       "      <td>0.001363</td>\n",
       "    </tr>\n",
       "  </tbody>\n",
       "</table>\n",
       "</div>"
      ],
      "text/plain": [
       "                Коэффициент  Стандарт алдаа  t статистик  Магадлал\n",
       "loan               0.000011        0.000007     1.647748  0.102853\n",
       "family_members   -23.741430       12.968791    -1.830659  0.070425\n",
       "income            -0.000025        0.000013    -1.977518  0.051009\n",
       "house3           109.370032       73.846287     1.481050  0.142048\n",
       "contract_yes     178.071643       53.893003     3.304170  0.001363"
      ]
     },
     "execution_count": 43,
     "metadata": {},
     "output_type": "execute_result"
    }
   ],
   "source": [
    "model_df[(model_df['Магадлал'] < 0.15)]"
   ]
  },
  {
   "cell_type": "code",
   "execution_count": 71,
   "id": "a37eb7b3",
   "metadata": {},
   "outputs": [
    {
     "data": {
      "text/plain": [
       "2"
      ]
     },
     "execution_count": 71,
     "metadata": {},
     "output_type": "execute_result"
    }
   ],
   "source": [
    "filt = 'has_job'\n",
    "\n",
    "len(data[(data[filt] == 0) & (data['not_overdue'] == 0)])"
   ]
  },
  {
   "cell_type": "code",
   "execution_count": 72,
   "id": "18be4bbf",
   "metadata": {},
   "outputs": [
    {
     "data": {
      "text/plain": [
       "34"
      ]
     },
     "execution_count": 72,
     "metadata": {},
     "output_type": "execute_result"
    }
   ],
   "source": [
    "len(data[(data[filt] == 0)])"
   ]
  },
  {
   "cell_type": "code",
   "execution_count": 81,
   "id": "43a98775",
   "metadata": {},
   "outputs": [
    {
     "data": {
      "text/plain": [
       "34"
      ]
     },
     "execution_count": 81,
     "metadata": {},
     "output_type": "execute_result"
    }
   ],
   "source": [
    "len(data[(data[filt] == 0)])"
   ]
  },
  {
   "cell_type": "code",
   "execution_count": 83,
   "id": "6b18229b",
   "metadata": {},
   "outputs": [],
   "source": [
    "data.to_clipboard()"
   ]
  },
  {
   "cell_type": "code",
   "execution_count": null,
   "id": "e2f482b2",
   "metadata": {},
   "outputs": [],
   "source": []
  }
 ],
 "metadata": {
  "kernelspec": {
   "display_name": "Python 3 (ipykernel)",
   "language": "python",
   "name": "python3"
  },
  "language_info": {
   "codemirror_mode": {
    "name": "ipython",
    "version": 3
   },
   "file_extension": ".py",
   "mimetype": "text/x-python",
   "name": "python",
   "nbconvert_exporter": "python",
   "pygments_lexer": "ipython3",
   "version": "3.9.12"
  }
 },
 "nbformat": 4,
 "nbformat_minor": 5
}
