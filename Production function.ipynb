{
 "cells": [
  {
   "cell_type": "code",
   "execution_count": 30,
   "id": "b3043731",
   "metadata": {},
   "outputs": [],
   "source": [
    "import pandas as pd\n",
    "import numpy as np\n",
    "import plotly.express as px\n",
    "import statsmodels.api as sm\n",
    "import plotly.graph_objects as go\n",
    "import matplotlib.pyplot as plt"
   ]
  },
  {
   "cell_type": "code",
   "execution_count": 2,
   "id": "14a129f3",
   "metadata": {},
   "outputs": [],
   "source": [
    "#pwt1001 data\n",
    "df = pd.read_excel(r'D:\\6th Semester\\ECN447 Growth Economics\\COURSEWORK\\CourseWork - 1\\Data\\pwt1001.xlsx', sheet_name = 'Data')"
   ]
  },
  {
   "cell_type": "code",
   "execution_count": 3,
   "id": "6e6d8833",
   "metadata": {},
   "outputs": [],
   "source": [
    "def country_sort():\n",
    "    country_name = input('Country name: ')\n",
    "    \n",
    "    temp = df[df['country'] == country_name].loc[:,['country','year','rgdpe','pop','rgdpna','emp','hc','rnna','rconna','rdana','delta']]\n",
    "    temp = temp.dropna()\n",
    "    min_year = min(temp['year'])\n",
    "    max_year = max(temp['year'])\n",
    "    \n",
    "    print(f'ялгаж авах боломжтой жилийн мэдээлэл {min_year} - аас {max_year}')\n",
    "    \n",
    "    start = int(input('Starting year: '))\n",
    "    end = int(input('Ending year: '))\n",
    "    \n",
    "    data_sort = df[df['country'] == country_name].loc[:,['country','year','rgdpe','pop','rgdpna','emp','hc','rnna','rconna','rdana','delta']]\n",
    "    data_sort = data_sort.dropna()\n",
    "    data_sort['invest'] = data_sort['rdana'] - data_sort['rconna']\n",
    "    data_sort['invest_per'] = data_sort['invest'] / data_sort['rgdpna']\n",
    "    \n",
    "    \n",
    "    data_sort = data_sort[(data_sort['year'] >= start) & (data_sort['year'] <= end)]\n",
    "    \n",
    "    data_sort = data_sort.rename(columns = {'emp':'labour','hc':'human_capital','rgdpna':'production','rnna':'capital'})\n",
    "       \n",
    "    return data_sort"
   ]
  },
  {
   "cell_type": "code",
   "execution_count": 54,
   "id": "a04887cb",
   "metadata": {},
   "outputs": [],
   "source": [
    "def graph():\n",
    "    df = country_sort()\n",
    "    \n",
    "    country_name = list(df['country'].unique())[0]\n",
    "    start = min(df['year'])\n",
    "    end = max(df['year'])\n",
    "    \n",
    "    title = (f\"{country_name}'s production in {start} to {end}\")\n",
    "    \n",
    "    graph = px.line(df, y = 'production', x = 'year', title = title, markers=True)\n",
    "    \n",
    "    \n",
    "    plt.figure(figsize = (15,8))\n",
    "    plt.plot(df['year'], df['production'], marker = 'o', label = 'БДНБ')\n",
    "       \n",
    "    plt.xlabel('Он')\n",
    "    plt.ylabel('Бодит дотоодын нийт бүтээгдэхүүн ')\n",
    "    \n",
    "    plt.title(f\"{country_name}'s production in {start} to {end}\")\n",
    "    plt.legend()\n",
    "    plt.show()\n",
    "    \n",
    "    return graph"
   ]
  },
  {
   "cell_type": "code",
   "execution_count": 5,
   "id": "81b2c605",
   "metadata": {},
   "outputs": [],
   "source": [
    "def log_data():\n",
    "    df = country_sort()\n",
    "    df = df.loc[:,['country','year','production','labour','human_capital','capital']]\n",
    "    \n",
    "    df['log_y'] = np.log(df['production'])\n",
    "    df['log_l'] = np.log(df['labour'])\n",
    "    df['log_k'] = np.log(df['capital'])\n",
    "    df['log_h'] = np.log(df['human_capital'])\n",
    "    \n",
    "    \n",
    "    df['log_k/l'] = df['log_k'] - df['log_l']\n",
    "    df['log_y/l'] = df['log_y'] - df['log_l']\n",
    "    df['log_h/l'] = df['log_h'] - df['log_l']\n",
    "    \n",
    "    df['y/l'] = df['production'] / df['labour']\n",
    "    \n",
    "    \n",
    "    \n",
    "    #df['product_grow'] = df['production'].pct_change()\n",
    "    #df = df.fillna(0)\n",
    "    \n",
    "    \n",
    "    df.index = np.arange(1, len(df)+1)\n",
    "    df = df.reset_index()\n",
    "    \n",
    "    #Product trend\n",
    "    \n",
    "    #df['gt'] = df['product_grow'] * df['index']\n",
    "    #df['product_trend'] = np.exp(df['gt'])\n",
    "    \n",
    "    #Product trend per labour\n",
    "    \n",
    "    #df['production_per'] = df['production'] / df['labour']\n",
    "    #df['product_per_grow'] = df['production_per'].pct_change()\n",
    "    #df = df.fillna(0)\n",
    "    \n",
    "    #df['gt_per'] = df['product_per_grow'] * df['index']\n",
    "    #df['product_per_trend'] = np.exp(df['gt_per'])\n",
    "    \n",
    "    return df"
   ]
  },
  {
   "cell_type": "code",
   "execution_count": 6,
   "id": "ab42b8a9",
   "metadata": {},
   "outputs": [],
   "source": [
    "def trend_per():\n",
    "    data = log_data()\n",
    "    y = data[['y/l']]\n",
    "    x = data[['year']]\n",
    "    x = sm.add_constant(x)\n",
    "    \n",
    "    trend_per = sm.OLS(y,x).fit()\n",
    "    \n",
    "    trend_per_fit = trend_per.fittedvalues\n",
    "    trend_per_df = pd.DataFrame(trend_per_fit, columns = ['trend_per'])\n",
    "    \n",
    "    #trend_per_df['log_trend_per'] = np.log(trend_per_df['trend_per'])\n",
    "    \n",
    "    #beta1 = trend_per.params[1]\n",
    "    \n",
    "    return trend_per_df"
   ]
  },
  {
   "cell_type": "code",
   "execution_count": 7,
   "id": "6e24bc04",
   "metadata": {},
   "outputs": [],
   "source": [
    "def trend():\n",
    "    data = log_data()\n",
    "    y = data[['production']]\n",
    "    x = data[['year']]\n",
    "    x = sm.add_constant(x)\n",
    "    \n",
    "    trend = sm.OLS(y,x).fit()\n",
    "    \n",
    "    trend_fit = trend.fittedvalues\n",
    "    trend_df = pd.DataFrame(trend_fit, columns = ['trend'])\n",
    "    \n",
    "    #trend_df['log_trend'] = np.log(trend_df['trend'])\n",
    "    \n",
    "    return trend_df"
   ]
  },
  {
   "cell_type": "code",
   "execution_count": 8,
   "id": "96590c20",
   "metadata": {},
   "outputs": [],
   "source": [
    "#Энгийн үйлдвэрлэлийн функцын үнэлгээ\n",
    "def model1():\n",
    "    data = log_data()\n",
    "    y = data[['log_y']]\n",
    "    x = data[['log_k','log_l']]\n",
    "    x = sm.add_constant(x)\n",
    "        \n",
    "    model = sm.OLS(y,x).fit()\n",
    "    model_sum = model.summary()\n",
    "    #model_sum = print(f'Энгийн үйлдвэрлэлийн функцын үнэлгээ {model_sum}')\n",
    "    \n",
    "    params = pd.DataFrame(model.params, columns = ['Коэффициент'])\n",
    "    std = pd.DataFrame(model.bse, columns = ['Стандарт алдаа'])\n",
    "    t_stat = pd.DataFrame(model.tvalues, columns = ['t статистик'])\n",
    "    p_value = pd.DataFrame(model.pvalues, columns = ['Магадлал'])\n",
    "    \n",
    "    print('Энгийн үйлдвэрлэлийн функцын үнэлгээ')\n",
    "    df = pd.concat([params,std,t_stat,p_value], axis = 1)\n",
    "    \n",
    "    return df"
   ]
  },
  {
   "cell_type": "code",
   "execution_count": 9,
   "id": "9827576b",
   "metadata": {},
   "outputs": [],
   "source": [
    "#Нэг ажилчинд ноогдохоор тооцсон энгийн үйлдвэрлэлийн функцын үнэлгээ\n",
    "def model2():\n",
    "    data = log_data()\n",
    "    y = data[['log_y/l']]\n",
    "    x = data[['log_k/l']]\n",
    "    x = sm.add_constant(x)\n",
    "    \n",
    "    model = sm.OLS(y, x).fit()\n",
    "    model_sum = model.summary()\n",
    "    #model_sum = print(f'Нэг ажилчинд ноогдохоор тооцсон энгийн үйлдвэрлэлийн функцын үнэлгээ {model_sum}')\n",
    "    \n",
    "    params = pd.DataFrame(model.params, columns = ['Коэффициент'])\n",
    "    std = pd.DataFrame(model.bse, columns = ['Стандарт алдаа'])\n",
    "    t_stat = pd.DataFrame(model.tvalues, columns = ['t статистик'])\n",
    "    p_value = pd.DataFrame(model.pvalues, columns = ['Магадлал'])\n",
    "    \n",
    "    print('Нэг ажилчинд ноогдохоор тооцсон энгийн үйлдвэрлэлийн функцын үнэлгээ')\n",
    "    df = pd.concat([params,std,t_stat,p_value], axis = 1)\n",
    "    \n",
    "    return df"
   ]
  },
  {
   "cell_type": "code",
   "execution_count": 10,
   "id": "272356d6",
   "metadata": {},
   "outputs": [],
   "source": [
    "#Шинжлэх ухаан технологийн дэвшилтэй үйлдвэрлэлийн функцын үнэлгээ\n",
    "def model3():\n",
    "    data = log_data()\n",
    "    \n",
    "    trend_fit = trend()\n",
    "    data = pd.concat([data, trend_fit], axis = 1)\n",
    "    \n",
    "    y = data[['log_y']]\n",
    "    x = data[['log_k','log_l','trend']]\n",
    "    x = sm.add_constant(x)\n",
    "    \n",
    "    model = sm.OLS(y,x).fit()\n",
    "    model_sum = model.summary()\n",
    "    #model_sum = print(f'ШУТД үйлдвэрлэлийн функцын үнэлгээ {model_sum}')\n",
    "    \n",
    "    params = pd.DataFrame(model.params, columns = ['Коэффициент'])\n",
    "    std = pd.DataFrame(model.bse, columns = ['Стандарт алдаа'])\n",
    "    t_stat = pd.DataFrame(model.tvalues, columns = ['t статистик'])\n",
    "    p_value = pd.DataFrame(model.pvalues, columns = ['Магадлал'])\n",
    "    \n",
    "    print('Шинжлэх ухаан технологийн дэвшилтэй үйлдвэрлэлийн функцын үнэлгээ')\n",
    "    df = pd.concat([params,std,t_stat,p_value], axis = 1)\n",
    "    \n",
    "    return df"
   ]
  },
  {
   "cell_type": "code",
   "execution_count": 11,
   "id": "9f9d80ad",
   "metadata": {},
   "outputs": [],
   "source": [
    "#Нэг ажилчинд ноогдохоор тооцсон Шинжлэх ухаан технологийн дэвшилтэй үйлдвэрлэлийн функцын үнэлгээ\n",
    "def model4():\n",
    "\n",
    "    data = log_data()    \n",
    "    \n",
    "    trend_per_fit = trend_per()\n",
    "    \n",
    "    data = pd.concat([data, trend_per_fit], axis = 1)\n",
    "    \n",
    "    y = data[['log_y/l']]\n",
    "    x = data[['log_k/l', 'trend_per']]\n",
    "    x = sm.add_constant(x)\n",
    "    \n",
    "    model = sm.OLS(y,x).fit()\n",
    "    #model_sum = model.summary()\n",
    "    #model_sum = print(f'Нэг ажилчинд ноогдохоор тооцсон ШУТД үйлдвэрлэлийн функцын үнэлгээ {model_sum}')\n",
    "    \n",
    "    params = pd.DataFrame(model.params, columns = ['Коэффициент'])\n",
    "    std = pd.DataFrame(model.bse, columns = ['Стандарт алдаа'])\n",
    "    t_stat = pd.DataFrame(model.tvalues, columns = ['t статистик'])\n",
    "    p_value = pd.DataFrame(model.pvalues, columns = ['Магадлал'])\n",
    "    \n",
    "    print('Нэг ажилчинд ноогдохоор тооцсон ШУТД, үйлдвэрлэлийн функцын үнэлгээ')\n",
    "    df = pd.concat([params,std,t_stat,p_value], axis = 1)\n",
    "    \n",
    "    return df"
   ]
  },
  {
   "cell_type": "code",
   "execution_count": 12,
   "id": "c2b5ac94",
   "metadata": {},
   "outputs": [],
   "source": [
    "## Хүмүн капиталтай үйлдвэрлэлийн функцын үнэлгээ\n",
    "def model5():\n",
    "    data = log_data()\n",
    "    \n",
    "   \n",
    "    y = data[['log_y']]\n",
    "    x = data[['log_k','log_l','log_h']]\n",
    "    x = sm.add_constant(x)\n",
    "    \n",
    "    model = sm.OLS(y,x).fit()\n",
    "    model_sum = model.summary()\n",
    "    #model_sum = print(f'Хүмүн капиталтай үйлдвэрлэлийн функцын үнэлгээ {model_sum}')\n",
    "    \n",
    "    params = pd.DataFrame(model.params, columns = ['Коэффициент'])\n",
    "    std = pd.DataFrame(model.bse, columns = ['Стандарт алдаа'])\n",
    "    t_stat = pd.DataFrame(model.tvalues, columns = ['t статистик'])\n",
    "    p_value = pd.DataFrame(model.pvalues, columns = ['Магадлал'])\n",
    "    \n",
    "    print('Хүмүн капиталтай үйлдвэрлэлийн функцын үнэлгээ')\n",
    "    df = pd.concat([params,std,t_stat,p_value], axis = 1)\n",
    "    \n",
    "    return df"
   ]
  },
  {
   "cell_type": "code",
   "execution_count": 13,
   "id": "8176e24e",
   "metadata": {},
   "outputs": [],
   "source": [
    "#Нэг ажилчинд ноогдохоор тооцсон хүмүн капиталтай үйлдвэрлэлийн функцын үнэлгээ\n",
    "def model6():\n",
    "    data = log_data()\n",
    "    y = data[['log_y/l']]\n",
    "    x = data[['log_k/l','log_h/l']]\n",
    "    x = sm.add_constant(x)\n",
    "    \n",
    "    model = sm.OLS(y,x).fit()\n",
    "    model_sum = model.summary()\n",
    "    #model_sum = print(f'Нэг ажилчинд ноогдохоор тооцсон хүмүн капиталтай үйлдвэрлэлийн функцын үнэлгээ {model_sum}')\n",
    "    \n",
    "    params = pd.DataFrame(model.params, columns = ['Коэффициент'])\n",
    "    std = pd.DataFrame(model.bse, columns = ['Стандарт алдаа'])\n",
    "    t_stat = pd.DataFrame(model.tvalues, columns = ['t статистик'])\n",
    "    p_value = pd.DataFrame(model.pvalues, columns = ['Магадлал'])\n",
    "    \n",
    "    print('Нэг ажилчинд ноогдохоор тооцсон хүмүн капиталтай үйлдвэрлэлийн функцын үнэлгээ')\n",
    "    df = pd.concat([params,std,t_stat,p_value], axis = 1)\n",
    "    \n",
    "    return df"
   ]
  },
  {
   "cell_type": "code",
   "execution_count": 14,
   "id": "cd0b83dd",
   "metadata": {},
   "outputs": [],
   "source": [
    "#Шинжлэх ухаан технологийн дэвшилтэй хүмүн капиталтай үйлдвэрлэлийн функцын үнэлгээ\n",
    "def model7():\n",
    "    data = log_data()\n",
    "    \n",
    "    trend_fit = trend()\n",
    "    data = pd.concat([data, trend_fit], axis = 1)\n",
    "    \n",
    "    y = data[['log_y']]\n",
    "    x = data[['log_k','log_l','log_h','trend']]\n",
    "    x = sm.add_constant(x)\n",
    "    \n",
    "    model = sm.OLS(y,x).fit()\n",
    "    model_sum = model.summary()\n",
    "    #model_sum = print(f'ШУТД үйлвэрлэл нэг хүнд ноогдохоор {model_sum}')\n",
    "    \n",
    "    params = pd.DataFrame(model.params, columns = ['Коэффициент'])\n",
    "    std = pd.DataFrame(model.bse, columns = ['Стандарт алдаа'])\n",
    "    t_stat = pd.DataFrame(model.tvalues, columns = ['t статистик'])\n",
    "    p_value = pd.DataFrame(model.pvalues, columns = ['Магадлал'])\n",
    "    \n",
    "    print('ШУТД, хүмүн капиталтай үйлдвэрлэлийн функцын үнэлгээ')\n",
    "    df = pd.concat([params,std,t_stat,p_value], axis = 1)\n",
    "    \n",
    "    return df"
   ]
  },
  {
   "cell_type": "code",
   "execution_count": 15,
   "id": "f32092f8",
   "metadata": {},
   "outputs": [],
   "source": [
    "#Нэг ажилчинд ноогдохоор тооцсон шинжлэх ухаан технологийн дэвшилтэй хүмүн капиталтай үйлдвэрлэлийн функцын үнэлгээ\n",
    "def model8():\n",
    "    data = log_data()\n",
    "    \n",
    "    trend_per_fit = trend_per()\n",
    "    data = pd.concat([data, trend_per_fit], axis = 1)\n",
    "    \n",
    "    y = data[['log_y/l']]\n",
    "    x = data[['log_k/l','log_h/l','trend_per']]\n",
    "    x = sm.add_constant(x)\n",
    "    \n",
    "    model = sm.OLS(y,x).fit()\n",
    "    model_sum = model.summary()\n",
    "    #model_sum = print(f'ШУТД үйлвэрлэл нэг хүнд ноогдохоор {model_sum}')\n",
    "    \n",
    "    params = pd.DataFrame(model.params, columns = ['Коэффициент'])\n",
    "    std = pd.DataFrame(model.bse, columns = ['Стандарт алдаа'])\n",
    "    t_stat = pd.DataFrame(model.tvalues, columns = ['t статистик'])\n",
    "    p_value = pd.DataFrame(model.pvalues, columns = ['Магадлал'])\n",
    "    \n",
    "    print('Нэг ажилчинд ноогдохоор тооцсон ШУТД, хүмүн капиталтай үйлдвэрлэлийн функцын үнэлгээ') \n",
    "    df = pd.concat([params,std,t_stat,p_value], axis = 1)\n",
    "    \n",
    "    return df"
   ]
  },
  {
   "cell_type": "code",
   "execution_count": 45,
   "id": "be506af1",
   "metadata": {},
   "outputs": [],
   "source": [
    "#Тогтвортой төлөвийн капитал !!!Зөвхөн model4 - ийг үнэлэх үед ажиллана.\n",
    "def steady():\n",
    "    #model parameters\n",
    "    #print('Загварын үнэлгээ')\n",
    "    model = model4()\n",
    "    \n",
    "    #data\n",
    "    #print('Өгөгдлийн утга тодорхойлох')\n",
    "    data = country_sort()\n",
    "    \n",
    "    #parameters1\n",
    "    tech = np.exp(model['Коэффициент'].values[0])\n",
    "    alpha = model['Коэффициент'].values[1]\n",
    "    \n",
    "    #parameters2\n",
    "    x = (model['Коэффициент'].values[2]) / (1-alpha)\n",
    "    delta = data['delta'].mean()\n",
    "    s = data['invest_per'].mean()\n",
    "    n = data['labour'].pct_change().mean()\n",
    "    \n",
    "    #parameters3 calculation\n",
    "    k_hat_ss = ((s * tech) / (n + delta + x)) ** (1 / (1 - alpha))\n",
    "    \n",
    "    #random k_hat numbers calculations\n",
    "    k = k_hat_ss\n",
    "    k1 = int(k/10)\n",
    "    k2 = int(k/10+k)\n",
    "    k3 = int(k/10)\n",
    "\n",
    "    k_ss_df = pd.DataFrame(range(k1, k2, k3), columns = ['k_hat'])\n",
    "    \n",
    "    #1r heseg\n",
    "    s_and_k =  k_ss_df['k_hat'] ** alpha \n",
    "    k_ss_df['s_and_k'] = s * tech * s_and_k\n",
    "    \n",
    "    #2r heseg\n",
    "    n_delta_x = (n + delta + x)\n",
    "    k_ss_df['n_delta_x'] = k_ss_df['k_hat'] * n_delta_x\n",
    "    \n",
    "    \n",
    "    #Тогтвортой төлөвийн капитал зураглал\n",
    "    fig = go.Figure()\n",
    "    \n",
    "    fig.add_trace(go.Scatter(x=k_ss_df['k_hat'], y=k_ss_df['s_and_k'],\n",
    "                    mode='lines+markers',\n",
    "                    name='s*f(k^)'))\n",
    "    \n",
    "    fig.add_trace(go.Scatter(x=k_ss_df['k_hat'], y=k_ss_df['n_delta_x'],\n",
    "                    mode='lines+markers',\n",
    "                    name='(n+delta+x)*k^'))\n",
    "    \n",
    "    fig.update_layout(title=f'Тогтвортой төлөвийн капитал, тэнцвэрт капитал: {k_hat_ss}',\n",
    "                   xaxis_title='Капитал',\n",
    "                   yaxis_title=' ')\n",
    "    graph = fig.show()\n",
    "    \n",
    "    plt.figure(figsize = (15,8))\n",
    "    plt.plot(k_ss_df['k_hat'], k_ss_df['s_and_k'], marker = 'o', label = 's*f(k^)')\n",
    "    plt.plot(k_ss_df['k_hat'], k_ss_df['n_delta_x'], marker = 'o', label = '(n+delta+x)*k^')\n",
    "       \n",
    "    plt.xlabel('Капитал')\n",
    "    plt.title(f'Тогтвортой төлөвийн капитал, тэнцвэрт капитал: {k_hat_ss}')\n",
    "    plt.legend()\n",
    "    plt.show()\n",
    "\n",
    "    return graph"
   ]
  },
  {
   "cell_type": "code",
   "execution_count": 47,
   "id": "7e1119a1",
   "metadata": {},
   "outputs": [],
   "source": [
    "#Шилжилтийн динамик\n",
    "#Тогтвортой төлөвийн капитал !!!Зөвхөн model4 - ийг үнэлэх үед ажиллана.\n",
    "def dynamics():\n",
    "    #model parameters\n",
    "    #print('Загварын үнэлгээ')\n",
    "    model = model4()\n",
    "    \n",
    "    #data\n",
    "    #print('Өгөгдлийн утга тодорхойлох')\n",
    "    data = country_sort()\n",
    "    \n",
    "    #parameters1\n",
    "    tech = np.exp(model['Коэффициент'].values[0])\n",
    "    alpha = model['Коэффициент'].values[1]\n",
    "    \n",
    "    #parameters2\n",
    "    x = (model['Коэффициент'].values[2]) / (1-alpha)\n",
    "    delta = data['delta'].mean()\n",
    "    s = data['invest_per'].mean()\n",
    "    n = data['labour'].pct_change().mean()\n",
    "    \n",
    "    #parameters3 calculation\n",
    "    k_hat_ss = ((s * tech) / (n + delta + x)) ** (1 / (1 - alpha))\n",
    "    \n",
    "    #random k_hat numbers calculations\n",
    "    k = k_hat_ss\n",
    "    k1 = int(k/10)\n",
    "    k2 = int(k/10+k)\n",
    "    k3 = int(k/10)\n",
    "\n",
    "    k_ss_df = pd.DataFrame(range(k1, k2, k3), columns = ['k_hat'])\n",
    "    \n",
    "    #1r heseg\n",
    "    s_and_k =  k_ss_df['k_hat'] ** (alpha - 1)\n",
    "    k_ss_df['s_and_k'] = s * tech * s_and_k\n",
    "    \n",
    "    #2r heseg\n",
    "    n_delta_x = (n + delta + x)\n",
    "    k_ss_df['n_delta_x'] = k_ss_df['k_hat'] * n_delta_x\n",
    "    \n",
    "    \n",
    "    #Шилжилтийн динамик\n",
    "    k_ss_df['n_delta_x_dynamic'] = n_delta_x\n",
    "    \n",
    "    fig = go.Figure()\n",
    "    \n",
    "    fig.add_trace(go.Scatter(x=k_ss_df['k_hat'], y=k_ss_df['s_and_k'],\n",
    "                    mode='lines+markers',\n",
    "                    name='s*f(k^)'))\n",
    "    \n",
    "    fig.add_trace(go.Scatter(x=k_ss_df['k_hat'], y=k_ss_df['n_delta_x_dynamic'],\n",
    "                    mode='lines+markers',\n",
    "                    name='(n+delta+x)'))\n",
    "    \n",
    "    fig.update_layout(title=f'Шилжилтийн динамик, тэнцвэрт капитал: {k_hat_ss}',\n",
    "                   xaxis_title='Капитал',\n",
    "                   yaxis_title=' ')\n",
    "    graph = fig.show()\n",
    "    \n",
    "    \n",
    "    plt.figure(figsize = (15,8))\n",
    "    plt.plot(k_ss_df['k_hat'], k_ss_df['s_and_k'], marker = 'o', label = 's*f(k^)')\n",
    "    plt.plot(k_ss_df['k_hat'], k_ss_df['n_delta_x_dynamic'], marker = 'o', label = '(n+delta+x)')\n",
    "       \n",
    "    plt.xlabel('Капитал')\n",
    "    plt.title(f'Шилжилтийн динамик, тэнцвэрт капитал: {k_hat_ss}')\n",
    "    plt.legend()\n",
    "    plt.show()\n",
    "    \n",
    "    \n",
    "    return graph"
   ]
  },
  {
   "cell_type": "code",
   "execution_count": 18,
   "id": "59bd2b30",
   "metadata": {},
   "outputs": [
    {
     "name": "stdout",
     "output_type": "stream",
     "text": [
      "Country name: China\n",
      "ялгаж авах боломжтой жилийн мэдээлэл 1952 - аас 2019\n",
      "Starting year: 1970\n",
      "Ending year: 2019\n",
      "Энгийн үйлдвэрлэлийн функцын үнэлгээ\n"
     ]
    },
    {
     "data": {
      "text/html": [
       "<div>\n",
       "<style scoped>\n",
       "    .dataframe tbody tr th:only-of-type {\n",
       "        vertical-align: middle;\n",
       "    }\n",
       "\n",
       "    .dataframe tbody tr th {\n",
       "        vertical-align: top;\n",
       "    }\n",
       "\n",
       "    .dataframe thead th {\n",
       "        text-align: right;\n",
       "    }\n",
       "</style>\n",
       "<table border=\"1\" class=\"dataframe\">\n",
       "  <thead>\n",
       "    <tr style=\"text-align: right;\">\n",
       "      <th></th>\n",
       "      <th>Коэффициент</th>\n",
       "      <th>Стандарт алдаа</th>\n",
       "      <th>t статистик</th>\n",
       "      <th>Магадлал</th>\n",
       "    </tr>\n",
       "  </thead>\n",
       "  <tbody>\n",
       "    <tr>\n",
       "      <th>const</th>\n",
       "      <td>3.461297</td>\n",
       "      <td>0.254765</td>\n",
       "      <td>13.586209</td>\n",
       "      <td>6.826696e-18</td>\n",
       "    </tr>\n",
       "    <tr>\n",
       "      <th>log_k</th>\n",
       "      <td>0.601347</td>\n",
       "      <td>0.010969</td>\n",
       "      <td>54.821581</td>\n",
       "      <td>2.964961e-44</td>\n",
       "    </tr>\n",
       "    <tr>\n",
       "      <th>log_l</th>\n",
       "      <td>0.360292</td>\n",
       "      <td>0.062353</td>\n",
       "      <td>5.778222</td>\n",
       "      <td>5.820903e-07</td>\n",
       "    </tr>\n",
       "  </tbody>\n",
       "</table>\n",
       "</div>"
      ],
      "text/plain": [
       "       Коэффициент  Стандарт алдаа  t статистик      Магадлал\n",
       "const     3.461297        0.254765    13.586209  6.826696e-18\n",
       "log_k     0.601347        0.010969    54.821581  2.964961e-44\n",
       "log_l     0.360292        0.062353     5.778222  5.820903e-07"
      ]
     },
     "execution_count": 18,
     "metadata": {},
     "output_type": "execute_result"
    }
   ],
   "source": [
    "model1()"
   ]
  },
  {
   "cell_type": "code",
   "execution_count": 19,
   "id": "1e065887",
   "metadata": {},
   "outputs": [
    {
     "name": "stdout",
     "output_type": "stream",
     "text": [
      "Country name: China\n",
      "ялгаж авах боломжтой жилийн мэдээлэл 1952 - аас 2019\n",
      "Starting year: 1970\n",
      "Ending year: 2019\n",
      "Нэг ажилчинд ноогдохоор тооцсон энгийн үйлдвэрлэлийн функцын үнэлгээ\n"
     ]
    },
    {
     "data": {
      "text/html": [
       "<div>\n",
       "<style scoped>\n",
       "    .dataframe tbody tr th:only-of-type {\n",
       "        vertical-align: middle;\n",
       "    }\n",
       "\n",
       "    .dataframe tbody tr th {\n",
       "        vertical-align: top;\n",
       "    }\n",
       "\n",
       "    .dataframe thead th {\n",
       "        text-align: right;\n",
       "    }\n",
       "</style>\n",
       "<table border=\"1\" class=\"dataframe\">\n",
       "  <thead>\n",
       "    <tr style=\"text-align: right;\">\n",
       "      <th></th>\n",
       "      <th>Коэффициент</th>\n",
       "      <th>Стандарт алдаа</th>\n",
       "      <th>t статистик</th>\n",
       "      <th>Магадлал</th>\n",
       "    </tr>\n",
       "  </thead>\n",
       "  <tbody>\n",
       "    <tr>\n",
       "      <th>const</th>\n",
       "      <td>3.279602</td>\n",
       "      <td>0.052379</td>\n",
       "      <td>62.613313</td>\n",
       "      <td>1.108006e-47</td>\n",
       "    </tr>\n",
       "    <tr>\n",
       "      <th>log_k/l</th>\n",
       "      <td>0.594437</td>\n",
       "      <td>0.005490</td>\n",
       "      <td>108.274833</td>\n",
       "      <td>5.126127e-59</td>\n",
       "    </tr>\n",
       "  </tbody>\n",
       "</table>\n",
       "</div>"
      ],
      "text/plain": [
       "         Коэффициент  Стандарт алдаа  t статистик      Магадлал\n",
       "const       3.279602        0.052379    62.613313  1.108006e-47\n",
       "log_k/l     0.594437        0.005490   108.274833  5.126127e-59"
      ]
     },
     "execution_count": 19,
     "metadata": {},
     "output_type": "execute_result"
    }
   ],
   "source": [
    "model2()"
   ]
  },
  {
   "cell_type": "code",
   "execution_count": 20,
   "id": "6c10e584",
   "metadata": {},
   "outputs": [
    {
     "name": "stdout",
     "output_type": "stream",
     "text": [
      "Country name: China\n",
      "ялгаж авах боломжтой жилийн мэдээлэл 1952 - аас 2019\n",
      "Starting year: 1970\n",
      "Ending year: 2019\n",
      "Country name: China\n",
      "ялгаж авах боломжтой жилийн мэдээлэл 1952 - аас 2019\n",
      "Starting year: 1970\n",
      "Ending year: 2019\n",
      "Шинжлэх ухаан технологийн дэвшилтэй үйлдвэрлэлийн функцын үнэлгээ\n"
     ]
    },
    {
     "data": {
      "text/html": [
       "<div>\n",
       "<style scoped>\n",
       "    .dataframe tbody tr th:only-of-type {\n",
       "        vertical-align: middle;\n",
       "    }\n",
       "\n",
       "    .dataframe tbody tr th {\n",
       "        vertical-align: top;\n",
       "    }\n",
       "\n",
       "    .dataframe thead th {\n",
       "        text-align: right;\n",
       "    }\n",
       "</style>\n",
       "<table border=\"1\" class=\"dataframe\">\n",
       "  <thead>\n",
       "    <tr style=\"text-align: right;\">\n",
       "      <th></th>\n",
       "      <th>Коэффициент</th>\n",
       "      <th>Стандарт алдаа</th>\n",
       "      <th>t статистик</th>\n",
       "      <th>Магадлал</th>\n",
       "    </tr>\n",
       "  </thead>\n",
       "  <tbody>\n",
       "    <tr>\n",
       "      <th>const</th>\n",
       "      <td>-1.732392e+01</td>\n",
       "      <td>4.478774e+00</td>\n",
       "      <td>-3.868006</td>\n",
       "      <td>3.435025e-04</td>\n",
       "    </tr>\n",
       "    <tr>\n",
       "      <th>log_k</th>\n",
       "      <td>1.518243e+00</td>\n",
       "      <td>1.975610e-01</td>\n",
       "      <td>7.684930</td>\n",
       "      <td>8.650246e-10</td>\n",
       "    </tr>\n",
       "    <tr>\n",
       "      <th>log_l</th>\n",
       "      <td>1.624417e+00</td>\n",
       "      <td>2.770095e-01</td>\n",
       "      <td>5.864119</td>\n",
       "      <td>4.626491e-07</td>\n",
       "    </tr>\n",
       "    <tr>\n",
       "      <th>trend</th>\n",
       "      <td>-2.795489e-07</td>\n",
       "      <td>6.016906e-08</td>\n",
       "      <td>-4.646058</td>\n",
       "      <td>2.852492e-05</td>\n",
       "    </tr>\n",
       "  </tbody>\n",
       "</table>\n",
       "</div>"
      ],
      "text/plain": [
       "        Коэффициент  Стандарт алдаа  t статистик      Магадлал\n",
       "const -1.732392e+01    4.478774e+00    -3.868006  3.435025e-04\n",
       "log_k  1.518243e+00    1.975610e-01     7.684930  8.650246e-10\n",
       "log_l  1.624417e+00    2.770095e-01     5.864119  4.626491e-07\n",
       "trend -2.795489e-07    6.016906e-08    -4.646058  2.852492e-05"
      ]
     },
     "execution_count": 20,
     "metadata": {},
     "output_type": "execute_result"
    }
   ],
   "source": [
    "model3()"
   ]
  },
  {
   "cell_type": "code",
   "execution_count": 21,
   "id": "e25ffa2c",
   "metadata": {},
   "outputs": [
    {
     "name": "stdout",
     "output_type": "stream",
     "text": [
      "Country name: China\n",
      "ялгаж авах боломжтой жилийн мэдээлэл 1952 - аас 2019\n",
      "Starting year: 1970\n",
      "Ending year: 2019\n",
      "Country name: China\n",
      "ялгаж авах боломжтой жилийн мэдээлэл 1952 - аас 2019\n",
      "Starting year: 1970\n",
      "Ending year: 2019\n",
      "Нэг ажилчинд ноогдохоор тооцсон ШУТД, үйлдвэрлэлийн функцын үнэлгээ\n"
     ]
    },
    {
     "data": {
      "text/html": [
       "<div>\n",
       "<style scoped>\n",
       "    .dataframe tbody tr th:only-of-type {\n",
       "        vertical-align: middle;\n",
       "    }\n",
       "\n",
       "    .dataframe tbody tr th {\n",
       "        vertical-align: top;\n",
       "    }\n",
       "\n",
       "    .dataframe thead th {\n",
       "        text-align: right;\n",
       "    }\n",
       "</style>\n",
       "<table border=\"1\" class=\"dataframe\">\n",
       "  <thead>\n",
       "    <tr style=\"text-align: right;\">\n",
       "      <th></th>\n",
       "      <th>Коэффициент</th>\n",
       "      <th>Стандарт алдаа</th>\n",
       "      <th>t статистик</th>\n",
       "      <th>Магадлал</th>\n",
       "    </tr>\n",
       "  </thead>\n",
       "  <tbody>\n",
       "    <tr>\n",
       "      <th>const</th>\n",
       "      <td>3.016034</td>\n",
       "      <td>0.246534</td>\n",
       "      <td>12.233761</td>\n",
       "      <td>3.249827e-16</td>\n",
       "    </tr>\n",
       "    <tr>\n",
       "      <th>log_k/l</th>\n",
       "      <td>0.628623</td>\n",
       "      <td>0.031727</td>\n",
       "      <td>19.813589</td>\n",
       "      <td>1.862212e-24</td>\n",
       "    </tr>\n",
       "    <tr>\n",
       "      <th>trend_per</th>\n",
       "      <td>-0.000006</td>\n",
       "      <td>0.000006</td>\n",
       "      <td>-1.093970</td>\n",
       "      <td>2.795435e-01</td>\n",
       "    </tr>\n",
       "  </tbody>\n",
       "</table>\n",
       "</div>"
      ],
      "text/plain": [
       "           Коэффициент  Стандарт алдаа  t статистик      Магадлал\n",
       "const         3.016034        0.246534    12.233761  3.249827e-16\n",
       "log_k/l       0.628623        0.031727    19.813589  1.862212e-24\n",
       "trend_per    -0.000006        0.000006    -1.093970  2.795435e-01"
      ]
     },
     "execution_count": 21,
     "metadata": {},
     "output_type": "execute_result"
    }
   ],
   "source": [
    "model4()"
   ]
  },
  {
   "cell_type": "code",
   "execution_count": 22,
   "id": "f869509f",
   "metadata": {},
   "outputs": [
    {
     "name": "stdout",
     "output_type": "stream",
     "text": [
      "Country name: China\n",
      "ялгаж авах боломжтой жилийн мэдээлэл 1952 - аас 2019\n",
      "Starting year: 1970\n",
      "Ending year: 2019\n",
      "Хүмүн капиталтай үйлдвэрлэлийн функцын үнэлгээ\n"
     ]
    },
    {
     "data": {
      "text/html": [
       "<div>\n",
       "<style scoped>\n",
       "    .dataframe tbody tr th:only-of-type {\n",
       "        vertical-align: middle;\n",
       "    }\n",
       "\n",
       "    .dataframe tbody tr th {\n",
       "        vertical-align: top;\n",
       "    }\n",
       "\n",
       "    .dataframe thead th {\n",
       "        text-align: right;\n",
       "    }\n",
       "</style>\n",
       "<table border=\"1\" class=\"dataframe\">\n",
       "  <thead>\n",
       "    <tr style=\"text-align: right;\">\n",
       "      <th></th>\n",
       "      <th>Коэффициент</th>\n",
       "      <th>Стандарт алдаа</th>\n",
       "      <th>t статистик</th>\n",
       "      <th>Магадлал</th>\n",
       "    </tr>\n",
       "  </thead>\n",
       "  <tbody>\n",
       "    <tr>\n",
       "      <th>const</th>\n",
       "      <td>0.043039</td>\n",
       "      <td>1.098786</td>\n",
       "      <td>0.039170</td>\n",
       "      <td>9.689247e-01</td>\n",
       "    </tr>\n",
       "    <tr>\n",
       "      <th>log_k</th>\n",
       "      <td>0.695457</td>\n",
       "      <td>0.031220</td>\n",
       "      <td>22.275991</td>\n",
       "      <td>2.779800e-26</td>\n",
       "    </tr>\n",
       "    <tr>\n",
       "      <th>log_l</th>\n",
       "      <td>0.805881</td>\n",
       "      <td>0.151154</td>\n",
       "      <td>5.331517</td>\n",
       "      <td>2.867349e-06</td>\n",
       "    </tr>\n",
       "    <tr>\n",
       "      <th>log_h</th>\n",
       "      <td>-1.309047</td>\n",
       "      <td>0.411209</td>\n",
       "      <td>-3.183409</td>\n",
       "      <td>2.610708e-03</td>\n",
       "    </tr>\n",
       "  </tbody>\n",
       "</table>\n",
       "</div>"
      ],
      "text/plain": [
       "       Коэффициент  Стандарт алдаа  t статистик      Магадлал\n",
       "const     0.043039        1.098786     0.039170  9.689247e-01\n",
       "log_k     0.695457        0.031220    22.275991  2.779800e-26\n",
       "log_l     0.805881        0.151154     5.331517  2.867349e-06\n",
       "log_h    -1.309047        0.411209    -3.183409  2.610708e-03"
      ]
     },
     "execution_count": 22,
     "metadata": {},
     "output_type": "execute_result"
    }
   ],
   "source": [
    "model5()"
   ]
  },
  {
   "cell_type": "code",
   "execution_count": 23,
   "id": "8bb80d7f",
   "metadata": {},
   "outputs": [
    {
     "name": "stdout",
     "output_type": "stream",
     "text": [
      "Country name: China\n",
      "ялгаж авах боломжтой жилийн мэдээлэл 1952 - аас 2019\n",
      "Starting year: 1970\n",
      "Ending year: 2019\n",
      "Нэг ажилчинд ноогдохоор тооцсон хүмүн капиталтай үйлдвэрлэлийн функцын үнэлгээ\n"
     ]
    },
    {
     "data": {
      "text/html": [
       "<div>\n",
       "<style scoped>\n",
       "    .dataframe tbody tr th:only-of-type {\n",
       "        vertical-align: middle;\n",
       "    }\n",
       "\n",
       "    .dataframe tbody tr th {\n",
       "        vertical-align: top;\n",
       "    }\n",
       "\n",
       "    .dataframe thead th {\n",
       "        text-align: right;\n",
       "    }\n",
       "</style>\n",
       "<table border=\"1\" class=\"dataframe\">\n",
       "  <thead>\n",
       "    <tr style=\"text-align: right;\">\n",
       "      <th></th>\n",
       "      <th>Коэффициент</th>\n",
       "      <th>Стандарт алдаа</th>\n",
       "      <th>t статистик</th>\n",
       "      <th>Магадлал</th>\n",
       "    </tr>\n",
       "  </thead>\n",
       "  <tbody>\n",
       "    <tr>\n",
       "      <th>const</th>\n",
       "      <td>3.348593</td>\n",
       "      <td>0.479279</td>\n",
       "      <td>6.986732</td>\n",
       "      <td>8.561109e-09</td>\n",
       "    </tr>\n",
       "    <tr>\n",
       "      <th>log_k/l</th>\n",
       "      <td>0.594871</td>\n",
       "      <td>0.006306</td>\n",
       "      <td>94.326930</td>\n",
       "      <td>3.142903e-55</td>\n",
       "    </tr>\n",
       "    <tr>\n",
       "      <th>log_h/l</th>\n",
       "      <td>0.012788</td>\n",
       "      <td>0.088296</td>\n",
       "      <td>0.144833</td>\n",
       "      <td>8.854617e-01</td>\n",
       "    </tr>\n",
       "  </tbody>\n",
       "</table>\n",
       "</div>"
      ],
      "text/plain": [
       "         Коэффициент  Стандарт алдаа  t статистик      Магадлал\n",
       "const       3.348593        0.479279     6.986732  8.561109e-09\n",
       "log_k/l     0.594871        0.006306    94.326930  3.142903e-55\n",
       "log_h/l     0.012788        0.088296     0.144833  8.854617e-01"
      ]
     },
     "execution_count": 23,
     "metadata": {},
     "output_type": "execute_result"
    }
   ],
   "source": [
    "model6()"
   ]
  },
  {
   "cell_type": "code",
   "execution_count": 24,
   "id": "9f7a9c66",
   "metadata": {},
   "outputs": [
    {
     "name": "stdout",
     "output_type": "stream",
     "text": [
      "Country name: China\n",
      "ялгаж авах боломжтой жилийн мэдээлэл 1952 - аас 2019\n",
      "Starting year: 1970\n",
      "Ending year: 2019\n",
      "Country name: China\n",
      "ялгаж авах боломжтой жилийн мэдээлэл 1952 - аас 2019\n",
      "Starting year: 1970\n",
      "Ending year: 2019\n",
      "ШУТД, хүмүн капиталтай үйлдвэрлэлийн функцын үнэлгээ\n"
     ]
    },
    {
     "data": {
      "text/html": [
       "<div>\n",
       "<style scoped>\n",
       "    .dataframe tbody tr th:only-of-type {\n",
       "        vertical-align: middle;\n",
       "    }\n",
       "\n",
       "    .dataframe tbody tr th {\n",
       "        vertical-align: top;\n",
       "    }\n",
       "\n",
       "    .dataframe thead th {\n",
       "        text-align: right;\n",
       "    }\n",
       "</style>\n",
       "<table border=\"1\" class=\"dataframe\">\n",
       "  <thead>\n",
       "    <tr style=\"text-align: right;\">\n",
       "      <th></th>\n",
       "      <th>Коэффициент</th>\n",
       "      <th>Стандарт алдаа</th>\n",
       "      <th>t статистик</th>\n",
       "      <th>Магадлал</th>\n",
       "    </tr>\n",
       "  </thead>\n",
       "  <tbody>\n",
       "    <tr>\n",
       "      <th>const</th>\n",
       "      <td>-1.588878e+01</td>\n",
       "      <td>5.261286e+00</td>\n",
       "      <td>-3.019942</td>\n",
       "      <td>4.156692e-03</td>\n",
       "    </tr>\n",
       "    <tr>\n",
       "      <th>log_k</th>\n",
       "      <td>1.443294e+00</td>\n",
       "      <td>2.440677e-01</td>\n",
       "      <td>5.913497</td>\n",
       "      <td>4.195941e-07</td>\n",
       "    </tr>\n",
       "    <tr>\n",
       "      <th>log_l</th>\n",
       "      <td>1.585953e+00</td>\n",
       "      <td>2.884396e-01</td>\n",
       "      <td>5.498387</td>\n",
       "      <td>1.722800e-06</td>\n",
       "    </tr>\n",
       "    <tr>\n",
       "      <th>log_h</th>\n",
       "      <td>-2.688567e-01</td>\n",
       "      <td>5.062861e-01</td>\n",
       "      <td>-0.531037</td>\n",
       "      <td>5.980046e-01</td>\n",
       "    </tr>\n",
       "    <tr>\n",
       "      <th>trend</th>\n",
       "      <td>-2.508049e-07</td>\n",
       "      <td>8.128696e-08</td>\n",
       "      <td>-3.085426</td>\n",
       "      <td>3.470955e-03</td>\n",
       "    </tr>\n",
       "  </tbody>\n",
       "</table>\n",
       "</div>"
      ],
      "text/plain": [
       "        Коэффициент  Стандарт алдаа  t статистик      Магадлал\n",
       "const -1.588878e+01    5.261286e+00    -3.019942  4.156692e-03\n",
       "log_k  1.443294e+00    2.440677e-01     5.913497  4.195941e-07\n",
       "log_l  1.585953e+00    2.884396e-01     5.498387  1.722800e-06\n",
       "log_h -2.688567e-01    5.062861e-01    -0.531037  5.980046e-01\n",
       "trend -2.508049e-07    8.128696e-08    -3.085426  3.470955e-03"
      ]
     },
     "execution_count": 24,
     "metadata": {},
     "output_type": "execute_result"
    }
   ],
   "source": [
    "model7()"
   ]
  },
  {
   "cell_type": "code",
   "execution_count": 26,
   "id": "963bb423",
   "metadata": {},
   "outputs": [
    {
     "name": "stdout",
     "output_type": "stream",
     "text": [
      "Country name: China\n",
      "ялгаж авах боломжтой жилийн мэдээлэл 1952 - аас 2019\n",
      "Starting year: 1970\n",
      "Ending year: 2019\n",
      "Country name: China\n",
      "ялгаж авах боломжтой жилийн мэдээлэл 1952 - аас 2019\n",
      "Starting year: 1970\n",
      "Ending year: 2019\n",
      "Нэг ажилчинд ноогдохоор тооцсон ШУТД, хүмүн капиталтай үйлдвэрлэлийн функцын үнэлгээ\n"
     ]
    },
    {
     "data": {
      "text/html": [
       "<div>\n",
       "<style scoped>\n",
       "    .dataframe tbody tr th:only-of-type {\n",
       "        vertical-align: middle;\n",
       "    }\n",
       "\n",
       "    .dataframe tbody tr th {\n",
       "        vertical-align: top;\n",
       "    }\n",
       "\n",
       "    .dataframe thead th {\n",
       "        text-align: right;\n",
       "    }\n",
       "</style>\n",
       "<table border=\"1\" class=\"dataframe\">\n",
       "  <thead>\n",
       "    <tr style=\"text-align: right;\">\n",
       "      <th></th>\n",
       "      <th>Коэффициент</th>\n",
       "      <th>Стандарт алдаа</th>\n",
       "      <th>t статистик</th>\n",
       "      <th>Магадлал</th>\n",
       "    </tr>\n",
       "  </thead>\n",
       "  <tbody>\n",
       "    <tr>\n",
       "      <th>const</th>\n",
       "      <td>-6.100147</td>\n",
       "      <td>2.333894</td>\n",
       "      <td>-2.613720</td>\n",
       "      <td>1.206412e-02</td>\n",
       "    </tr>\n",
       "    <tr>\n",
       "      <th>log_k/l</th>\n",
       "      <td>0.981062</td>\n",
       "      <td>0.094035</td>\n",
       "      <td>10.432927</td>\n",
       "      <td>1.039274e-13</td>\n",
       "    </tr>\n",
       "    <tr>\n",
       "      <th>log_h/l</th>\n",
       "      <td>-1.131180</td>\n",
       "      <td>0.288361</td>\n",
       "      <td>-3.922787</td>\n",
       "      <td>2.899042e-04</td>\n",
       "    </tr>\n",
       "    <tr>\n",
       "      <th>trend_per</th>\n",
       "      <td>-0.000078</td>\n",
       "      <td>0.000019</td>\n",
       "      <td>-4.113796</td>\n",
       "      <td>1.592993e-04</td>\n",
       "    </tr>\n",
       "  </tbody>\n",
       "</table>\n",
       "</div>"
      ],
      "text/plain": [
       "           Коэффициент  Стандарт алдаа  t статистик      Магадлал\n",
       "const        -6.100147        2.333894    -2.613720  1.206412e-02\n",
       "log_k/l       0.981062        0.094035    10.432927  1.039274e-13\n",
       "log_h/l      -1.131180        0.288361    -3.922787  2.899042e-04\n",
       "trend_per    -0.000078        0.000019    -4.113796  1.592993e-04"
      ]
     },
     "execution_count": 26,
     "metadata": {},
     "output_type": "execute_result"
    }
   ],
   "source": [
    "model8()"
   ]
  },
  {
   "cell_type": "code",
   "execution_count": 56,
   "id": "b09b4eae",
   "metadata": {},
   "outputs": [
    {
     "name": "stdout",
     "output_type": "stream",
     "text": [
      "Country name: China\n",
      "ялгаж авах боломжтой жилийн мэдээлэл 1952 - аас 2019\n",
      "Starting year: 1970\n",
      "Ending year: 2019\n",
      "Country name: China\n",
      "ялгаж авах боломжтой жилийн мэдээлэл 1952 - аас 2019\n",
      "Starting year: 1970\n",
      "Ending year: 2019\n",
      "Нэг ажилчинд ноогдохоор тооцсон ШУТД, үйлдвэрлэлийн функцын үнэлгээ\n",
      "Country name: China\n",
      "ялгаж авах боломжтой жилийн мэдээлэл 1952 - аас 2019\n",
      "Starting year: 1970\n",
      "Ending year: 2019\n"
     ]
    },
    {
     "data": {
      "application/vnd.plotly.v1+json": {
       "config": {
        "plotlyServerURL": "https://plot.ly"
       },
       "data": [
        {
         "mode": "lines+markers",
         "name": "s*f(k^)",
         "type": "scatter",
         "x": [
          7519,
          15038,
          22557,
          30076,
          37595,
          45114,
          52633,
          60152,
          67671,
          75190,
          82709
         ],
         "y": [
          1244.6619216515935,
          1924.3581076170938,
          2483.0243289977657,
          2975.2289050811273,
          3423.2631390728125,
          3838.9766054519578,
          4229.604720950235,
          4599.968687008853,
          4953.481512645351,
          5292.669488466531,
          5619.467757362912
         ]
        },
        {
         "mode": "lines+markers",
         "name": "(n+delta+x)*k^",
         "type": "scatter",
         "x": [
          7519,
          15038,
          22557,
          30076,
          37595,
          45114,
          52633,
          60152,
          67671,
          75190,
          82709
         ],
         "y": [
          529.2486811779563,
          1058.4973623559126,
          1587.7460435338687,
          2116.9947247118253,
          2646.2434058897816,
          3175.4920870677374,
          3704.7407682456937,
          4233.9894494236505,
          4763.238130601607,
          5292.486811779563,
          5821.735492957519
         ]
        }
       ],
       "layout": {
        "template": {
         "data": {
          "bar": [
           {
            "error_x": {
             "color": "#2a3f5f"
            },
            "error_y": {
             "color": "#2a3f5f"
            },
            "marker": {
             "line": {
              "color": "#E5ECF6",
              "width": 0.5
             },
             "pattern": {
              "fillmode": "overlay",
              "size": 10,
              "solidity": 0.2
             }
            },
            "type": "bar"
           }
          ],
          "barpolar": [
           {
            "marker": {
             "line": {
              "color": "#E5ECF6",
              "width": 0.5
             },
             "pattern": {
              "fillmode": "overlay",
              "size": 10,
              "solidity": 0.2
             }
            },
            "type": "barpolar"
           }
          ],
          "carpet": [
           {
            "aaxis": {
             "endlinecolor": "#2a3f5f",
             "gridcolor": "white",
             "linecolor": "white",
             "minorgridcolor": "white",
             "startlinecolor": "#2a3f5f"
            },
            "baxis": {
             "endlinecolor": "#2a3f5f",
             "gridcolor": "white",
             "linecolor": "white",
             "minorgridcolor": "white",
             "startlinecolor": "#2a3f5f"
            },
            "type": "carpet"
           }
          ],
          "choropleth": [
           {
            "colorbar": {
             "outlinewidth": 0,
             "ticks": ""
            },
            "type": "choropleth"
           }
          ],
          "contour": [
           {
            "colorbar": {
             "outlinewidth": 0,
             "ticks": ""
            },
            "colorscale": [
             [
              0,
              "#0d0887"
             ],
             [
              0.1111111111111111,
              "#46039f"
             ],
             [
              0.2222222222222222,
              "#7201a8"
             ],
             [
              0.3333333333333333,
              "#9c179e"
             ],
             [
              0.4444444444444444,
              "#bd3786"
             ],
             [
              0.5555555555555556,
              "#d8576b"
             ],
             [
              0.6666666666666666,
              "#ed7953"
             ],
             [
              0.7777777777777778,
              "#fb9f3a"
             ],
             [
              0.8888888888888888,
              "#fdca26"
             ],
             [
              1,
              "#f0f921"
             ]
            ],
            "type": "contour"
           }
          ],
          "contourcarpet": [
           {
            "colorbar": {
             "outlinewidth": 0,
             "ticks": ""
            },
            "type": "contourcarpet"
           }
          ],
          "heatmap": [
           {
            "colorbar": {
             "outlinewidth": 0,
             "ticks": ""
            },
            "colorscale": [
             [
              0,
              "#0d0887"
             ],
             [
              0.1111111111111111,
              "#46039f"
             ],
             [
              0.2222222222222222,
              "#7201a8"
             ],
             [
              0.3333333333333333,
              "#9c179e"
             ],
             [
              0.4444444444444444,
              "#bd3786"
             ],
             [
              0.5555555555555556,
              "#d8576b"
             ],
             [
              0.6666666666666666,
              "#ed7953"
             ],
             [
              0.7777777777777778,
              "#fb9f3a"
             ],
             [
              0.8888888888888888,
              "#fdca26"
             ],
             [
              1,
              "#f0f921"
             ]
            ],
            "type": "heatmap"
           }
          ],
          "heatmapgl": [
           {
            "colorbar": {
             "outlinewidth": 0,
             "ticks": ""
            },
            "colorscale": [
             [
              0,
              "#0d0887"
             ],
             [
              0.1111111111111111,
              "#46039f"
             ],
             [
              0.2222222222222222,
              "#7201a8"
             ],
             [
              0.3333333333333333,
              "#9c179e"
             ],
             [
              0.4444444444444444,
              "#bd3786"
             ],
             [
              0.5555555555555556,
              "#d8576b"
             ],
             [
              0.6666666666666666,
              "#ed7953"
             ],
             [
              0.7777777777777778,
              "#fb9f3a"
             ],
             [
              0.8888888888888888,
              "#fdca26"
             ],
             [
              1,
              "#f0f921"
             ]
            ],
            "type": "heatmapgl"
           }
          ],
          "histogram": [
           {
            "marker": {
             "pattern": {
              "fillmode": "overlay",
              "size": 10,
              "solidity": 0.2
             }
            },
            "type": "histogram"
           }
          ],
          "histogram2d": [
           {
            "colorbar": {
             "outlinewidth": 0,
             "ticks": ""
            },
            "colorscale": [
             [
              0,
              "#0d0887"
             ],
             [
              0.1111111111111111,
              "#46039f"
             ],
             [
              0.2222222222222222,
              "#7201a8"
             ],
             [
              0.3333333333333333,
              "#9c179e"
             ],
             [
              0.4444444444444444,
              "#bd3786"
             ],
             [
              0.5555555555555556,
              "#d8576b"
             ],
             [
              0.6666666666666666,
              "#ed7953"
             ],
             [
              0.7777777777777778,
              "#fb9f3a"
             ],
             [
              0.8888888888888888,
              "#fdca26"
             ],
             [
              1,
              "#f0f921"
             ]
            ],
            "type": "histogram2d"
           }
          ],
          "histogram2dcontour": [
           {
            "colorbar": {
             "outlinewidth": 0,
             "ticks": ""
            },
            "colorscale": [
             [
              0,
              "#0d0887"
             ],
             [
              0.1111111111111111,
              "#46039f"
             ],
             [
              0.2222222222222222,
              "#7201a8"
             ],
             [
              0.3333333333333333,
              "#9c179e"
             ],
             [
              0.4444444444444444,
              "#bd3786"
             ],
             [
              0.5555555555555556,
              "#d8576b"
             ],
             [
              0.6666666666666666,
              "#ed7953"
             ],
             [
              0.7777777777777778,
              "#fb9f3a"
             ],
             [
              0.8888888888888888,
              "#fdca26"
             ],
             [
              1,
              "#f0f921"
             ]
            ],
            "type": "histogram2dcontour"
           }
          ],
          "mesh3d": [
           {
            "colorbar": {
             "outlinewidth": 0,
             "ticks": ""
            },
            "type": "mesh3d"
           }
          ],
          "parcoords": [
           {
            "line": {
             "colorbar": {
              "outlinewidth": 0,
              "ticks": ""
             }
            },
            "type": "parcoords"
           }
          ],
          "pie": [
           {
            "automargin": true,
            "type": "pie"
           }
          ],
          "scatter": [
           {
            "marker": {
             "colorbar": {
              "outlinewidth": 0,
              "ticks": ""
             }
            },
            "type": "scatter"
           }
          ],
          "scatter3d": [
           {
            "line": {
             "colorbar": {
              "outlinewidth": 0,
              "ticks": ""
             }
            },
            "marker": {
             "colorbar": {
              "outlinewidth": 0,
              "ticks": ""
             }
            },
            "type": "scatter3d"
           }
          ],
          "scattercarpet": [
           {
            "marker": {
             "colorbar": {
              "outlinewidth": 0,
              "ticks": ""
             }
            },
            "type": "scattercarpet"
           }
          ],
          "scattergeo": [
           {
            "marker": {
             "colorbar": {
              "outlinewidth": 0,
              "ticks": ""
             }
            },
            "type": "scattergeo"
           }
          ],
          "scattergl": [
           {
            "marker": {
             "colorbar": {
              "outlinewidth": 0,
              "ticks": ""
             }
            },
            "type": "scattergl"
           }
          ],
          "scattermapbox": [
           {
            "marker": {
             "colorbar": {
              "outlinewidth": 0,
              "ticks": ""
             }
            },
            "type": "scattermapbox"
           }
          ],
          "scatterpolar": [
           {
            "marker": {
             "colorbar": {
              "outlinewidth": 0,
              "ticks": ""
             }
            },
            "type": "scatterpolar"
           }
          ],
          "scatterpolargl": [
           {
            "marker": {
             "colorbar": {
              "outlinewidth": 0,
              "ticks": ""
             }
            },
            "type": "scatterpolargl"
           }
          ],
          "scatterternary": [
           {
            "marker": {
             "colorbar": {
              "outlinewidth": 0,
              "ticks": ""
             }
            },
            "type": "scatterternary"
           }
          ],
          "surface": [
           {
            "colorbar": {
             "outlinewidth": 0,
             "ticks": ""
            },
            "colorscale": [
             [
              0,
              "#0d0887"
             ],
             [
              0.1111111111111111,
              "#46039f"
             ],
             [
              0.2222222222222222,
              "#7201a8"
             ],
             [
              0.3333333333333333,
              "#9c179e"
             ],
             [
              0.4444444444444444,
              "#bd3786"
             ],
             [
              0.5555555555555556,
              "#d8576b"
             ],
             [
              0.6666666666666666,
              "#ed7953"
             ],
             [
              0.7777777777777778,
              "#fb9f3a"
             ],
             [
              0.8888888888888888,
              "#fdca26"
             ],
             [
              1,
              "#f0f921"
             ]
            ],
            "type": "surface"
           }
          ],
          "table": [
           {
            "cells": {
             "fill": {
              "color": "#EBF0F8"
             },
             "line": {
              "color": "white"
             }
            },
            "header": {
             "fill": {
              "color": "#C8D4E3"
             },
             "line": {
              "color": "white"
             }
            },
            "type": "table"
           }
          ]
         },
         "layout": {
          "annotationdefaults": {
           "arrowcolor": "#2a3f5f",
           "arrowhead": 0,
           "arrowwidth": 1
          },
          "autotypenumbers": "strict",
          "coloraxis": {
           "colorbar": {
            "outlinewidth": 0,
            "ticks": ""
           }
          },
          "colorscale": {
           "diverging": [
            [
             0,
             "#8e0152"
            ],
            [
             0.1,
             "#c51b7d"
            ],
            [
             0.2,
             "#de77ae"
            ],
            [
             0.3,
             "#f1b6da"
            ],
            [
             0.4,
             "#fde0ef"
            ],
            [
             0.5,
             "#f7f7f7"
            ],
            [
             0.6,
             "#e6f5d0"
            ],
            [
             0.7,
             "#b8e186"
            ],
            [
             0.8,
             "#7fbc41"
            ],
            [
             0.9,
             "#4d9221"
            ],
            [
             1,
             "#276419"
            ]
           ],
           "sequential": [
            [
             0,
             "#0d0887"
            ],
            [
             0.1111111111111111,
             "#46039f"
            ],
            [
             0.2222222222222222,
             "#7201a8"
            ],
            [
             0.3333333333333333,
             "#9c179e"
            ],
            [
             0.4444444444444444,
             "#bd3786"
            ],
            [
             0.5555555555555556,
             "#d8576b"
            ],
            [
             0.6666666666666666,
             "#ed7953"
            ],
            [
             0.7777777777777778,
             "#fb9f3a"
            ],
            [
             0.8888888888888888,
             "#fdca26"
            ],
            [
             1,
             "#f0f921"
            ]
           ],
           "sequentialminus": [
            [
             0,
             "#0d0887"
            ],
            [
             0.1111111111111111,
             "#46039f"
            ],
            [
             0.2222222222222222,
             "#7201a8"
            ],
            [
             0.3333333333333333,
             "#9c179e"
            ],
            [
             0.4444444444444444,
             "#bd3786"
            ],
            [
             0.5555555555555556,
             "#d8576b"
            ],
            [
             0.6666666666666666,
             "#ed7953"
            ],
            [
             0.7777777777777778,
             "#fb9f3a"
            ],
            [
             0.8888888888888888,
             "#fdca26"
            ],
            [
             1,
             "#f0f921"
            ]
           ]
          },
          "colorway": [
           "#636efa",
           "#EF553B",
           "#00cc96",
           "#ab63fa",
           "#FFA15A",
           "#19d3f3",
           "#FF6692",
           "#B6E880",
           "#FF97FF",
           "#FECB52"
          ],
          "font": {
           "color": "#2a3f5f"
          },
          "geo": {
           "bgcolor": "white",
           "lakecolor": "white",
           "landcolor": "#E5ECF6",
           "showlakes": true,
           "showland": true,
           "subunitcolor": "white"
          },
          "hoverlabel": {
           "align": "left"
          },
          "hovermode": "closest",
          "mapbox": {
           "style": "light"
          },
          "paper_bgcolor": "white",
          "plot_bgcolor": "#E5ECF6",
          "polar": {
           "angularaxis": {
            "gridcolor": "white",
            "linecolor": "white",
            "ticks": ""
           },
           "bgcolor": "#E5ECF6",
           "radialaxis": {
            "gridcolor": "white",
            "linecolor": "white",
            "ticks": ""
           }
          },
          "scene": {
           "xaxis": {
            "backgroundcolor": "#E5ECF6",
            "gridcolor": "white",
            "gridwidth": 2,
            "linecolor": "white",
            "showbackground": true,
            "ticks": "",
            "zerolinecolor": "white"
           },
           "yaxis": {
            "backgroundcolor": "#E5ECF6",
            "gridcolor": "white",
            "gridwidth": 2,
            "linecolor": "white",
            "showbackground": true,
            "ticks": "",
            "zerolinecolor": "white"
           },
           "zaxis": {
            "backgroundcolor": "#E5ECF6",
            "gridcolor": "white",
            "gridwidth": 2,
            "linecolor": "white",
            "showbackground": true,
            "ticks": "",
            "zerolinecolor": "white"
           }
          },
          "shapedefaults": {
           "line": {
            "color": "#2a3f5f"
           }
          },
          "ternary": {
           "aaxis": {
            "gridcolor": "white",
            "linecolor": "white",
            "ticks": ""
           },
           "baxis": {
            "gridcolor": "white",
            "linecolor": "white",
            "ticks": ""
           },
           "bgcolor": "#E5ECF6",
           "caxis": {
            "gridcolor": "white",
            "linecolor": "white",
            "ticks": ""
           }
          },
          "title": {
           "x": 0.05
          },
          "xaxis": {
           "automargin": true,
           "gridcolor": "white",
           "linecolor": "white",
           "ticks": "",
           "title": {
            "standoff": 15
           },
           "zerolinecolor": "white",
           "zerolinewidth": 2
          },
          "yaxis": {
           "automargin": true,
           "gridcolor": "white",
           "linecolor": "white",
           "ticks": "",
           "title": {
            "standoff": 15
           },
           "zerolinecolor": "white",
           "zerolinewidth": 2
          }
         }
        },
        "title": {
         "text": "Тогтвортой төлөвийн капитал, тэнцвэрт капитал: 75196.98846097238"
        },
        "xaxis": {
         "title": {
          "text": "Капитал"
         }
        },
        "yaxis": {
         "title": {
          "text": " "
         }
        }
       }
      },
      "text/html": [
       "<div>                            <div id=\"a3fb4b5c-5f76-41a3-82c6-d02ca621ff80\" class=\"plotly-graph-div\" style=\"height:525px; width:100%;\"></div>            <script type=\"text/javascript\">                require([\"plotly\"], function(Plotly) {                    window.PLOTLYENV=window.PLOTLYENV || {};                                    if (document.getElementById(\"a3fb4b5c-5f76-41a3-82c6-d02ca621ff80\")) {                    Plotly.newPlot(                        \"a3fb4b5c-5f76-41a3-82c6-d02ca621ff80\",                        [{\"mode\":\"lines+markers\",\"name\":\"s*f(k^)\",\"x\":[7519,15038,22557,30076,37595,45114,52633,60152,67671,75190,82709],\"y\":[1244.6619216515935,1924.3581076170938,2483.0243289977657,2975.2289050811273,3423.2631390728125,3838.9766054519578,4229.604720950235,4599.968687008853,4953.481512645351,5292.669488466531,5619.467757362912],\"type\":\"scatter\"},{\"mode\":\"lines+markers\",\"name\":\"(n+delta+x)*k^\",\"x\":[7519,15038,22557,30076,37595,45114,52633,60152,67671,75190,82709],\"y\":[529.2486811779563,1058.4973623559126,1587.7460435338687,2116.9947247118253,2646.2434058897816,3175.4920870677374,3704.7407682456937,4233.9894494236505,4763.238130601607,5292.486811779563,5821.735492957519],\"type\":\"scatter\"}],                        {\"template\":{\"data\":{\"bar\":[{\"error_x\":{\"color\":\"#2a3f5f\"},\"error_y\":{\"color\":\"#2a3f5f\"},\"marker\":{\"line\":{\"color\":\"#E5ECF6\",\"width\":0.5},\"pattern\":{\"fillmode\":\"overlay\",\"size\":10,\"solidity\":0.2}},\"type\":\"bar\"}],\"barpolar\":[{\"marker\":{\"line\":{\"color\":\"#E5ECF6\",\"width\":0.5},\"pattern\":{\"fillmode\":\"overlay\",\"size\":10,\"solidity\":0.2}},\"type\":\"barpolar\"}],\"carpet\":[{\"aaxis\":{\"endlinecolor\":\"#2a3f5f\",\"gridcolor\":\"white\",\"linecolor\":\"white\",\"minorgridcolor\":\"white\",\"startlinecolor\":\"#2a3f5f\"},\"baxis\":{\"endlinecolor\":\"#2a3f5f\",\"gridcolor\":\"white\",\"linecolor\":\"white\",\"minorgridcolor\":\"white\",\"startlinecolor\":\"#2a3f5f\"},\"type\":\"carpet\"}],\"choropleth\":[{\"colorbar\":{\"outlinewidth\":0,\"ticks\":\"\"},\"type\":\"choropleth\"}],\"contour\":[{\"colorbar\":{\"outlinewidth\":0,\"ticks\":\"\"},\"colorscale\":[[0.0,\"#0d0887\"],[0.1111111111111111,\"#46039f\"],[0.2222222222222222,\"#7201a8\"],[0.3333333333333333,\"#9c179e\"],[0.4444444444444444,\"#bd3786\"],[0.5555555555555556,\"#d8576b\"],[0.6666666666666666,\"#ed7953\"],[0.7777777777777778,\"#fb9f3a\"],[0.8888888888888888,\"#fdca26\"],[1.0,\"#f0f921\"]],\"type\":\"contour\"}],\"contourcarpet\":[{\"colorbar\":{\"outlinewidth\":0,\"ticks\":\"\"},\"type\":\"contourcarpet\"}],\"heatmap\":[{\"colorbar\":{\"outlinewidth\":0,\"ticks\":\"\"},\"colorscale\":[[0.0,\"#0d0887\"],[0.1111111111111111,\"#46039f\"],[0.2222222222222222,\"#7201a8\"],[0.3333333333333333,\"#9c179e\"],[0.4444444444444444,\"#bd3786\"],[0.5555555555555556,\"#d8576b\"],[0.6666666666666666,\"#ed7953\"],[0.7777777777777778,\"#fb9f3a\"],[0.8888888888888888,\"#fdca26\"],[1.0,\"#f0f921\"]],\"type\":\"heatmap\"}],\"heatmapgl\":[{\"colorbar\":{\"outlinewidth\":0,\"ticks\":\"\"},\"colorscale\":[[0.0,\"#0d0887\"],[0.1111111111111111,\"#46039f\"],[0.2222222222222222,\"#7201a8\"],[0.3333333333333333,\"#9c179e\"],[0.4444444444444444,\"#bd3786\"],[0.5555555555555556,\"#d8576b\"],[0.6666666666666666,\"#ed7953\"],[0.7777777777777778,\"#fb9f3a\"],[0.8888888888888888,\"#fdca26\"],[1.0,\"#f0f921\"]],\"type\":\"heatmapgl\"}],\"histogram\":[{\"marker\":{\"pattern\":{\"fillmode\":\"overlay\",\"size\":10,\"solidity\":0.2}},\"type\":\"histogram\"}],\"histogram2d\":[{\"colorbar\":{\"outlinewidth\":0,\"ticks\":\"\"},\"colorscale\":[[0.0,\"#0d0887\"],[0.1111111111111111,\"#46039f\"],[0.2222222222222222,\"#7201a8\"],[0.3333333333333333,\"#9c179e\"],[0.4444444444444444,\"#bd3786\"],[0.5555555555555556,\"#d8576b\"],[0.6666666666666666,\"#ed7953\"],[0.7777777777777778,\"#fb9f3a\"],[0.8888888888888888,\"#fdca26\"],[1.0,\"#f0f921\"]],\"type\":\"histogram2d\"}],\"histogram2dcontour\":[{\"colorbar\":{\"outlinewidth\":0,\"ticks\":\"\"},\"colorscale\":[[0.0,\"#0d0887\"],[0.1111111111111111,\"#46039f\"],[0.2222222222222222,\"#7201a8\"],[0.3333333333333333,\"#9c179e\"],[0.4444444444444444,\"#bd3786\"],[0.5555555555555556,\"#d8576b\"],[0.6666666666666666,\"#ed7953\"],[0.7777777777777778,\"#fb9f3a\"],[0.8888888888888888,\"#fdca26\"],[1.0,\"#f0f921\"]],\"type\":\"histogram2dcontour\"}],\"mesh3d\":[{\"colorbar\":{\"outlinewidth\":0,\"ticks\":\"\"},\"type\":\"mesh3d\"}],\"parcoords\":[{\"line\":{\"colorbar\":{\"outlinewidth\":0,\"ticks\":\"\"}},\"type\":\"parcoords\"}],\"pie\":[{\"automargin\":true,\"type\":\"pie\"}],\"scatter\":[{\"marker\":{\"colorbar\":{\"outlinewidth\":0,\"ticks\":\"\"}},\"type\":\"scatter\"}],\"scatter3d\":[{\"line\":{\"colorbar\":{\"outlinewidth\":0,\"ticks\":\"\"}},\"marker\":{\"colorbar\":{\"outlinewidth\":0,\"ticks\":\"\"}},\"type\":\"scatter3d\"}],\"scattercarpet\":[{\"marker\":{\"colorbar\":{\"outlinewidth\":0,\"ticks\":\"\"}},\"type\":\"scattercarpet\"}],\"scattergeo\":[{\"marker\":{\"colorbar\":{\"outlinewidth\":0,\"ticks\":\"\"}},\"type\":\"scattergeo\"}],\"scattergl\":[{\"marker\":{\"colorbar\":{\"outlinewidth\":0,\"ticks\":\"\"}},\"type\":\"scattergl\"}],\"scattermapbox\":[{\"marker\":{\"colorbar\":{\"outlinewidth\":0,\"ticks\":\"\"}},\"type\":\"scattermapbox\"}],\"scatterpolar\":[{\"marker\":{\"colorbar\":{\"outlinewidth\":0,\"ticks\":\"\"}},\"type\":\"scatterpolar\"}],\"scatterpolargl\":[{\"marker\":{\"colorbar\":{\"outlinewidth\":0,\"ticks\":\"\"}},\"type\":\"scatterpolargl\"}],\"scatterternary\":[{\"marker\":{\"colorbar\":{\"outlinewidth\":0,\"ticks\":\"\"}},\"type\":\"scatterternary\"}],\"surface\":[{\"colorbar\":{\"outlinewidth\":0,\"ticks\":\"\"},\"colorscale\":[[0.0,\"#0d0887\"],[0.1111111111111111,\"#46039f\"],[0.2222222222222222,\"#7201a8\"],[0.3333333333333333,\"#9c179e\"],[0.4444444444444444,\"#bd3786\"],[0.5555555555555556,\"#d8576b\"],[0.6666666666666666,\"#ed7953\"],[0.7777777777777778,\"#fb9f3a\"],[0.8888888888888888,\"#fdca26\"],[1.0,\"#f0f921\"]],\"type\":\"surface\"}],\"table\":[{\"cells\":{\"fill\":{\"color\":\"#EBF0F8\"},\"line\":{\"color\":\"white\"}},\"header\":{\"fill\":{\"color\":\"#C8D4E3\"},\"line\":{\"color\":\"white\"}},\"type\":\"table\"}]},\"layout\":{\"annotationdefaults\":{\"arrowcolor\":\"#2a3f5f\",\"arrowhead\":0,\"arrowwidth\":1},\"autotypenumbers\":\"strict\",\"coloraxis\":{\"colorbar\":{\"outlinewidth\":0,\"ticks\":\"\"}},\"colorscale\":{\"diverging\":[[0,\"#8e0152\"],[0.1,\"#c51b7d\"],[0.2,\"#de77ae\"],[0.3,\"#f1b6da\"],[0.4,\"#fde0ef\"],[0.5,\"#f7f7f7\"],[0.6,\"#e6f5d0\"],[0.7,\"#b8e186\"],[0.8,\"#7fbc41\"],[0.9,\"#4d9221\"],[1,\"#276419\"]],\"sequential\":[[0.0,\"#0d0887\"],[0.1111111111111111,\"#46039f\"],[0.2222222222222222,\"#7201a8\"],[0.3333333333333333,\"#9c179e\"],[0.4444444444444444,\"#bd3786\"],[0.5555555555555556,\"#d8576b\"],[0.6666666666666666,\"#ed7953\"],[0.7777777777777778,\"#fb9f3a\"],[0.8888888888888888,\"#fdca26\"],[1.0,\"#f0f921\"]],\"sequentialminus\":[[0.0,\"#0d0887\"],[0.1111111111111111,\"#46039f\"],[0.2222222222222222,\"#7201a8\"],[0.3333333333333333,\"#9c179e\"],[0.4444444444444444,\"#bd3786\"],[0.5555555555555556,\"#d8576b\"],[0.6666666666666666,\"#ed7953\"],[0.7777777777777778,\"#fb9f3a\"],[0.8888888888888888,\"#fdca26\"],[1.0,\"#f0f921\"]]},\"colorway\":[\"#636efa\",\"#EF553B\",\"#00cc96\",\"#ab63fa\",\"#FFA15A\",\"#19d3f3\",\"#FF6692\",\"#B6E880\",\"#FF97FF\",\"#FECB52\"],\"font\":{\"color\":\"#2a3f5f\"},\"geo\":{\"bgcolor\":\"white\",\"lakecolor\":\"white\",\"landcolor\":\"#E5ECF6\",\"showlakes\":true,\"showland\":true,\"subunitcolor\":\"white\"},\"hoverlabel\":{\"align\":\"left\"},\"hovermode\":\"closest\",\"mapbox\":{\"style\":\"light\"},\"paper_bgcolor\":\"white\",\"plot_bgcolor\":\"#E5ECF6\",\"polar\":{\"angularaxis\":{\"gridcolor\":\"white\",\"linecolor\":\"white\",\"ticks\":\"\"},\"bgcolor\":\"#E5ECF6\",\"radialaxis\":{\"gridcolor\":\"white\",\"linecolor\":\"white\",\"ticks\":\"\"}},\"scene\":{\"xaxis\":{\"backgroundcolor\":\"#E5ECF6\",\"gridcolor\":\"white\",\"gridwidth\":2,\"linecolor\":\"white\",\"showbackground\":true,\"ticks\":\"\",\"zerolinecolor\":\"white\"},\"yaxis\":{\"backgroundcolor\":\"#E5ECF6\",\"gridcolor\":\"white\",\"gridwidth\":2,\"linecolor\":\"white\",\"showbackground\":true,\"ticks\":\"\",\"zerolinecolor\":\"white\"},\"zaxis\":{\"backgroundcolor\":\"#E5ECF6\",\"gridcolor\":\"white\",\"gridwidth\":2,\"linecolor\":\"white\",\"showbackground\":true,\"ticks\":\"\",\"zerolinecolor\":\"white\"}},\"shapedefaults\":{\"line\":{\"color\":\"#2a3f5f\"}},\"ternary\":{\"aaxis\":{\"gridcolor\":\"white\",\"linecolor\":\"white\",\"ticks\":\"\"},\"baxis\":{\"gridcolor\":\"white\",\"linecolor\":\"white\",\"ticks\":\"\"},\"bgcolor\":\"#E5ECF6\",\"caxis\":{\"gridcolor\":\"white\",\"linecolor\":\"white\",\"ticks\":\"\"}},\"title\":{\"x\":0.05},\"xaxis\":{\"automargin\":true,\"gridcolor\":\"white\",\"linecolor\":\"white\",\"ticks\":\"\",\"title\":{\"standoff\":15},\"zerolinecolor\":\"white\",\"zerolinewidth\":2},\"yaxis\":{\"automargin\":true,\"gridcolor\":\"white\",\"linecolor\":\"white\",\"ticks\":\"\",\"title\":{\"standoff\":15},\"zerolinecolor\":\"white\",\"zerolinewidth\":2}}},\"title\":{\"text\":\"\\u0422\\u043e\\u0433\\u0442\\u0432\\u043e\\u0440\\u0442\\u043e\\u0439 \\u0442\\u04e9\\u043b\\u04e9\\u0432\\u0438\\u0439\\u043d \\u043a\\u0430\\u043f\\u0438\\u0442\\u0430\\u043b, \\u0442\\u044d\\u043d\\u0446\\u0432\\u044d\\u0440\\u0442 \\u043a\\u0430\\u043f\\u0438\\u0442\\u0430\\u043b: 75196.98846097238\"},\"xaxis\":{\"title\":{\"text\":\"\\u041a\\u0430\\u043f\\u0438\\u0442\\u0430\\u043b\"}},\"yaxis\":{\"title\":{\"text\":\" \"}}},                        {\"responsive\": true}                    ).then(function(){\n",
       "                            \n",
       "var gd = document.getElementById('a3fb4b5c-5f76-41a3-82c6-d02ca621ff80');\n",
       "var x = new MutationObserver(function (mutations, observer) {{\n",
       "        var display = window.getComputedStyle(gd).display;\n",
       "        if (!display || display === 'none') {{\n",
       "            console.log([gd, 'removed!']);\n",
       "            Plotly.purge(gd);\n",
       "            observer.disconnect();\n",
       "        }}\n",
       "}});\n",
       "\n",
       "// Listen for the removal of the full notebook cells\n",
       "var notebookContainer = gd.closest('#notebook-container');\n",
       "if (notebookContainer) {{\n",
       "    x.observe(notebookContainer, {childList: true});\n",
       "}}\n",
       "\n",
       "// Listen for the clearing of the current output cell\n",
       "var outputEl = gd.closest('.output');\n",
       "if (outputEl) {{\n",
       "    x.observe(outputEl, {childList: true});\n",
       "}}\n",
       "\n",
       "                        })                };                });            </script>        </div>"
      ]
     },
     "metadata": {},
     "output_type": "display_data"
    },
    {
     "data": {
      "image/png": "[encoded data removed]",
      "text/plain": [
       "<Figure size 1080x576 with 1 Axes>"
      ]
     },
     "metadata": {
      "needs_background": "light"
     },
     "output_type": "display_data"
    }
   ],
   "source": [
    "steady()"
   ]
  },
  {
   "cell_type": "code",
   "execution_count": 48,
   "id": "f88b2959",
   "metadata": {},
   "outputs": [
    {
     "name": "stdout",
     "output_type": "stream",
     "text": [
      "Country name: China\n",
      "ялгаж авах боломжтой жилийн мэдээлэл 1952 - аас 2019\n",
      "Starting year: 1970\n",
      "Ending year: 2019\n",
      "Country name: China\n",
      "ялгаж авах боломжтой жилийн мэдээлэл 1952 - аас 2019\n",
      "Starting year: 1970\n",
      "Ending year: 2019\n",
      "Нэг ажилчинд ноогдохоор тооцсон ШУТД, үйлдвэрлэлийн функцын үнэлгээ\n",
      "Country name: China\n",
      "ялгаж авах боломжтой жилийн мэдээлэл 1952 - аас 2019\n",
      "Starting year: 1970\n",
      "Ending year: 2019\n"
     ]
    },
    {
     "data": {
      "application/vnd.plotly.v1+json": {
       "config": {
        "plotlyServerURL": "https://plot.ly"
       },
       "data": [
        {
         "mode": "lines+markers",
         "name": "s*f(k^)",
         "type": "scatter",
         "x": [
          7519,
          15038,
          22557,
          30076,
          37595,
          45114,
          52633,
          60152,
          67671,
          75190,
          82709
         ],
         "y": [
          0.16553556611937673,
          0.127966359064842,
          0.11007777315235917,
          0.0989236901543133,
          0.0910563409781304,
          0.08509501718872095,
          0.08036031996941528,
          0.07647241466632619,
          0.07319947263444239,
          0.0703906036503063,
          0.06794263934230751
         ]
        },
        {
         "mode": "lines+markers",
         "name": "(n+delta+x)",
         "type": "scatter",
         "x": [
          7519,
          15038,
          22557,
          30076,
          37595,
          45114,
          52633,
          60152,
          67671,
          75190,
          82709
         ],
         "y": [
          0.07038817411596705,
          0.07038817411596705,
          0.07038817411596705,
          0.07038817411596705,
          0.07038817411596705,
          0.07038817411596705,
          0.07038817411596705,
          0.07038817411596705,
          0.07038817411596705,
          0.07038817411596705,
          0.07038817411596705
         ]
        }
       ],
       "layout": {
        "template": {
         "data": {
          "bar": [
           {
            "error_x": {
             "color": "#2a3f5f"
            },
            "error_y": {
             "color": "#2a3f5f"
            },
            "marker": {
             "line": {
              "color": "#E5ECF6",
              "width": 0.5
             },
             "pattern": {
              "fillmode": "overlay",
              "size": 10,
              "solidity": 0.2
             }
            },
            "type": "bar"
           }
          ],
          "barpolar": [
           {
            "marker": {
             "line": {
              "color": "#E5ECF6",
              "width": 0.5
             },
             "pattern": {
              "fillmode": "overlay",
              "size": 10,
              "solidity": 0.2
             }
            },
            "type": "barpolar"
           }
          ],
          "carpet": [
           {
            "aaxis": {
             "endlinecolor": "#2a3f5f",
             "gridcolor": "white",
             "linecolor": "white",
             "minorgridcolor": "white",
             "startlinecolor": "#2a3f5f"
            },
            "baxis": {
             "endlinecolor": "#2a3f5f",
             "gridcolor": "white",
             "linecolor": "white",
             "minorgridcolor": "white",
             "startlinecolor": "#2a3f5f"
            },
            "type": "carpet"
           }
          ],
          "choropleth": [
           {
            "colorbar": {
             "outlinewidth": 0,
             "ticks": ""
            },
            "type": "choropleth"
           }
          ],
          "contour": [
           {
            "colorbar": {
             "outlinewidth": 0,
             "ticks": ""
            },
            "colorscale": [
             [
              0,
              "#0d0887"
             ],
             [
              0.1111111111111111,
              "#46039f"
             ],
             [
              0.2222222222222222,
              "#7201a8"
             ],
             [
              0.3333333333333333,
              "#9c179e"
             ],
             [
              0.4444444444444444,
              "#bd3786"
             ],
             [
              0.5555555555555556,
              "#d8576b"
             ],
             [
              0.6666666666666666,
              "#ed7953"
             ],
             [
              0.7777777777777778,
              "#fb9f3a"
             ],
             [
              0.8888888888888888,
              "#fdca26"
             ],
             [
              1,
              "#f0f921"
             ]
            ],
            "type": "contour"
           }
          ],
          "contourcarpet": [
           {
            "colorbar": {
             "outlinewidth": 0,
             "ticks": ""
            },
            "type": "contourcarpet"
           }
          ],
          "heatmap": [
           {
            "colorbar": {
             "outlinewidth": 0,
             "ticks": ""
            },
            "colorscale": [
             [
              0,
              "#0d0887"
             ],
             [
              0.1111111111111111,
              "#46039f"
             ],
             [
              0.2222222222222222,
              "#7201a8"
             ],
             [
              0.3333333333333333,
              "#9c179e"
             ],
             [
              0.4444444444444444,
              "#bd3786"
             ],
             [
              0.5555555555555556,
              "#d8576b"
             ],
             [
              0.6666666666666666,
              "#ed7953"
             ],
             [
              0.7777777777777778,
              "#fb9f3a"
             ],
             [
              0.8888888888888888,
              "#fdca26"
             ],
             [
              1,
              "#f0f921"
             ]
            ],
            "type": "heatmap"
           }
          ],
          "heatmapgl": [
           {
            "colorbar": {
             "outlinewidth": 0,
             "ticks": ""
            },
            "colorscale": [
             [
              0,
              "#0d0887"
             ],
             [
              0.1111111111111111,
              "#46039f"
             ],
             [
              0.2222222222222222,
              "#7201a8"
             ],
             [
              0.3333333333333333,
              "#9c179e"
             ],
             [
              0.4444444444444444,
              "#bd3786"
             ],
             [
              0.5555555555555556,
              "#d8576b"
             ],
             [
              0.6666666666666666,
              "#ed7953"
             ],
             [
              0.7777777777777778,
              "#fb9f3a"
             ],
             [
              0.8888888888888888,
              "#fdca26"
             ],
             [
              1,
              "#f0f921"
             ]
            ],
            "type": "heatmapgl"
           }
          ],
          "histogram": [
           {
            "marker": {
             "pattern": {
              "fillmode": "overlay",
              "size": 10,
              "solidity": 0.2
             }
            },
            "type": "histogram"
           }
          ],
          "histogram2d": [
           {
            "colorbar": {
             "outlinewidth": 0,
             "ticks": ""
            },
            "colorscale": [
             [
              0,
              "#0d0887"
             ],
             [
              0.1111111111111111,
              "#46039f"
             ],
             [
              0.2222222222222222,
              "#7201a8"
             ],
             [
              0.3333333333333333,
              "#9c179e"
             ],
             [
              0.4444444444444444,
              "#bd3786"
             ],
             [
              0.5555555555555556,
              "#d8576b"
             ],
             [
              0.6666666666666666,
              "#ed7953"
             ],
             [
              0.7777777777777778,
              "#fb9f3a"
             ],
             [
              0.8888888888888888,
              "#fdca26"
             ],
             [
              1,
              "#f0f921"
             ]
            ],
            "type": "histogram2d"
           }
          ],
          "histogram2dcontour": [
           {
            "colorbar": {
             "outlinewidth": 0,
             "ticks": ""
            },
            "colorscale": [
             [
              0,
              "#0d0887"
             ],
             [
              0.1111111111111111,
              "#46039f"
             ],
             [
              0.2222222222222222,
              "#7201a8"
             ],
             [
              0.3333333333333333,
              "#9c179e"
             ],
             [
              0.4444444444444444,
              "#bd3786"
             ],
             [
              0.5555555555555556,
              "#d8576b"
             ],
             [
              0.6666666666666666,
              "#ed7953"
             ],
             [
              0.7777777777777778,
              "#fb9f3a"
             ],
             [
              0.8888888888888888,
              "#fdca26"
             ],
             [
              1,
              "#f0f921"
             ]
            ],
            "type": "histogram2dcontour"
           }
          ],
          "mesh3d": [
           {
            "colorbar": {
             "outlinewidth": 0,
             "ticks": ""
            },
            "type": "mesh3d"
           }
          ],
          "parcoords": [
           {
            "line": {
             "colorbar": {
              "outlinewidth": 0,
              "ticks": ""
             }
            },
            "type": "parcoords"
           }
          ],
          "pie": [
           {
            "automargin": true,
            "type": "pie"
           }
          ],
          "scatter": [
           {
            "marker": {
             "colorbar": {
              "outlinewidth": 0,
              "ticks": ""
             }
            },
            "type": "scatter"
           }
          ],
          "scatter3d": [
           {
            "line": {
             "colorbar": {
              "outlinewidth": 0,
              "ticks": ""
             }
            },
            "marker": {
             "colorbar": {
              "outlinewidth": 0,
              "ticks": ""
             }
            },
            "type": "scatter3d"
           }
          ],
          "scattercarpet": [
           {
            "marker": {
             "colorbar": {
              "outlinewidth": 0,
              "ticks": ""
             }
            },
            "type": "scattercarpet"
           }
          ],
          "scattergeo": [
           {
            "marker": {
             "colorbar": {
              "outlinewidth": 0,
              "ticks": ""
             }
            },
            "type": "scattergeo"
           }
          ],
          "scattergl": [
           {
            "marker": {
             "colorbar": {
              "outlinewidth": 0,
              "ticks": ""
             }
            },
            "type": "scattergl"
           }
          ],
          "scattermapbox": [
           {
            "marker": {
             "colorbar": {
              "outlinewidth": 0,
              "ticks": ""
             }
            },
            "type": "scattermapbox"
           }
          ],
          "scatterpolar": [
           {
            "marker": {
             "colorbar": {
              "outlinewidth": 0,
              "ticks": ""
             }
            },
            "type": "scatterpolar"
           }
          ],
          "scatterpolargl": [
           {
            "marker": {
             "colorbar": {
              "outlinewidth": 0,
              "ticks": ""
             }
            },
            "type": "scatterpolargl"
           }
          ],
          "scatterternary": [
           {
            "marker": {
             "colorbar": {
              "outlinewidth": 0,
              "ticks": ""
             }
            },
            "type": "scatterternary"
           }
          ],
          "surface": [
           {
            "colorbar": {
             "outlinewidth": 0,
             "ticks": ""
            },
            "colorscale": [
             [
              0,
              "#0d0887"
             ],
             [
              0.1111111111111111,
              "#46039f"
             ],
             [
              0.2222222222222222,
              "#7201a8"
             ],
             [
              0.3333333333333333,
              "#9c179e"
             ],
             [
              0.4444444444444444,
              "#bd3786"
             ],
             [
              0.5555555555555556,
              "#d8576b"
             ],
             [
              0.6666666666666666,
              "#ed7953"
             ],
             [
              0.7777777777777778,
              "#fb9f3a"
             ],
             [
              0.8888888888888888,
              "#fdca26"
             ],
             [
              1,
              "#f0f921"
             ]
            ],
            "type": "surface"
           }
          ],
          "table": [
           {
            "cells": {
             "fill": {
              "color": "#EBF0F8"
             },
             "line": {
              "color": "white"
             }
            },
            "header": {
             "fill": {
              "color": "#C8D4E3"
             },
             "line": {
              "color": "white"
             }
            },
            "type": "table"
           }
          ]
         },
         "layout": {
          "annotationdefaults": {
           "arrowcolor": "#2a3f5f",
           "arrowhead": 0,
           "arrowwidth": 1
          },
          "autotypenumbers": "strict",
          "coloraxis": {
           "colorbar": {
            "outlinewidth": 0,
            "ticks": ""
           }
          },
          "colorscale": {
           "diverging": [
            [
             0,
             "#8e0152"
            ],
            [
             0.1,
             "#c51b7d"
            ],
            [
             0.2,
             "#de77ae"
            ],
            [
             0.3,
             "#f1b6da"
            ],
            [
             0.4,
             "#fde0ef"
            ],
            [
             0.5,
             "#f7f7f7"
            ],
            [
             0.6,
             "#e6f5d0"
            ],
            [
             0.7,
             "#b8e186"
            ],
            [
             0.8,
             "#7fbc41"
            ],
            [
             0.9,
             "#4d9221"
            ],
            [
             1,
             "#276419"
            ]
           ],
           "sequential": [
            [
             0,
             "#0d0887"
            ],
            [
             0.1111111111111111,
             "#46039f"
            ],
            [
             0.2222222222222222,
             "#7201a8"
            ],
            [
             0.3333333333333333,
             "#9c179e"
            ],
            [
             0.4444444444444444,
             "#bd3786"
            ],
            [
             0.5555555555555556,
             "#d8576b"
            ],
            [
             0.6666666666666666,
             "#ed7953"
            ],
            [
             0.7777777777777778,
             "#fb9f3a"
            ],
            [
             0.8888888888888888,
             "#fdca26"
            ],
            [
             1,
             "#f0f921"
            ]
           ],
           "sequentialminus": [
            [
             0,
             "#0d0887"
            ],
            [
             0.1111111111111111,
             "#46039f"
            ],
            [
             0.2222222222222222,
             "#7201a8"
            ],
            [
             0.3333333333333333,
             "#9c179e"
            ],
            [
             0.4444444444444444,
             "#bd3786"
            ],
            [
             0.5555555555555556,
             "#d8576b"
            ],
            [
             0.6666666666666666,
             "#ed7953"
            ],
            [
             0.7777777777777778,
             "#fb9f3a"
            ],
            [
             0.8888888888888888,
             "#fdca26"
            ],
            [
             1,
             "#f0f921"
            ]
           ]
          },
          "colorway": [
           "#636efa",
           "#EF553B",
           "#00cc96",
           "#ab63fa",
           "#FFA15A",
           "#19d3f3",
           "#FF6692",
           "#B6E880",
           "#FF97FF",
           "#FECB52"
          ],
          "font": {
           "color": "#2a3f5f"
          },
          "geo": {
           "bgcolor": "white",
           "lakecolor": "white",
           "landcolor": "#E5ECF6",
           "showlakes": true,
           "showland": true,
           "subunitcolor": "white"
          },
          "hoverlabel": {
           "align": "left"
          },
          "hovermode": "closest",
          "mapbox": {
           "style": "light"
          },
          "paper_bgcolor": "white",
          "plot_bgcolor": "#E5ECF6",
          "polar": {
           "angularaxis": {
            "gridcolor": "white",
            "linecolor": "white",
            "ticks": ""
           },
           "bgcolor": "#E5ECF6",
           "radialaxis": {
            "gridcolor": "white",
            "linecolor": "white",
            "ticks": ""
           }
          },
          "scene": {
           "xaxis": {
            "backgroundcolor": "#E5ECF6",
            "gridcolor": "white",
            "gridwidth": 2,
            "linecolor": "white",
            "showbackground": true,
            "ticks": "",
            "zerolinecolor": "white"
           },
           "yaxis": {
            "backgroundcolor": "#E5ECF6",
            "gridcolor": "white",
            "gridwidth": 2,
            "linecolor": "white",
            "showbackground": true,
            "ticks": "",
            "zerolinecolor": "white"
           },
           "zaxis": {
            "backgroundcolor": "#E5ECF6",
            "gridcolor": "white",
            "gridwidth": 2,
            "linecolor": "white",
            "showbackground": true,
            "ticks": "",
            "zerolinecolor": "white"
           }
          },
          "shapedefaults": {
           "line": {
            "color": "#2a3f5f"
           }
          },
          "ternary": {
           "aaxis": {
            "gridcolor": "white",
            "linecolor": "white",
            "ticks": ""
           },
           "baxis": {
            "gridcolor": "white",
            "linecolor": "white",
            "ticks": ""
           },
           "bgcolor": "#E5ECF6",
           "caxis": {
            "gridcolor": "white",
            "linecolor": "white",
            "ticks": ""
           }
          },
          "title": {
           "x": 0.05
          },
          "xaxis": {
           "automargin": true,
           "gridcolor": "white",
           "linecolor": "white",
           "ticks": "",
           "title": {
            "standoff": 15
           },
           "zerolinecolor": "white",
           "zerolinewidth": 2
          },
          "yaxis": {
           "automargin": true,
           "gridcolor": "white",
           "linecolor": "white",
           "ticks": "",
           "title": {
            "standoff": 15
           },
           "zerolinecolor": "white",
           "zerolinewidth": 2
          }
         }
        },
        "title": {
         "text": "Шилжилтийн динамик, тэнцвэрт капитал: 75196.98846097238"
        },
        "xaxis": {
         "title": {
          "text": "Капитал"
         }
        },
        "yaxis": {
         "title": {
          "text": " "
         }
        }
       }
      },
      "text/html": [
       "<div>                            <div id=\"8efa904c-03c3-4d1b-88b4-fe110a054d20\" class=\"plotly-graph-div\" style=\"height:525px; width:100%;\"></div>            <script type=\"text/javascript\">                require([\"plotly\"], function(Plotly) {                    window.PLOTLYENV=window.PLOTLYENV || {};                                    if (document.getElementById(\"8efa904c-03c3-4d1b-88b4-fe110a054d20\")) {                    Plotly.newPlot(                        \"8efa904c-03c3-4d1b-88b4-fe110a054d20\",                        [{\"mode\":\"lines+markers\",\"name\":\"s*f(k^)\",\"x\":[7519,15038,22557,30076,37595,45114,52633,60152,67671,75190,82709],\"y\":[0.16553556611937673,0.127966359064842,0.11007777315235917,0.0989236901543133,0.0910563409781304,0.08509501718872095,0.08036031996941528,0.07647241466632619,0.07319947263444239,0.0703906036503063,0.06794263934230751],\"type\":\"scatter\"},{\"mode\":\"lines+markers\",\"name\":\"(n+delta+x)\",\"x\":[7519,15038,22557,30076,37595,45114,52633,60152,67671,75190,82709],\"y\":[0.07038817411596705,0.07038817411596705,0.07038817411596705,0.07038817411596705,0.07038817411596705,0.07038817411596705,0.07038817411596705,0.07038817411596705,0.07038817411596705,0.07038817411596705,0.07038817411596705],\"type\":\"scatter\"}],                        {\"template\":{\"data\":{\"bar\":[{\"error_x\":{\"color\":\"#2a3f5f\"},\"error_y\":{\"color\":\"#2a3f5f\"},\"marker\":{\"line\":{\"color\":\"#E5ECF6\",\"width\":0.5},\"pattern\":{\"fillmode\":\"overlay\",\"size\":10,\"solidity\":0.2}},\"type\":\"bar\"}],\"barpolar\":[{\"marker\":{\"line\":{\"color\":\"#E5ECF6\",\"width\":0.5},\"pattern\":{\"fillmode\":\"overlay\",\"size\":10,\"solidity\":0.2}},\"type\":\"barpolar\"}],\"carpet\":[{\"aaxis\":{\"endlinecolor\":\"#2a3f5f\",\"gridcolor\":\"white\",\"linecolor\":\"white\",\"minorgridcolor\":\"white\",\"startlinecolor\":\"#2a3f5f\"},\"baxis\":{\"endlinecolor\":\"#2a3f5f\",\"gridcolor\":\"white\",\"linecolor\":\"white\",\"minorgridcolor\":\"white\",\"startlinecolor\":\"#2a3f5f\"},\"type\":\"carpet\"}],\"choropleth\":[{\"colorbar\":{\"outlinewidth\":0,\"ticks\":\"\"},\"type\":\"choropleth\"}],\"contour\":[{\"colorbar\":{\"outlinewidth\":0,\"ticks\":\"\"},\"colorscale\":[[0.0,\"#0d0887\"],[0.1111111111111111,\"#46039f\"],[0.2222222222222222,\"#7201a8\"],[0.3333333333333333,\"#9c179e\"],[0.4444444444444444,\"#bd3786\"],[0.5555555555555556,\"#d8576b\"],[0.6666666666666666,\"#ed7953\"],[0.7777777777777778,\"#fb9f3a\"],[0.8888888888888888,\"#fdca26\"],[1.0,\"#f0f921\"]],\"type\":\"contour\"}],\"contourcarpet\":[{\"colorbar\":{\"outlinewidth\":0,\"ticks\":\"\"},\"type\":\"contourcarpet\"}],\"heatmap\":[{\"colorbar\":{\"outlinewidth\":0,\"ticks\":\"\"},\"colorscale\":[[0.0,\"#0d0887\"],[0.1111111111111111,\"#46039f\"],[0.2222222222222222,\"#7201a8\"],[0.3333333333333333,\"#9c179e\"],[0.4444444444444444,\"#bd3786\"],[0.5555555555555556,\"#d8576b\"],[0.6666666666666666,\"#ed7953\"],[0.7777777777777778,\"#fb9f3a\"],[0.8888888888888888,\"#fdca26\"],[1.0,\"#f0f921\"]],\"type\":\"heatmap\"}],\"heatmapgl\":[{\"colorbar\":{\"outlinewidth\":0,\"ticks\":\"\"},\"colorscale\":[[0.0,\"#0d0887\"],[0.1111111111111111,\"#46039f\"],[0.2222222222222222,\"#7201a8\"],[0.3333333333333333,\"#9c179e\"],[0.4444444444444444,\"#bd3786\"],[0.5555555555555556,\"#d8576b\"],[0.6666666666666666,\"#ed7953\"],[0.7777777777777778,\"#fb9f3a\"],[0.8888888888888888,\"#fdca26\"],[1.0,\"#f0f921\"]],\"type\":\"heatmapgl\"}],\"histogram\":[{\"marker\":{\"pattern\":{\"fillmode\":\"overlay\",\"size\":10,\"solidity\":0.2}},\"type\":\"histogram\"}],\"histogram2d\":[{\"colorbar\":{\"outlinewidth\":0,\"ticks\":\"\"},\"colorscale\":[[0.0,\"#0d0887\"],[0.1111111111111111,\"#46039f\"],[0.2222222222222222,\"#7201a8\"],[0.3333333333333333,\"#9c179e\"],[0.4444444444444444,\"#bd3786\"],[0.5555555555555556,\"#d8576b\"],[0.6666666666666666,\"#ed7953\"],[0.7777777777777778,\"#fb9f3a\"],[0.8888888888888888,\"#fdca26\"],[1.0,\"#f0f921\"]],\"type\":\"histogram2d\"}],\"histogram2dcontour\":[{\"colorbar\":{\"outlinewidth\":0,\"ticks\":\"\"},\"colorscale\":[[0.0,\"#0d0887\"],[0.1111111111111111,\"#46039f\"],[0.2222222222222222,\"#7201a8\"],[0.3333333333333333,\"#9c179e\"],[0.4444444444444444,\"#bd3786\"],[0.5555555555555556,\"#d8576b\"],[0.6666666666666666,\"#ed7953\"],[0.7777777777777778,\"#fb9f3a\"],[0.8888888888888888,\"#fdca26\"],[1.0,\"#f0f921\"]],\"type\":\"histogram2dcontour\"}],\"mesh3d\":[{\"colorbar\":{\"outlinewidth\":0,\"ticks\":\"\"},\"type\":\"mesh3d\"}],\"parcoords\":[{\"line\":{\"colorbar\":{\"outlinewidth\":0,\"ticks\":\"\"}},\"type\":\"parcoords\"}],\"pie\":[{\"automargin\":true,\"type\":\"pie\"}],\"scatter\":[{\"marker\":{\"colorbar\":{\"outlinewidth\":0,\"ticks\":\"\"}},\"type\":\"scatter\"}],\"scatter3d\":[{\"line\":{\"colorbar\":{\"outlinewidth\":0,\"ticks\":\"\"}},\"marker\":{\"colorbar\":{\"outlinewidth\":0,\"ticks\":\"\"}},\"type\":\"scatter3d\"}],\"scattercarpet\":[{\"marker\":{\"colorbar\":{\"outlinewidth\":0,\"ticks\":\"\"}},\"type\":\"scattercarpet\"}],\"scattergeo\":[{\"marker\":{\"colorbar\":{\"outlinewidth\":0,\"ticks\":\"\"}},\"type\":\"scattergeo\"}],\"scattergl\":[{\"marker\":{\"colorbar\":{\"outlinewidth\":0,\"ticks\":\"\"}},\"type\":\"scattergl\"}],\"scattermapbox\":[{\"marker\":{\"colorbar\":{\"outlinewidth\":0,\"ticks\":\"\"}},\"type\":\"scattermapbox\"}],\"scatterpolar\":[{\"marker\":{\"colorbar\":{\"outlinewidth\":0,\"ticks\":\"\"}},\"type\":\"scatterpolar\"}],\"scatterpolargl\":[{\"marker\":{\"colorbar\":{\"outlinewidth\":0,\"ticks\":\"\"}},\"type\":\"scatterpolargl\"}],\"scatterternary\":[{\"marker\":{\"colorbar\":{\"outlinewidth\":0,\"ticks\":\"\"}},\"type\":\"scatterternary\"}],\"surface\":[{\"colorbar\":{\"outlinewidth\":0,\"ticks\":\"\"},\"colorscale\":[[0.0,\"#0d0887\"],[0.1111111111111111,\"#46039f\"],[0.2222222222222222,\"#7201a8\"],[0.3333333333333333,\"#9c179e\"],[0.4444444444444444,\"#bd3786\"],[0.5555555555555556,\"#d8576b\"],[0.6666666666666666,\"#ed7953\"],[0.7777777777777778,\"#fb9f3a\"],[0.8888888888888888,\"#fdca26\"],[1.0,\"#f0f921\"]],\"type\":\"surface\"}],\"table\":[{\"cells\":{\"fill\":{\"color\":\"#EBF0F8\"},\"line\":{\"color\":\"white\"}},\"header\":{\"fill\":{\"color\":\"#C8D4E3\"},\"line\":{\"color\":\"white\"}},\"type\":\"table\"}]},\"layout\":{\"annotationdefaults\":{\"arrowcolor\":\"#2a3f5f\",\"arrowhead\":0,\"arrowwidth\":1},\"autotypenumbers\":\"strict\",\"coloraxis\":{\"colorbar\":{\"outlinewidth\":0,\"ticks\":\"\"}},\"colorscale\":{\"diverging\":[[0,\"#8e0152\"],[0.1,\"#c51b7d\"],[0.2,\"#de77ae\"],[0.3,\"#f1b6da\"],[0.4,\"#fde0ef\"],[0.5,\"#f7f7f7\"],[0.6,\"#e6f5d0\"],[0.7,\"#b8e186\"],[0.8,\"#7fbc41\"],[0.9,\"#4d9221\"],[1,\"#276419\"]],\"sequential\":[[0.0,\"#0d0887\"],[0.1111111111111111,\"#46039f\"],[0.2222222222222222,\"#7201a8\"],[0.3333333333333333,\"#9c179e\"],[0.4444444444444444,\"#bd3786\"],[0.5555555555555556,\"#d8576b\"],[0.6666666666666666,\"#ed7953\"],[0.7777777777777778,\"#fb9f3a\"],[0.8888888888888888,\"#fdca26\"],[1.0,\"#f0f921\"]],\"sequentialminus\":[[0.0,\"#0d0887\"],[0.1111111111111111,\"#46039f\"],[0.2222222222222222,\"#7201a8\"],[0.3333333333333333,\"#9c179e\"],[0.4444444444444444,\"#bd3786\"],[0.5555555555555556,\"#d8576b\"],[0.6666666666666666,\"#ed7953\"],[0.7777777777777778,\"#fb9f3a\"],[0.8888888888888888,\"#fdca26\"],[1.0,\"#f0f921\"]]},\"colorway\":[\"#636efa\",\"#EF553B\",\"#00cc96\",\"#ab63fa\",\"#FFA15A\",\"#19d3f3\",\"#FF6692\",\"#B6E880\",\"#FF97FF\",\"#FECB52\"],\"font\":{\"color\":\"#2a3f5f\"},\"geo\":{\"bgcolor\":\"white\",\"lakecolor\":\"white\",\"landcolor\":\"#E5ECF6\",\"showlakes\":true,\"showland\":true,\"subunitcolor\":\"white\"},\"hoverlabel\":{\"align\":\"left\"},\"hovermode\":\"closest\",\"mapbox\":{\"style\":\"light\"},\"paper_bgcolor\":\"white\",\"plot_bgcolor\":\"#E5ECF6\",\"polar\":{\"angularaxis\":{\"gridcolor\":\"white\",\"linecolor\":\"white\",\"ticks\":\"\"},\"bgcolor\":\"#E5ECF6\",\"radialaxis\":{\"gridcolor\":\"white\",\"linecolor\":\"white\",\"ticks\":\"\"}},\"scene\":{\"xaxis\":{\"backgroundcolor\":\"#E5ECF6\",\"gridcolor\":\"white\",\"gridwidth\":2,\"linecolor\":\"white\",\"showbackground\":true,\"ticks\":\"\",\"zerolinecolor\":\"white\"},\"yaxis\":{\"backgroundcolor\":\"#E5ECF6\",\"gridcolor\":\"white\",\"gridwidth\":2,\"linecolor\":\"white\",\"showbackground\":true,\"ticks\":\"\",\"zerolinecolor\":\"white\"},\"zaxis\":{\"backgroundcolor\":\"#E5ECF6\",\"gridcolor\":\"white\",\"gridwidth\":2,\"linecolor\":\"white\",\"showbackground\":true,\"ticks\":\"\",\"zerolinecolor\":\"white\"}},\"shapedefaults\":{\"line\":{\"color\":\"#2a3f5f\"}},\"ternary\":{\"aaxis\":{\"gridcolor\":\"white\",\"linecolor\":\"white\",\"ticks\":\"\"},\"baxis\":{\"gridcolor\":\"white\",\"linecolor\":\"white\",\"ticks\":\"\"},\"bgcolor\":\"#E5ECF6\",\"caxis\":{\"gridcolor\":\"white\",\"linecolor\":\"white\",\"ticks\":\"\"}},\"title\":{\"x\":0.05},\"xaxis\":{\"automargin\":true,\"gridcolor\":\"white\",\"linecolor\":\"white\",\"ticks\":\"\",\"title\":{\"standoff\":15},\"zerolinecolor\":\"white\",\"zerolinewidth\":2},\"yaxis\":{\"automargin\":true,\"gridcolor\":\"white\",\"linecolor\":\"white\",\"ticks\":\"\",\"title\":{\"standoff\":15},\"zerolinecolor\":\"white\",\"zerolinewidth\":2}}},\"title\":{\"text\":\"\\u0428\\u0438\\u043b\\u0436\\u0438\\u043b\\u0442\\u0438\\u0439\\u043d \\u0434\\u0438\\u043d\\u0430\\u043c\\u0438\\u043a, \\u0442\\u044d\\u043d\\u0446\\u0432\\u044d\\u0440\\u0442 \\u043a\\u0430\\u043f\\u0438\\u0442\\u0430\\u043b: 75196.98846097238\"},\"xaxis\":{\"title\":{\"text\":\"\\u041a\\u0430\\u043f\\u0438\\u0442\\u0430\\u043b\"}},\"yaxis\":{\"title\":{\"text\":\" \"}}},                        {\"responsive\": true}                    ).then(function(){\n",
       "                            \n",
       "var gd = document.getElementById('8efa904c-03c3-4d1b-88b4-fe110a054d20');\n",
       "var x = new MutationObserver(function (mutations, observer) {{\n",
       "        var display = window.getComputedStyle(gd).display;\n",
       "        if (!display || display === 'none') {{\n",
       "            console.log([gd, 'removed!']);\n",
       "            Plotly.purge(gd);\n",
       "            observer.disconnect();\n",
       "        }}\n",
       "}});\n",
       "\n",
       "// Listen for the removal of the full notebook cells\n",
       "var notebookContainer = gd.closest('#notebook-container');\n",
       "if (notebookContainer) {{\n",
       "    x.observe(notebookContainer, {childList: true});\n",
       "}}\n",
       "\n",
       "// Listen for the clearing of the current output cell\n",
       "var outputEl = gd.closest('.output');\n",
       "if (outputEl) {{\n",
       "    x.observe(outputEl, {childList: true});\n",
       "}}\n",
       "\n",
       "                        })                };                });            </script>        </div>"
      ]
     },
     "metadata": {},
     "output_type": "display_data"
    },
    {
     "data": {
      "image/png": "[encoded data removed]",
      "text/plain": [
       "<Figure size 1080x576 with 1 Axes>"
      ]
     },
     "metadata": {
      "needs_background": "light"
     },
     "output_type": "display_data"
    }
   ],
   "source": [
    "dynamics()"
   ]
  },
  {
   "cell_type": "code",
   "execution_count": 55,
   "id": "38cb8b8a",
   "metadata": {},
   "outputs": [
    {
     "name": "stdout",
     "output_type": "stream",
     "text": [
      "Country name: China\n",
      "ялгаж авах боломжтой жилийн мэдээлэл 1952 - аас 2019\n",
      "Starting year: 1970\n",
      "Ending year: 2019\n"
     ]
    },
    {
     "data": {
      "image/png": "[encoded data removed]",
      "text/plain": [
       "<Figure size 1080x576 with 1 Axes>"
      ]
     },
     "metadata": {
      "needs_background": "light"
     },
     "output_type": "display_data"
    },
    {
     "data": {
      "application/vnd.plotly.v1+json": {
       "config": {
        "plotlyServerURL": "https://plot.ly"
       },
       "data": [
        {
         "hovertemplate": "year=%{x}<br>production=%{y}<extra></extra>",
         "legendgroup": "",
         "line": {
          "color": "#636efa",
          "dash": "solid"
         },
         "marker": {
          "symbol": "circle"
         },
         "mode": "lines+markers",
         "name": "",
         "orientation": "v",
         "showlegend": false,
         "type": "scatter",
         "x": [
          1970,
          1971,
          1972,
          1973,
          1974,
          1975,
          1976,
          1977,
          1978,
          1979,
          1980,
          1981,
          1982,
          1983,
          1984,
          1985,
          1986,
          1987,
          1988,
          1989,
          1990,
          1991,
          1992,
          1993,
          1994,
          1995,
          1996,
          1997,
          1998,
          1999,
          2000,
          2001,
          2002,
          2003,
          2004,
          2005,
          2006,
          2007,
          2008,
          2009,
          2010,
          2011,
          2012,
          2013,
          2014,
          2015,
          2016,
          2017,
          2018,
          2019
         ],
         "xaxis": "x",
         "y": [
          1085341.125,
          1182455.75,
          1173581.875,
          1261324.375,
          1299351.25,
          1391712,
          1349881.875,
          1428767,
          1594763.125,
          1719783.125,
          1804728.625,
          1861601.125,
          2031704.875,
          2178264.75,
          2414971,
          2602347.25,
          2780601,
          3008488,
          3142030,
          3153668.75,
          3165272,
          3300483.75,
          3556377.75,
          3920962.75,
          4256331,
          4657186.5,
          4990733,
          5274995,
          5305999.5,
          5573186,
          5962253,
          6370915,
          6969823,
          7496914,
          8225812.5,
          9019761,
          9982318,
          10976751,
          11616248,
          12577917,
          13947309,
          14918415,
          15416000,
          16562428,
          17711682,
          18379366,
          19132416,
          19687162,
          19841296,
          20572606
         ],
         "yaxis": "y"
        }
       ],
       "layout": {
        "legend": {
         "tracegroupgap": 0
        },
        "template": {
         "data": {
          "bar": [
           {
            "error_x": {
             "color": "#2a3f5f"
            },
            "error_y": {
             "color": "#2a3f5f"
            },
            "marker": {
             "line": {
              "color": "#E5ECF6",
              "width": 0.5
             },
             "pattern": {
              "fillmode": "overlay",
              "size": 10,
              "solidity": 0.2
             }
            },
            "type": "bar"
           }
          ],
          "barpolar": [
           {
            "marker": {
             "line": {
              "color": "#E5ECF6",
              "width": 0.5
             },
             "pattern": {
              "fillmode": "overlay",
              "size": 10,
              "solidity": 0.2
             }
            },
            "type": "barpolar"
           }
          ],
          "carpet": [
           {
            "aaxis": {
             "endlinecolor": "#2a3f5f",
             "gridcolor": "white",
             "linecolor": "white",
             "minorgridcolor": "white",
             "startlinecolor": "#2a3f5f"
            },
            "baxis": {
             "endlinecolor": "#2a3f5f",
             "gridcolor": "white",
             "linecolor": "white",
             "minorgridcolor": "white",
             "startlinecolor": "#2a3f5f"
            },
            "type": "carpet"
           }
          ],
          "choropleth": [
           {
            "colorbar": {
             "outlinewidth": 0,
             "ticks": ""
            },
            "type": "choropleth"
           }
          ],
          "contour": [
           {
            "colorbar": {
             "outlinewidth": 0,
             "ticks": ""
            },
            "colorscale": [
             [
              0,
              "#0d0887"
             ],
             [
              0.1111111111111111,
              "#46039f"
             ],
             [
              0.2222222222222222,
              "#7201a8"
             ],
             [
              0.3333333333333333,
              "#9c179e"
             ],
             [
              0.4444444444444444,
              "#bd3786"
             ],
             [
              0.5555555555555556,
              "#d8576b"
             ],
             [
              0.6666666666666666,
              "#ed7953"
             ],
             [
              0.7777777777777778,
              "#fb9f3a"
             ],
             [
              0.8888888888888888,
              "#fdca26"
             ],
             [
              1,
              "#f0f921"
             ]
            ],
            "type": "contour"
           }
          ],
          "contourcarpet": [
           {
            "colorbar": {
             "outlinewidth": 0,
             "ticks": ""
            },
            "type": "contourcarpet"
           }
          ],
          "heatmap": [
           {
            "colorbar": {
             "outlinewidth": 0,
             "ticks": ""
            },
            "colorscale": [
             [
              0,
              "#0d0887"
             ],
             [
              0.1111111111111111,
              "#46039f"
             ],
             [
              0.2222222222222222,
              "#7201a8"
             ],
             [
              0.3333333333333333,
              "#9c179e"
             ],
             [
              0.4444444444444444,
              "#bd3786"
             ],
             [
              0.5555555555555556,
              "#d8576b"
             ],
             [
              0.6666666666666666,
              "#ed7953"
             ],
             [
              0.7777777777777778,
              "#fb9f3a"
             ],
             [
              0.8888888888888888,
              "#fdca26"
             ],
             [
              1,
              "#f0f921"
             ]
            ],
            "type": "heatmap"
           }
          ],
          "heatmapgl": [
           {
            "colorbar": {
             "outlinewidth": 0,
             "ticks": ""
            },
            "colorscale": [
             [
              0,
              "#0d0887"
             ],
             [
              0.1111111111111111,
              "#46039f"
             ],
             [
              0.2222222222222222,
              "#7201a8"
             ],
             [
              0.3333333333333333,
              "#9c179e"
             ],
             [
              0.4444444444444444,
              "#bd3786"
             ],
             [
              0.5555555555555556,
              "#d8576b"
             ],
             [
              0.6666666666666666,
              "#ed7953"
             ],
             [
              0.7777777777777778,
              "#fb9f3a"
             ],
             [
              0.8888888888888888,
              "#fdca26"
             ],
             [
              1,
              "#f0f921"
             ]
            ],
            "type": "heatmapgl"
           }
          ],
          "histogram": [
           {
            "marker": {
             "pattern": {
              "fillmode": "overlay",
              "size": 10,
              "solidity": 0.2
             }
            },
            "type": "histogram"
           }
          ],
          "histogram2d": [
           {
            "colorbar": {
             "outlinewidth": 0,
             "ticks": ""
            },
            "colorscale": [
             [
              0,
              "#0d0887"
             ],
             [
              0.1111111111111111,
              "#46039f"
             ],
             [
              0.2222222222222222,
              "#7201a8"
             ],
             [
              0.3333333333333333,
              "#9c179e"
             ],
             [
              0.4444444444444444,
              "#bd3786"
             ],
             [
              0.5555555555555556,
              "#d8576b"
             ],
             [
              0.6666666666666666,
              "#ed7953"
             ],
             [
              0.7777777777777778,
              "#fb9f3a"
             ],
             [
              0.8888888888888888,
              "#fdca26"
             ],
             [
              1,
              "#f0f921"
             ]
            ],
            "type": "histogram2d"
           }
          ],
          "histogram2dcontour": [
           {
            "colorbar": {
             "outlinewidth": 0,
             "ticks": ""
            },
            "colorscale": [
             [
              0,
              "#0d0887"
             ],
             [
              0.1111111111111111,
              "#46039f"
             ],
             [
              0.2222222222222222,
              "#7201a8"
             ],
             [
              0.3333333333333333,
              "#9c179e"
             ],
             [
              0.4444444444444444,
              "#bd3786"
             ],
             [
              0.5555555555555556,
              "#d8576b"
             ],
             [
              0.6666666666666666,
              "#ed7953"
             ],
             [
              0.7777777777777778,
              "#fb9f3a"
             ],
             [
              0.8888888888888888,
              "#fdca26"
             ],
             [
              1,
              "#f0f921"
             ]
            ],
            "type": "histogram2dcontour"
           }
          ],
          "mesh3d": [
           {
            "colorbar": {
             "outlinewidth": 0,
             "ticks": ""
            },
            "type": "mesh3d"
           }
          ],
          "parcoords": [
           {
            "line": {
             "colorbar": {
              "outlinewidth": 0,
              "ticks": ""
             }
            },
            "type": "parcoords"
           }
          ],
          "pie": [
           {
            "automargin": true,
            "type": "pie"
           }
          ],
          "scatter": [
           {
            "marker": {
             "colorbar": {
              "outlinewidth": 0,
              "ticks": ""
             }
            },
            "type": "scatter"
           }
          ],
          "scatter3d": [
           {
            "line": {
             "colorbar": {
              "outlinewidth": 0,
              "ticks": ""
             }
            },
            "marker": {
             "colorbar": {
              "outlinewidth": 0,
              "ticks": ""
             }
            },
            "type": "scatter3d"
           }
          ],
          "scattercarpet": [
           {
            "marker": {
             "colorbar": {
              "outlinewidth": 0,
              "ticks": ""
             }
            },
            "type": "scattercarpet"
           }
          ],
          "scattergeo": [
           {
            "marker": {
             "colorbar": {
              "outlinewidth": 0,
              "ticks": ""
             }
            },
            "type": "scattergeo"
           }
          ],
          "scattergl": [
           {
            "marker": {
             "colorbar": {
              "outlinewidth": 0,
              "ticks": ""
             }
            },
            "type": "scattergl"
           }
          ],
          "scattermapbox": [
           {
            "marker": {
             "colorbar": {
              "outlinewidth": 0,
              "ticks": ""
             }
            },
            "type": "scattermapbox"
           }
          ],
          "scatterpolar": [
           {
            "marker": {
             "colorbar": {
              "outlinewidth": 0,
              "ticks": ""
             }
            },
            "type": "scatterpolar"
           }
          ],
          "scatterpolargl": [
           {
            "marker": {
             "colorbar": {
              "outlinewidth": 0,
              "ticks": ""
             }
            },
            "type": "scatterpolargl"
           }
          ],
          "scatterternary": [
           {
            "marker": {
             "colorbar": {
              "outlinewidth": 0,
              "ticks": ""
             }
            },
            "type": "scatterternary"
           }
          ],
          "surface": [
           {
            "colorbar": {
             "outlinewidth": 0,
             "ticks": ""
            },
            "colorscale": [
             [
              0,
              "#0d0887"
             ],
             [
              0.1111111111111111,
              "#46039f"
             ],
             [
              0.2222222222222222,
              "#7201a8"
             ],
             [
              0.3333333333333333,
              "#9c179e"
             ],
             [
              0.4444444444444444,
              "#bd3786"
             ],
             [
              0.5555555555555556,
              "#d8576b"
             ],
             [
              0.6666666666666666,
              "#ed7953"
             ],
             [
              0.7777777777777778,
              "#fb9f3a"
             ],
             [
              0.8888888888888888,
              "#fdca26"
             ],
             [
              1,
              "#f0f921"
             ]
            ],
            "type": "surface"
           }
          ],
          "table": [
           {
            "cells": {
             "fill": {
              "color": "#EBF0F8"
             },
             "line": {
              "color": "white"
             }
            },
            "header": {
             "fill": {
              "color": "#C8D4E3"
             },
             "line": {
              "color": "white"
             }
            },
            "type": "table"
           }
          ]
         },
         "layout": {
          "annotationdefaults": {
           "arrowcolor": "#2a3f5f",
           "arrowhead": 0,
           "arrowwidth": 1
          },
          "autotypenumbers": "strict",
          "coloraxis": {
           "colorbar": {
            "outlinewidth": 0,
            "ticks": ""
           }
          },
          "colorscale": {
           "diverging": [
            [
             0,
             "#8e0152"
            ],
            [
             0.1,
             "#c51b7d"
            ],
            [
             0.2,
             "#de77ae"
            ],
            [
             0.3,
             "#f1b6da"
            ],
            [
             0.4,
             "#fde0ef"
            ],
            [
             0.5,
             "#f7f7f7"
            ],
            [
             0.6,
             "#e6f5d0"
            ],
            [
             0.7,
             "#b8e186"
            ],
            [
             0.8,
             "#7fbc41"
            ],
            [
             0.9,
             "#4d9221"
            ],
            [
             1,
             "#276419"
            ]
           ],
           "sequential": [
            [
             0,
             "#0d0887"
            ],
            [
             0.1111111111111111,
             "#46039f"
            ],
            [
             0.2222222222222222,
             "#7201a8"
            ],
            [
             0.3333333333333333,
             "#9c179e"
            ],
            [
             0.4444444444444444,
             "#bd3786"
            ],
            [
             0.5555555555555556,
             "#d8576b"
            ],
            [
             0.6666666666666666,
             "#ed7953"
            ],
            [
             0.7777777777777778,
             "#fb9f3a"
            ],
            [
             0.8888888888888888,
             "#fdca26"
            ],
            [
             1,
             "#f0f921"
            ]
           ],
           "sequentialminus": [
            [
             0,
             "#0d0887"
            ],
            [
             0.1111111111111111,
             "#46039f"
            ],
            [
             0.2222222222222222,
             "#7201a8"
            ],
            [
             0.3333333333333333,
             "#9c179e"
            ],
            [
             0.4444444444444444,
             "#bd3786"
            ],
            [
             0.5555555555555556,
             "#d8576b"
            ],
            [
             0.6666666666666666,
             "#ed7953"
            ],
            [
             0.7777777777777778,
             "#fb9f3a"
            ],
            [
             0.8888888888888888,
             "#fdca26"
            ],
            [
             1,
             "#f0f921"
            ]
           ]
          },
          "colorway": [
           "#636efa",
           "#EF553B",
           "#00cc96",
           "#ab63fa",
           "#FFA15A",
           "#19d3f3",
           "#FF6692",
           "#B6E880",
           "#FF97FF",
           "#FECB52"
          ],
          "font": {
           "color": "#2a3f5f"
          },
          "geo": {
           "bgcolor": "white",
           "lakecolor": "white",
           "landcolor": "#E5ECF6",
           "showlakes": true,
           "showland": true,
           "subunitcolor": "white"
          },
          "hoverlabel": {
           "align": "left"
          },
          "hovermode": "closest",
          "mapbox": {
           "style": "light"
          },
          "paper_bgcolor": "white",
          "plot_bgcolor": "#E5ECF6",
          "polar": {
           "angularaxis": {
            "gridcolor": "white",
            "linecolor": "white",
            "ticks": ""
           },
           "bgcolor": "#E5ECF6",
           "radialaxis": {
            "gridcolor": "white",
            "linecolor": "white",
            "ticks": ""
           }
          },
          "scene": {
           "xaxis": {
            "backgroundcolor": "#E5ECF6",
            "gridcolor": "white",
            "gridwidth": 2,
            "linecolor": "white",
            "showbackground": true,
            "ticks": "",
            "zerolinecolor": "white"
           },
           "yaxis": {
            "backgroundcolor": "#E5ECF6",
            "gridcolor": "white",
            "gridwidth": 2,
            "linecolor": "white",
            "showbackground": true,
            "ticks": "",
            "zerolinecolor": "white"
           },
           "zaxis": {
            "backgroundcolor": "#E5ECF6",
            "gridcolor": "white",
            "gridwidth": 2,
            "linecolor": "white",
            "showbackground": true,
            "ticks": "",
            "zerolinecolor": "white"
           }
          },
          "shapedefaults": {
           "line": {
            "color": "#2a3f5f"
           }
          },
          "ternary": {
           "aaxis": {
            "gridcolor": "white",
            "linecolor": "white",
            "ticks": ""
           },
           "baxis": {
            "gridcolor": "white",
            "linecolor": "white",
            "ticks": ""
           },
           "bgcolor": "#E5ECF6",
           "caxis": {
            "gridcolor": "white",
            "linecolor": "white",
            "ticks": ""
           }
          },
          "title": {
           "x": 0.05
          },
          "xaxis": {
           "automargin": true,
           "gridcolor": "white",
           "linecolor": "white",
           "ticks": "",
           "title": {
            "standoff": 15
           },
           "zerolinecolor": "white",
           "zerolinewidth": 2
          },
          "yaxis": {
           "automargin": true,
           "gridcolor": "white",
           "linecolor": "white",
           "ticks": "",
           "title": {
            "standoff": 15
           },
           "zerolinecolor": "white",
           "zerolinewidth": 2
          }
         }
        },
        "title": {
         "text": "China's production in 1970 to 2019"
        },
        "xaxis": {
         "anchor": "y",
         "domain": [
          0,
          1
         ],
         "title": {
          "text": "year"
         }
        },
        "yaxis": {
         "anchor": "x",
         "domain": [
          0,
          1
         ],
         "title": {
          "text": "production"
         }
        }
       }
      },
      "text/html": [
       "<div>                            <div id=\"60d8465e-fddc-478e-8647-88003b96ef20\" class=\"plotly-graph-div\" style=\"height:525px; width:100%;\"></div>            <script type=\"text/javascript\">                require([\"plotly\"], function(Plotly) {                    window.PLOTLYENV=window.PLOTLYENV || {};                                    if (document.getElementById(\"60d8465e-fddc-478e-8647-88003b96ef20\")) {                    Plotly.newPlot(                        \"60d8465e-fddc-478e-8647-88003b96ef20\",                        [{\"hovertemplate\":\"year=%{x}<br>production=%{y}<extra></extra>\",\"legendgroup\":\"\",\"line\":{\"color\":\"#636efa\",\"dash\":\"solid\"},\"marker\":{\"symbol\":\"circle\"},\"mode\":\"lines+markers\",\"name\":\"\",\"orientation\":\"v\",\"showlegend\":false,\"x\":[1970,1971,1972,1973,1974,1975,1976,1977,1978,1979,1980,1981,1982,1983,1984,1985,1986,1987,1988,1989,1990,1991,1992,1993,1994,1995,1996,1997,1998,1999,2000,2001,2002,2003,2004,2005,2006,2007,2008,2009,2010,2011,2012,2013,2014,2015,2016,2017,2018,2019],\"xaxis\":\"x\",\"y\":[1085341.125,1182455.75,1173581.875,1261324.375,1299351.25,1391712.0,1349881.875,1428767.0,1594763.125,1719783.125,1804728.625,1861601.125,2031704.875,2178264.75,2414971.0,2602347.25,2780601.0,3008488.0,3142030.0,3153668.75,3165272.0,3300483.75,3556377.75,3920962.75,4256331.0,4657186.5,4990733.0,5274995.0,5305999.5,5573186.0,5962253.0,6370915.0,6969823.0,7496914.0,8225812.5,9019761.0,9982318.0,10976751.0,11616248.0,12577917.0,13947309.0,14918415.0,15416000.0,16562428.0,17711682.0,18379366.0,19132416.0,19687162.0,19841296.0,20572606.0],\"yaxis\":\"y\",\"type\":\"scatter\"}],                        {\"template\":{\"data\":{\"bar\":[{\"error_x\":{\"color\":\"#2a3f5f\"},\"error_y\":{\"color\":\"#2a3f5f\"},\"marker\":{\"line\":{\"color\":\"#E5ECF6\",\"width\":0.5},\"pattern\":{\"fillmode\":\"overlay\",\"size\":10,\"solidity\":0.2}},\"type\":\"bar\"}],\"barpolar\":[{\"marker\":{\"line\":{\"color\":\"#E5ECF6\",\"width\":0.5},\"pattern\":{\"fillmode\":\"overlay\",\"size\":10,\"solidity\":0.2}},\"type\":\"barpolar\"}],\"carpet\":[{\"aaxis\":{\"endlinecolor\":\"#2a3f5f\",\"gridcolor\":\"white\",\"linecolor\":\"white\",\"minorgridcolor\":\"white\",\"startlinecolor\":\"#2a3f5f\"},\"baxis\":{\"endlinecolor\":\"#2a3f5f\",\"gridcolor\":\"white\",\"linecolor\":\"white\",\"minorgridcolor\":\"white\",\"startlinecolor\":\"#2a3f5f\"},\"type\":\"carpet\"}],\"choropleth\":[{\"colorbar\":{\"outlinewidth\":0,\"ticks\":\"\"},\"type\":\"choropleth\"}],\"contour\":[{\"colorbar\":{\"outlinewidth\":0,\"ticks\":\"\"},\"colorscale\":[[0.0,\"#0d0887\"],[0.1111111111111111,\"#46039f\"],[0.2222222222222222,\"#7201a8\"],[0.3333333333333333,\"#9c179e\"],[0.4444444444444444,\"#bd3786\"],[0.5555555555555556,\"#d8576b\"],[0.6666666666666666,\"#ed7953\"],[0.7777777777777778,\"#fb9f3a\"],[0.8888888888888888,\"#fdca26\"],[1.0,\"#f0f921\"]],\"type\":\"contour\"}],\"contourcarpet\":[{\"colorbar\":{\"outlinewidth\":0,\"ticks\":\"\"},\"type\":\"contourcarpet\"}],\"heatmap\":[{\"colorbar\":{\"outlinewidth\":0,\"ticks\":\"\"},\"colorscale\":[[0.0,\"#0d0887\"],[0.1111111111111111,\"#46039f\"],[0.2222222222222222,\"#7201a8\"],[0.3333333333333333,\"#9c179e\"],[0.4444444444444444,\"#bd3786\"],[0.5555555555555556,\"#d8576b\"],[0.6666666666666666,\"#ed7953\"],[0.7777777777777778,\"#fb9f3a\"],[0.8888888888888888,\"#fdca26\"],[1.0,\"#f0f921\"]],\"type\":\"heatmap\"}],\"heatmapgl\":[{\"colorbar\":{\"outlinewidth\":0,\"ticks\":\"\"},\"colorscale\":[[0.0,\"#0d0887\"],[0.1111111111111111,\"#46039f\"],[0.2222222222222222,\"#7201a8\"],[0.3333333333333333,\"#9c179e\"],[0.4444444444444444,\"#bd3786\"],[0.5555555555555556,\"#d8576b\"],[0.6666666666666666,\"#ed7953\"],[0.7777777777777778,\"#fb9f3a\"],[0.8888888888888888,\"#fdca26\"],[1.0,\"#f0f921\"]],\"type\":\"heatmapgl\"}],\"histogram\":[{\"marker\":{\"pattern\":{\"fillmode\":\"overlay\",\"size\":10,\"solidity\":0.2}},\"type\":\"histogram\"}],\"histogram2d\":[{\"colorbar\":{\"outlinewidth\":0,\"ticks\":\"\"},\"colorscale\":[[0.0,\"#0d0887\"],[0.1111111111111111,\"#46039f\"],[0.2222222222222222,\"#7201a8\"],[0.3333333333333333,\"#9c179e\"],[0.4444444444444444,\"#bd3786\"],[0.5555555555555556,\"#d8576b\"],[0.6666666666666666,\"#ed7953\"],[0.7777777777777778,\"#fb9f3a\"],[0.8888888888888888,\"#fdca26\"],[1.0,\"#f0f921\"]],\"type\":\"histogram2d\"}],\"histogram2dcontour\":[{\"colorbar\":{\"outlinewidth\":0,\"ticks\":\"\"},\"colorscale\":[[0.0,\"#0d0887\"],[0.1111111111111111,\"#46039f\"],[0.2222222222222222,\"#7201a8\"],[0.3333333333333333,\"#9c179e\"],[0.4444444444444444,\"#bd3786\"],[0.5555555555555556,\"#d8576b\"],[0.6666666666666666,\"#ed7953\"],[0.7777777777777778,\"#fb9f3a\"],[0.8888888888888888,\"#fdca26\"],[1.0,\"#f0f921\"]],\"type\":\"histogram2dcontour\"}],\"mesh3d\":[{\"colorbar\":{\"outlinewidth\":0,\"ticks\":\"\"},\"type\":\"mesh3d\"}],\"parcoords\":[{\"line\":{\"colorbar\":{\"outlinewidth\":0,\"ticks\":\"\"}},\"type\":\"parcoords\"}],\"pie\":[{\"automargin\":true,\"type\":\"pie\"}],\"scatter\":[{\"marker\":{\"colorbar\":{\"outlinewidth\":0,\"ticks\":\"\"}},\"type\":\"scatter\"}],\"scatter3d\":[{\"line\":{\"colorbar\":{\"outlinewidth\":0,\"ticks\":\"\"}},\"marker\":{\"colorbar\":{\"outlinewidth\":0,\"ticks\":\"\"}},\"type\":\"scatter3d\"}],\"scattercarpet\":[{\"marker\":{\"colorbar\":{\"outlinewidth\":0,\"ticks\":\"\"}},\"type\":\"scattercarpet\"}],\"scattergeo\":[{\"marker\":{\"colorbar\":{\"outlinewidth\":0,\"ticks\":\"\"}},\"type\":\"scattergeo\"}],\"scattergl\":[{\"marker\":{\"colorbar\":{\"outlinewidth\":0,\"ticks\":\"\"}},\"type\":\"scattergl\"}],\"scattermapbox\":[{\"marker\":{\"colorbar\":{\"outlinewidth\":0,\"ticks\":\"\"}},\"type\":\"scattermapbox\"}],\"scatterpolar\":[{\"marker\":{\"colorbar\":{\"outlinewidth\":0,\"ticks\":\"\"}},\"type\":\"scatterpolar\"}],\"scatterpolargl\":[{\"marker\":{\"colorbar\":{\"outlinewidth\":0,\"ticks\":\"\"}},\"type\":\"scatterpolargl\"}],\"scatterternary\":[{\"marker\":{\"colorbar\":{\"outlinewidth\":0,\"ticks\":\"\"}},\"type\":\"scatterternary\"}],\"surface\":[{\"colorbar\":{\"outlinewidth\":0,\"ticks\":\"\"},\"colorscale\":[[0.0,\"#0d0887\"],[0.1111111111111111,\"#46039f\"],[0.2222222222222222,\"#7201a8\"],[0.3333333333333333,\"#9c179e\"],[0.4444444444444444,\"#bd3786\"],[0.5555555555555556,\"#d8576b\"],[0.6666666666666666,\"#ed7953\"],[0.7777777777777778,\"#fb9f3a\"],[0.8888888888888888,\"#fdca26\"],[1.0,\"#f0f921\"]],\"type\":\"surface\"}],\"table\":[{\"cells\":{\"fill\":{\"color\":\"#EBF0F8\"},\"line\":{\"color\":\"white\"}},\"header\":{\"fill\":{\"color\":\"#C8D4E3\"},\"line\":{\"color\":\"white\"}},\"type\":\"table\"}]},\"layout\":{\"annotationdefaults\":{\"arrowcolor\":\"#2a3f5f\",\"arrowhead\":0,\"arrowwidth\":1},\"autotypenumbers\":\"strict\",\"coloraxis\":{\"colorbar\":{\"outlinewidth\":0,\"ticks\":\"\"}},\"colorscale\":{\"diverging\":[[0,\"#8e0152\"],[0.1,\"#c51b7d\"],[0.2,\"#de77ae\"],[0.3,\"#f1b6da\"],[0.4,\"#fde0ef\"],[0.5,\"#f7f7f7\"],[0.6,\"#e6f5d0\"],[0.7,\"#b8e186\"],[0.8,\"#7fbc41\"],[0.9,\"#4d9221\"],[1,\"#276419\"]],\"sequential\":[[0.0,\"#0d0887\"],[0.1111111111111111,\"#46039f\"],[0.2222222222222222,\"#7201a8\"],[0.3333333333333333,\"#9c179e\"],[0.4444444444444444,\"#bd3786\"],[0.5555555555555556,\"#d8576b\"],[0.6666666666666666,\"#ed7953\"],[0.7777777777777778,\"#fb9f3a\"],[0.8888888888888888,\"#fdca26\"],[1.0,\"#f0f921\"]],\"sequentialminus\":[[0.0,\"#0d0887\"],[0.1111111111111111,\"#46039f\"],[0.2222222222222222,\"#7201a8\"],[0.3333333333333333,\"#9c179e\"],[0.4444444444444444,\"#bd3786\"],[0.5555555555555556,\"#d8576b\"],[0.6666666666666666,\"#ed7953\"],[0.7777777777777778,\"#fb9f3a\"],[0.8888888888888888,\"#fdca26\"],[1.0,\"#f0f921\"]]},\"colorway\":[\"#636efa\",\"#EF553B\",\"#00cc96\",\"#ab63fa\",\"#FFA15A\",\"#19d3f3\",\"#FF6692\",\"#B6E880\",\"#FF97FF\",\"#FECB52\"],\"font\":{\"color\":\"#2a3f5f\"},\"geo\":{\"bgcolor\":\"white\",\"lakecolor\":\"white\",\"landcolor\":\"#E5ECF6\",\"showlakes\":true,\"showland\":true,\"subunitcolor\":\"white\"},\"hoverlabel\":{\"align\":\"left\"},\"hovermode\":\"closest\",\"mapbox\":{\"style\":\"light\"},\"paper_bgcolor\":\"white\",\"plot_bgcolor\":\"#E5ECF6\",\"polar\":{\"angularaxis\":{\"gridcolor\":\"white\",\"linecolor\":\"white\",\"ticks\":\"\"},\"bgcolor\":\"#E5ECF6\",\"radialaxis\":{\"gridcolor\":\"white\",\"linecolor\":\"white\",\"ticks\":\"\"}},\"scene\":{\"xaxis\":{\"backgroundcolor\":\"#E5ECF6\",\"gridcolor\":\"white\",\"gridwidth\":2,\"linecolor\":\"white\",\"showbackground\":true,\"ticks\":\"\",\"zerolinecolor\":\"white\"},\"yaxis\":{\"backgroundcolor\":\"#E5ECF6\",\"gridcolor\":\"white\",\"gridwidth\":2,\"linecolor\":\"white\",\"showbackground\":true,\"ticks\":\"\",\"zerolinecolor\":\"white\"},\"zaxis\":{\"backgroundcolor\":\"#E5ECF6\",\"gridcolor\":\"white\",\"gridwidth\":2,\"linecolor\":\"white\",\"showbackground\":true,\"ticks\":\"\",\"zerolinecolor\":\"white\"}},\"shapedefaults\":{\"line\":{\"color\":\"#2a3f5f\"}},\"ternary\":{\"aaxis\":{\"gridcolor\":\"white\",\"linecolor\":\"white\",\"ticks\":\"\"},\"baxis\":{\"gridcolor\":\"white\",\"linecolor\":\"white\",\"ticks\":\"\"},\"bgcolor\":\"#E5ECF6\",\"caxis\":{\"gridcolor\":\"white\",\"linecolor\":\"white\",\"ticks\":\"\"}},\"title\":{\"x\":0.05},\"xaxis\":{\"automargin\":true,\"gridcolor\":\"white\",\"linecolor\":\"white\",\"ticks\":\"\",\"title\":{\"standoff\":15},\"zerolinecolor\":\"white\",\"zerolinewidth\":2},\"yaxis\":{\"automargin\":true,\"gridcolor\":\"white\",\"linecolor\":\"white\",\"ticks\":\"\",\"title\":{\"standoff\":15},\"zerolinecolor\":\"white\",\"zerolinewidth\":2}}},\"xaxis\":{\"anchor\":\"y\",\"domain\":[0.0,1.0],\"title\":{\"text\":\"year\"}},\"yaxis\":{\"anchor\":\"x\",\"domain\":[0.0,1.0],\"title\":{\"text\":\"production\"}},\"legend\":{\"tracegroupgap\":0},\"title\":{\"text\":\"China's production in 1970 to 2019\"}},                        {\"responsive\": true}                    ).then(function(){\n",
       "                            \n",
       "var gd = document.getElementById('60d8465e-fddc-478e-8647-88003b96ef20');\n",
       "var x = new MutationObserver(function (mutations, observer) {{\n",
       "        var display = window.getComputedStyle(gd).display;\n",
       "        if (!display || display === 'none') {{\n",
       "            console.log([gd, 'removed!']);\n",
       "            Plotly.purge(gd);\n",
       "            observer.disconnect();\n",
       "        }}\n",
       "}});\n",
       "\n",
       "// Listen for the removal of the full notebook cells\n",
       "var notebookContainer = gd.closest('#notebook-container');\n",
       "if (notebookContainer) {{\n",
       "    x.observe(notebookContainer, {childList: true});\n",
       "}}\n",
       "\n",
       "// Listen for the clearing of the current output cell\n",
       "var outputEl = gd.closest('.output');\n",
       "if (outputEl) {{\n",
       "    x.observe(outputEl, {childList: true});\n",
       "}}\n",
       "\n",
       "                        })                };                });            </script>        </div>"
      ]
     },
     "metadata": {},
     "output_type": "display_data"
    }
   ],
   "source": [
    "graph()"
   ]
  },
  {
   "cell_type": "code",
   "execution_count": null,
   "id": "f544ea98",
   "metadata": {},
   "outputs": [],
   "source": []
  }
 ],
 "metadata": {
  "kernelspec": {
   "display_name": "Python 3 (ipykernel)",
   "language": "python",
   "name": "python3"
  },
  "language_info": {
   "codemirror_mode": {
    "name": "ipython",
    "version": 3
   },
   "file_extension": ".py",
   "mimetype": "text/x-python",
   "name": "python",
   "nbconvert_exporter": "python",
   "pygments_lexer": "ipython3",
   "version": "3.9.12"
  }
 },
 "nbformat": 4,
 "nbformat_minor": 5
}
